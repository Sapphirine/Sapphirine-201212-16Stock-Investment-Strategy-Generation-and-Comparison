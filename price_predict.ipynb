<<<<<<< HEAD
{
 "cells": [
  {
   "cell_type": "code",
   "execution_count": 87,
   "metadata": {
    "colab": {
     "base_uri": "https://localhost:8080/"
    },
    "executionInfo": {
     "elapsed": 867,
     "status": "ok",
     "timestamp": 1639988288464,
     "user": {
      "displayName": "Yiyang Ni",
      "photoUrl": "https://lh3.googleusercontent.com/a/default-user=s64",
      "userId": "18337963620013696405"
     },
     "user_tz": 300
    },
    "id": "jXIBPDgNlX9T",
    "outputId": "50fb2691-9b7d-44ee-f264-1c10fa6ab0f7"
   },
   "outputs": [
    {
     "name": "stdout",
     "output_type": "stream",
     "text": [
      "Drive already mounted at /content/drive; to attempt to forcibly remount, call drive.mount(\"/content/drive\", force_remount=True).\n"
     ]
    }
   ],
   "source": [
    "from google.colab import drive\n",
    "drive.mount('/content/drive')"
   ]
  },
  {
   "cell_type": "code",
   "execution_count": 88,
   "metadata": {
    "colab": {
     "base_uri": "https://localhost:8080/"
    },
    "executionInfo": {
     "elapsed": 29969,
     "status": "ok",
     "timestamp": 1639988318432,
     "user": {
      "displayName": "Yiyang Ni",
      "photoUrl": "https://lh3.googleusercontent.com/a/default-user=s64",
      "userId": "18337963620013696405"
     },
     "user_tz": 300
    },
    "id": "7Yj6np8-ldlC",
    "outputId": "a4943f1d-26fa-4b9a-c2a0-25de7090cad9"
   },
   "outputs": [
    {
     "name": "stdout",
     "output_type": "stream",
     "text": [
      "Hit:1 https://cloud.r-project.org/bin/linux/ubuntu bionic-cran40/ InRelease\n",
      "Ign:2 https://developer.download.nvidia.com/compute/cuda/repos/ubuntu1804/x86_64  InRelease\n",
      "Ign:3 https://developer.download.nvidia.com/compute/machine-learning/repos/ubuntu1804/x86_64  InRelease\n",
      "Hit:4 https://developer.download.nvidia.com/compute/cuda/repos/ubuntu1804/x86_64  Release\n",
      "Hit:5 https://developer.download.nvidia.com/compute/machine-learning/repos/ubuntu1804/x86_64  Release\n",
      "Hit:6 http://archive.ubuntu.com/ubuntu bionic InRelease\n",
      "Get:7 http://security.ubuntu.com/ubuntu bionic-security InRelease [88.7 kB]\n",
      "Hit:8 http://ppa.launchpad.net/c2d4u.team/c2d4u4.0+/ubuntu bionic InRelease\n",
      "Get:9 http://archive.ubuntu.com/ubuntu bionic-updates InRelease [88.7 kB]\n",
      "Hit:12 http://ppa.launchpad.net/cran/libgit2/ubuntu bionic InRelease\n",
      "Hit:13 http://ppa.launchpad.net/deadsnakes/ppa/ubuntu bionic InRelease\n",
      "Get:14 http://archive.ubuntu.com/ubuntu bionic-backports InRelease [74.6 kB]\n",
      "Hit:15 http://ppa.launchpad.net/graphics-drivers/ppa/ubuntu bionic InRelease\n",
      "Fetched 252 kB in 2s (121 kB/s)\n",
      "Reading package lists... Done\n",
      "Reading package lists... Done\n",
      "Building dependency tree       \n",
      "Reading state information... Done\n",
      "openjdk-8-jre is already the newest version (8u312-b07-0ubuntu1~18.04).\n",
      "0 upgraded, 0 newly installed, 0 to remove and 82 not upgraded.\n",
      "Reading package lists... Done\n",
      "Building dependency tree       \n",
      "Reading state information... Done\n",
      "scala is already the newest version (2.11.12-4~18.04).\n",
      "0 upgraded, 0 newly installed, 0 to remove and 82 not upgraded.\n",
      "Requirement already satisfied: py4j in /usr/local/lib/python3.7/dist-packages (0.10.9.3)\n"
     ]
    }
   ],
   "source": [
    "!apt-get update\n",
    "!apt-get install openjdk-8-jre\n",
    "!apt-get install scala\n",
    "!pip install py4j\n",
    "!wget -q https://downloads.apache.org/spark/spark-3.1.2/spark-3.1.2-bin-hadoop3.2.tgz\n",
    "!tar xf spark-3.1.2-bin-hadoop3.2.tgz\n",
    "!pip install -q findspark"
   ]
  },
  {
   "cell_type": "code",
   "execution_count": 89,
   "metadata": {
    "colab": {
     "base_uri": "https://localhost:8080/"
    },
    "executionInfo": {
     "elapsed": 176,
     "status": "ok",
     "timestamp": 1639988318602,
     "user": {
      "displayName": "Yiyang Ni",
      "photoUrl": "https://lh3.googleusercontent.com/a/default-user=s64",
      "userId": "18337963620013696405"
     },
     "user_tz": 300
    },
    "id": "P6fsQ_gtlsEm",
    "outputId": "5b96a79f-1b65-44c1-9282-45fe9ed7cd04"
   },
   "outputs": [
    {
     "name": "stdout",
     "output_type": "stream",
     "text": [
      "rm: cannot remove '*.zip': No such file or directory\n",
      "rm: cannot remove 'sample_data': No such file or directory\n",
      "drive  spark-3.1.2-bin-hadoop3.2\n"
     ]
    }
   ],
   "source": [
    "!rm -r *.tgz *.zip sample_data\n",
    "!ls"
   ]
  },
  {
   "cell_type": "code",
   "execution_count": 90,
   "metadata": {
    "executionInfo": {
     "elapsed": 1,
     "status": "ok",
     "timestamp": 1639988318602,
     "user": {
      "displayName": "Yiyang Ni",
      "photoUrl": "https://lh3.googleusercontent.com/a/default-user=s64",
      "userId": "18337963620013696405"
     },
     "user_tz": 300
    },
    "id": "V_n0uYRtlu7f"
   },
   "outputs": [],
   "source": [
    "import os\n",
    "os.environ[\"JAVA_HOME\"] = \"/usr/lib/jvm/java-8-openjdk-amd64\"\n",
    "os.environ[\"SPARK_HOME\"] = \"/content/spark-3.1.2-bin-hadoop3.2\"\n"
   ]
  },
  {
   "cell_type": "code",
   "execution_count": 91,
   "metadata": {
    "colab": {
     "base_uri": "https://localhost:8080/"
    },
    "executionInfo": {
     "elapsed": 7896,
     "status": "ok",
     "timestamp": 1639988326497,
     "user": {
      "displayName": "Yiyang Ni",
      "photoUrl": "https://lh3.googleusercontent.com/a/default-user=s64",
      "userId": "18337963620013696405"
     },
     "user_tz": 300
    },
    "id": "3jSijTWngMfm",
    "outputId": "cb353a38-d81f-4b1d-8fa6-04e2c4f7a098"
   },
   "outputs": [
    {
     "name": "stdout",
     "output_type": "stream",
     "text": [
      "\r",
      "0% [Working]\r",
      "            \r",
      "Ign:1 https://developer.download.nvidia.com/compute/cuda/repos/ubuntu1804/x86_64  InRelease\n",
      "\r",
      "0% [Connecting to archive.ubuntu.com] [Connecting to security.ubuntu.com] [Conn\r",
      "                                                                               \r",
      "Ign:2 https://developer.download.nvidia.com/compute/machine-learning/repos/ubuntu1804/x86_64  InRelease\n",
      "\r",
      "0% [Connecting to archive.ubuntu.com] [Connecting to security.ubuntu.com] [Conn\r",
      "                                                                               \r",
      "Hit:3 https://developer.download.nvidia.com/compute/cuda/repos/ubuntu1804/x86_64  Release\n",
      "\r",
      "0% [Connecting to archive.ubuntu.com (91.189.88.152)] [Connecting to security.u\r",
      "                                                                               \r",
      "Hit:4 https://cloud.r-project.org/bin/linux/ubuntu bionic-cran40/ InRelease\n",
      "Hit:5 https://developer.download.nvidia.com/compute/machine-learning/repos/ubuntu1804/x86_64  Release\n",
      "Hit:6 http://ppa.launchpad.net/c2d4u.team/c2d4u4.0+/ubuntu bionic InRelease\n",
      "Get:7 http://security.ubuntu.com/ubuntu bionic-security InRelease [88.7 kB]\n",
      "Hit:8 http://archive.ubuntu.com/ubuntu bionic InRelease\n",
      "Get:10 http://archive.ubuntu.com/ubuntu bionic-updates InRelease [88.7 kB]\n",
      "Hit:11 http://ppa.launchpad.net/cran/libgit2/ubuntu bionic InRelease\n",
      "Hit:12 http://ppa.launchpad.net/deadsnakes/ppa/ubuntu bionic InRelease\n",
      "Get:14 http://archive.ubuntu.com/ubuntu bionic-backports InRelease [74.6 kB]\n",
      "Hit:15 http://ppa.launchpad.net/graphics-drivers/ppa/ubuntu bionic InRelease\n",
      "Fetched 252 kB in 3s (77.6 kB/s)\n",
      "Reading package lists... Done\n"
     ]
    }
   ],
   "source": [
    "!apt-get update\n",
    "!apt-get install openjdk-8-jdk-headless -qq    "
   ]
  },
  {
   "cell_type": "code",
   "execution_count": 92,
   "metadata": {
    "executionInfo": {
     "elapsed": 9,
     "status": "ok",
     "timestamp": 1639988326497,
     "user": {
      "displayName": "Yiyang Ni",
      "photoUrl": "https://lh3.googleusercontent.com/a/default-user=s64",
      "userId": "18337963620013696405"
     },
     "user_tz": 300
    },
    "id": "eratjFXFlxvn"
   },
   "outputs": [],
   "source": [
    "import findspark\n",
    "findspark.init()\n",
    "import pandas as pd\n",
    "\n",
    "from pyspark.sql import SparkSession, Window\n",
    "from pyspark.sql.functions import col, pandas_udf\n",
    "from pyspark.sql.types import *\n",
    "\n",
    "# spark = SparkSession.builder.master(\"local[*]\").getOrCreate()\n",
    "spark = SparkSession.builder.appName(\"Test Setup\").getOrCreate()\n",
    "spark.conf.set(\"spark.sql.execution.arrow.pyspark.enabled\", \"true\")\n",
    "sc = spark.sparkContext"
   ]
  },
  {
   "cell_type": "code",
   "execution_count": 93,
   "metadata": {
    "executionInfo": {
     "elapsed": 9,
     "status": "ok",
     "timestamp": 1639988326497,
     "user": {
      "displayName": "Yiyang Ni",
      "photoUrl": "https://lh3.googleusercontent.com/a/default-user=s64",
      "userId": "18337963620013696405"
     },
     "user_tz": 300
    },
    "id": "zopWlJUyl0JH"
   },
   "outputs": [],
   "source": [
    "import sys\n",
    "\n",
    "sys.path.append('/content/drive/My Drive/Colab Notebooks/6893project/.')\n"
   ]
  },
  {
   "cell_type": "code",
   "execution_count": 94,
   "metadata": {
    "executionInfo": {
     "elapsed": 9,
     "status": "ok",
     "timestamp": 1639988326498,
     "user": {
      "displayName": "Yiyang Ni",
      "photoUrl": "https://lh3.googleusercontent.com/a/default-user=s64",
      "userId": "18337963620013696405"
     },
     "user_tz": 300
    },
    "id": "P9brFKLfl2su"
   },
   "outputs": [],
   "source": [
    "\n",
    "import os\n",
    "from time import time"
   ]
  },
  {
   "cell_type": "code",
   "execution_count": 94,
   "metadata": {
    "executionInfo": {
     "elapsed": 9,
     "status": "ok",
     "timestamp": 1639988326498,
     "user": {
      "displayName": "Yiyang Ni",
      "photoUrl": "https://lh3.googleusercontent.com/a/default-user=s64",
      "userId": "18337963620013696405"
     },
     "user_tz": 300
    },
    "id": "X0vreAm0K2ro"
   },
   "outputs": [],
   "source": []
  },
  {
   "cell_type": "code",
   "execution_count": 95,
   "metadata": {
    "executionInfo": {
     "elapsed": 20743,
     "status": "ok",
     "timestamp": 1639988347232,
     "user": {
      "displayName": "Yiyang Ni",
      "photoUrl": "https://lh3.googleusercontent.com/a/default-user=s64",
      "userId": "18337963620013696405"
     },
     "user_tz": 300
    },
    "id": "U4YQS4xCl7Qy"
   },
   "outputs": [],
   "source": [
    "path = '/content/drive/My Drive/Colab Notebooks/6893project/data/'\n",
    "all_close_file = path + 'df_all_close_price.csv'\n",
    "timelist_m_file = path + 'timelist_m.csv'\n",
    "all_close = spark.read.csv(\n",
    "    all_close_file, \n",
    "    header=True,\n",
    "    inferSchema = True\n",
    ")\n",
    "# all_close.printSchema()"
   ]
  },
  {
   "cell_type": "code",
   "execution_count": 96,
   "metadata": {
    "colab": {
     "base_uri": "https://localhost:8080/"
    },
    "executionInfo": {
     "elapsed": 197,
     "status": "ok",
     "timestamp": 1639988347422,
     "user": {
      "displayName": "Yiyang Ni",
      "photoUrl": "https://lh3.googleusercontent.com/a/default-user=s64",
      "userId": "18337963620013696405"
     },
     "user_tz": 300
    },
    "id": "3kkxrzclyRRW",
    "outputId": "55dc28e2-dd8b-4471-f4c2-4cd38998667e"
   },
   "outputs": [
    {
     "name": "stdout",
     "output_type": "stream",
     "text": [
      "root\n",
      " |-- date: string (nullable = true)\n",
      "\n",
      "+----------+\n",
      "|      date|\n",
      "+----------+\n",
      "|2010-01-29|\n",
      "|2010-02-26|\n",
      "|2010-03-31|\n",
      "|2010-04-30|\n",
      "|2010-05-31|\n",
      "+----------+\n",
      "only showing top 5 rows\n",
      "\n"
     ]
    }
   ],
   "source": [
    "timelist_m = spark.read.csv(\n",
    "    timelist_m_file, \n",
    "    header=False,\n",
    "    inferSchema = True\n",
    ")\n",
    "\n",
    "\n",
    "timelist_m = timelist_m.withColumnRenamed('_c0', 'date')\n",
    "timelist_m.printSchema()\n",
    "timelist_m.show(5)"
   ]
  },
  {
   "cell_type": "code",
   "execution_count": 96,
   "metadata": {
    "executionInfo": {
     "elapsed": 3,
     "status": "ok",
     "timestamp": 1639988347422,
     "user": {
      "displayName": "Yiyang Ni",
      "photoUrl": "https://lh3.googleusercontent.com/a/default-user=s64",
      "userId": "18337963620013696405"
     },
     "user_tz": 300
    },
    "id": "RANmHw-XnfLX"
   },
   "outputs": [],
   "source": []
  },
  {
   "cell_type": "code",
   "execution_count": 97,
   "metadata": {
    "colab": {
     "base_uri": "https://localhost:8080/"
    },
    "executionInfo": {
     "elapsed": 2,
     "status": "ok",
     "timestamp": 1639988347422,
     "user": {
      "displayName": "Yiyang Ni",
      "photoUrl": "https://lh3.googleusercontent.com/a/default-user=s64",
      "userId": "18337963620013696405"
     },
     "user_tz": 300
    },
    "id": "8gWGKjhemWgv",
    "outputId": "e537e936-ddb3-40b8-99ee-2784988c1424"
   },
   "outputs": [
    {
     "name": "stdout",
     "output_type": "stream",
     "text": [
      "root\n",
      " |-- trade_dt: string (nullable = true)\n",
      " |-- stcode: integer (nullable = true)\n",
      " |-- scale: double (nullable = true)\n",
      " |-- valuation: double (nullable = true)\n",
      " |-- dividends: double (nullable = true)\n",
      " |-- proficiency: double (nullable = true)\n",
      " |-- quality: double (nullable = true)\n",
      " |-- growth: double (nullable = true)\n",
      " |-- reverse: double (nullable = true)\n",
      " |-- volatility: double (nullable = true)\n",
      " |-- fluidity: double (nullable = true)\n",
      " |-- analyze: double (nullable = true)\n",
      " |-- post_adjust_close: double (nullable = true)\n",
      " |-- next_month_price: double (nullable = true)\n",
      " |-- next_monthly_change: double (nullable = true)\n",
      " |-- next_day_price: double (nullable = true)\n",
      " |-- next_day_change: double (nullable = true)\n",
      " |-- next_monthly_change_rank: double (nullable = true)\n",
      " |-- flag: double (nullable = true)\n",
      "\n"
     ]
    }
   ],
   "source": [
    "all_close = all_close.withColumnRenamed(\"规模\", \"scale\").withColumnRenamed(\"估值\", \"valuation\").withColumnRenamed(\"分红\", \"dividends\")\\\n",
    "  .withColumnRenamed(\"盈利\", \"proficiency\").withColumnRenamed(\"财务质量\", \"quality\").withColumnRenamed(\"成长\", \"growth\")\\\n",
    "  .withColumnRenamed(\"反转\", \"reverse\").withColumnRenamed(\"波动率\", \"volatility\").withColumnRenamed(\"流动性\", \"fluidity\")\\\n",
    "  .withColumnRenamed(\"分析师预期变化\", \"analyze\")\n",
    "\n",
    "all_close.printSchema()"
   ]
  },
  {
   "cell_type": "code",
   "execution_count": 98,
   "metadata": {
    "executionInfo": {
     "elapsed": 146,
     "status": "ok",
     "timestamp": 1639988347567,
     "user": {
      "displayName": "Yiyang Ni",
      "photoUrl": "https://lh3.googleusercontent.com/a/default-user=s64",
      "userId": "18337963620013696405"
     },
     "user_tz": 300
    },
    "id": "1sLTtFuIokJz"
   },
   "outputs": [],
   "source": [
    "all = all_close.filter(all_close.scale<1000)\n",
    "# all.show(20)"
   ]
  },
  {
   "cell_type": "code",
   "execution_count": 99,
   "metadata": {
    "executionInfo": {
     "elapsed": 9,
     "status": "ok",
     "timestamp": 1639988347568,
     "user": {
      "displayName": "Yiyang Ni",
      "photoUrl": "https://lh3.googleusercontent.com/a/default-user=s64",
      "userId": "18337963620013696405"
     },
     "user_tz": 300
    },
    "id": "xDl0zLUywZQk"
   },
   "outputs": [],
   "source": [
    "temp = all.filter(all.stcode==1)\n",
    "# temp.show(20)"
   ]
  },
  {
   "cell_type": "code",
   "execution_count": 100,
   "metadata": {
    "colab": {
     "base_uri": "https://localhost:8080/"
    },
    "executionInfo": {
     "elapsed": 9,
     "status": "ok",
     "timestamp": 1639988347568,
     "user": {
      "displayName": "Yiyang Ni",
      "photoUrl": "https://lh3.googleusercontent.com/a/default-user=s64",
      "userId": "18337963620013696405"
     },
     "user_tz": 300
    },
    "id": "V_lloGFzsfnK",
    "outputId": "3e856566-85fe-4c7b-dc60-de9483f52e81"
   },
   "outputs": [
    {
     "name": "stdout",
     "output_type": "stream",
     "text": [
      "root\n",
      " |-- trade_dt: string (nullable = true)\n",
      " |-- stcode: integer (nullable = true)\n",
      " |-- scale: double (nullable = true)\n",
      " |-- valuation: double (nullable = true)\n",
      " |-- dividends: double (nullable = true)\n",
      " |-- proficiency: double (nullable = true)\n",
      " |-- quality: double (nullable = true)\n",
      " |-- growth: double (nullable = true)\n",
      " |-- reverse: double (nullable = true)\n",
      " |-- volatility: double (nullable = true)\n",
      " |-- fluidity: double (nullable = true)\n",
      " |-- analyze: double (nullable = true)\n",
      "\n"
     ]
    }
   ],
   "source": [
    "coef = all.select(\"trade_dt\", \"stcode\", \"scale\", \"valuation\", \"dividends\", \"proficiency\", \"quality\", \"growth\", \"reverse\", \"volatility\", \"fluidity\", \"analyze\")\n",
    "coef.printSchema()"
   ]
  },
  {
   "cell_type": "code",
   "execution_count": 101,
   "metadata": {
    "executionInfo": {
     "elapsed": 4,
     "status": "ok",
     "timestamp": 1639988347568,
     "user": {
      "displayName": "Yiyang Ni",
      "photoUrl": "https://lh3.googleusercontent.com/a/default-user=s64",
      "userId": "18337963620013696405"
     },
     "user_tz": 300
    },
    "id": "L2B6tB-80qu7"
   },
   "outputs": [],
   "source": [
    "# timelist_m.show(5)\n",
    "timelist_m = timelist_m.toPandas()\n"
   ]
  },
  {
   "cell_type": "code",
   "execution_count": 102,
   "metadata": {
    "colab": {
     "base_uri": "https://localhost:8080/"
    },
    "executionInfo": {
     "elapsed": 5,
     "status": "ok",
     "timestamp": 1639988347569,
     "user": {
      "displayName": "Yiyang Ni",
      "photoUrl": "https://lh3.googleusercontent.com/a/default-user=s64",
      "userId": "18337963620013696405"
     },
     "user_tz": 300
    },
    "id": "Zbdcyqvl05GO",
    "outputId": "459ad7e9-624e-4bd9-e987-1d9e71870d01"
   },
   "outputs": [
    {
     "name": "stdout",
     "output_type": "stream",
     "text": [
      "2010-01-29\n"
     ]
    }
   ],
   "source": [
    "print(timelist_m['date'][0])"
   ]
  },
  {
   "cell_type": "code",
   "execution_count": 103,
   "metadata": {
    "executionInfo": {
     "elapsed": 4,
     "status": "ok",
     "timestamp": 1639988347569,
     "user": {
      "displayName": "Yiyang Ni",
      "photoUrl": "https://lh3.googleusercontent.com/a/default-user=s64",
      "userId": "18337963620013696405"
     },
     "user_tz": 300
    },
    "id": "NWuxv59iemVC"
   },
   "outputs": [],
   "source": [
    "facktor_list = [\"trade_dt\", \"scale\", \"valuation\", \"dividends\", \"proficiency\", \"quality\", \"growth\", \"reverse\", \"volatility\", \"fluidity\", \"analyze\"]\n",
    "def norm(pdf):\n",
    "  temp = pdf[facktor_list]\n",
    "  mean = temp.mean()\n",
    "  std = temp.std()\n",
    "  return pdf.assign(temp=(temp-mean)/std)\n"
   ]
  },
  {
   "cell_type": "code",
   "execution_count": 104,
   "metadata": {
    "colab": {
     "base_uri": "https://localhost:8080/"
    },
    "executionInfo": {
     "elapsed": 9450,
     "status": "ok",
     "timestamp": 1639988357016,
     "user": {
      "displayName": "Yiyang Ni",
      "photoUrl": "https://lh3.googleusercontent.com/a/default-user=s64",
      "userId": "18337963620013696405"
     },
     "user_tz": 300
    },
    "id": "LGdYBpNFx61E",
    "outputId": "38136316-471a-4b4c-e275-4c4ab3724e8b"
   },
   "outputs": [
    {
     "name": "stdout",
     "output_type": "stream",
     "text": [
      "+----------+------+--------------------+--------------------+-------------------+-------------------+--------------------+-------------------+--------------------+--------------------+-------------------+--------------------+-----------------+----------------+--------------------+--------------+--------------------+------------------------+----+\n",
      "|  trade_dt|stcode|               scale|           valuation|          dividends|        proficiency|             quality|             growth|             reverse|          volatility|           fluidity|             analyze|post_adjust_close|next_month_price| next_monthly_change|next_day_price|     next_day_change|next_monthly_change_rank|flag|\n",
      "+----------+------+--------------------+--------------------+-------------------+-------------------+--------------------+-------------------+--------------------+--------------------+-------------------+--------------------+-----------------+----------------+--------------------+--------------+--------------------+------------------------+----+\n",
      "|2010-01-29|     2|  0.4232251014006718|    4.13613855469809|-0.4687203752225284| -4.423291991161205| -0.5654892428793384|-1.4491373829709566|  -1.358205384387155|  -4.488858954413238| 1.6877473332905018| -0.6808562212403357|             9.34|            9.43|0.009635974304068595|          9.41|0.007494646680942241|                   260.0|-1.0|\n",
      "|2010-01-29|     9|  1.7335277341300468| -0.5455747690647423|-0.4306288451097649| 0.6054506702660191|  0.3623498860056324|  -4.05304023433607| -0.7990783974170315|0.060126158898430725| 2.1909745822935536|  -1.258031609799084|            10.43|           11.31| 0.08437200383509125|         10.46|0.002876318312559...|                  1014.0| 1.0|\n",
      "|2010-01-29|    19| -3.2061533813105965| -1.5417853064974965|-0.4659456117566935|-0.2641487000206896| -1.0306626498411997|-1.3744167400915628|  1.3990370413121005|  3.9042386733780416| 0.5084086559908485| -1.4639257928224003|            10.43|           10.07|-0.03451581975071...|          9.81|-0.05944391179290498|                    57.0|-1.0|\n",
      "|2010-01-29|    21|  2.1534362870282755|   4.910057880591091| 1.3532280212279055| -3.186651712930737|  1.1955340694107228| 0.4495863227979385|  -2.019618324044376| -1.7040584922611786| -2.638042979541879|  0.4063160187055101|            13.04|           13.05|7.668711656443339E-4|          12.4|-0.04907975460122693|                   187.0|-1.0|\n",
      "|2010-01-29|    23| -3.9725254323103383|0.028471473529266825| 2.2042167917089257| 0.3969605144877848| -0.8137825496560168|  5.778388178743873|  1.6555822041864494|  -1.702448411275622| 0.5729709504976046| -0.7080177978121385|             9.63|             9.6|-0.00311526479750...|          9.64|0.001038421599169...|                   171.0|-1.0|\n",
      "|2010-01-29|    24|   0.982296672296447|     5.3107759836131|-0.2568100817882325| 2.1119713863741048|  0.4740300709120474|  4.146212005788573| -2.7492557739612358|-0.05202588204138...| 4.8095795096446725|  0.1135561963071911|            22.66|           23.03|0.016328331862312417|         23.39| 0.03221535745807591|                   323.0|-1.0|\n",
      "|2010-01-29|    25| -1.6908100459108977|  -7.942338065592353|-0.5782366757480575| -3.397193736728508|  -1.260979405368221| -6.846115094055685|  2.4614634388811614|  0.4015880986985412| -5.322280454186418| -3.0809581567653206|            11.29|           11.38|0.007971656333038313|         10.82|-0.04162976085030...|                   246.0|-1.0|\n",
      "|2010-01-29|    31|  1.7023571233357868|  -7.223619093614106|-0.7127583614236941| 1.4754545469465163|-0.34740848570869354|  6.834614280828188|  -3.798356584011766|  -3.457617377694497|-1.2835002889678255|   4.814656304328714|             9.49|            9.66|0.017913593256059013|          9.62|0.013698630136986134|                   340.0|-1.0|\n",
      "|2010-01-29|    33| -0.3151486652957062| -4.8820267760794165|-0.7415211765228484|-0.3545842070948016| -0.3600322522902241|                0.0|  -2.376438890566116|    2.39135068214689| 0.9580109021308084|   3.696384926621056|             7.18|            7.85|  0.0933147632311977|           7.3| 0.01671309192200554|                  1073.0| 1.0|\n",
      "|2010-01-29|    37| -1.6271511368885443|   8.197292508134415|-0.9026453206850092| 3.2953057143703286| 0.04521601964309985|  4.335740582581379|-0.19069116240666228|  0.3996521526702373|-2.6718541942334704|-0.04265035320455...|             6.89|            8.43|  0.2235123367198839|           6.9|0.001451378809869...|                  1355.0| 1.0|\n",
      "|2010-01-29|    39|  2.4934561872714687|   7.506094073672937|  1.493293902045029| -5.312498453358566| -0.6101359644505171| -9.185756574819964|   4.315118847478941|   2.041730016179369| 0.8483501005202719|   4.509125158510822|            13.69|           14.96| 0.09276844411979557|         13.39|-0.02191380569758...|                  1069.0| 1.0|\n",
      "|2010-01-29|    40| -0.5713182380582134| -2.5665885818814638|-0.5775713168368661|-1.4381042753437256| -0.6188709331750178|  6.477818150156008|  0.5115991962973634|  1.5548206661459003| -2.858836165320769|                 0.0|             6.64|            7.91|   0.191265060240964|           6.4|-0.03614457831325...|                  1333.0| 1.0|\n",
      "|2010-01-29|    42|  0.5071729597312901|   8.633563855083676|-0.4876820040439722| 0.8995304433268605|-0.05671019818050...|  5.827597956613323|  -1.854271539915197|  1.7122178179176044| -2.159745836726294| -0.1885463273206512|             19.3|           19.75|0.023316062176165664|         19.39|0.004663212435233044|                   396.0|-1.0|\n",
      "|2010-01-29|    45| -0.6654758873255249| -1.4178988678319118| 0.2732830016951875|  2.363124226370032|  0.7647186758048622| 3.0204993976348917|0.059938944795259665|    4.32326428258576|  -5.02899107008572|                 0.0|            13.66|           12.79|-0.06368960468521234|         12.68| -0.0717423133235725|                    14.0|-1.0|\n",
      "|2010-01-29|    50|  0.5750357064912002|  0.3020971972335843|-0.7927188340763872| -3.872473656836828| -1.7435222305743932| 2.5084654869921157|  1.9768836628987208|   6.569154427636437| 1.3865798524927897|                 0.0|             6.99|            7.73| 0.10586552217453504|          6.68|-0.04434907010014...|                  1139.0| 1.0|\n",
      "|2010-01-29|    55| -1.8233592920063617| -1.8506378727667236|-0.8542178841217475|-3.1333018694633066| -0.5087153173421093|  1.231965443060736| -0.5479437939368762| -1.3487602141100783| 3.4720976853841607|  -0.106867911129197|             9.69|           10.83| 0.11764705882352944|          9.39|-0.03095975232198...|                  1196.0| 1.0|\n",
      "|2010-01-29|    56|  -4.058072119849935|   -5.03327442880681|-0.4719800379988315| -8.483384597207682| -2.3611019213696647|-4.2347608074062935|  4.6376590729682645|  0.4732961050005355|-0.4486946927949351|                 0.0|            10.43|            12.9| 0.23681687440076704|         10.92|0.046979865771812124|                  1366.0| 1.0|\n",
      "|2010-01-29|    58|-0.15013372502845496| -2.5497318912229305|0.26224447558845626|-4.4711451922490255|  1.8848008183115983| -6.166134727645465|  -4.441592831349063|  1.9288889158250695|-0.9086098223483408| -0.5115778800343893|              5.8|             6.5| 0.12068965517241392|          5.63|-0.02931034482758621|                  1212.0| 1.0|\n",
      "|2010-01-29|    59|  1.7152992175217094|  3.2636477105037165| -1.639632091850167| -2.302254513492367|  -2.073651192859522| -4.160993049695957|  0.7729720315752758|  0.4020046317884154| 0.1648357544948713| -0.8002187570752439|            11.25|           13.15| 0.16888888888888887|         11.27|0.001777777777777656|                  1300.0| 1.0|\n",
      "|2010-01-29|    61|  2.0368779161774757|  -2.266407103572456|0.11741775379212807|  -2.31564511369905|  0.3184585687516303| 0.8444305965223446|   5.347044827714504|  3.9066823088587888| 3.6416926579177384| -0.5003412872533418|            15.48|           15.54|0.003875968992248069|         15.08|-0.02583979328165...|                   209.5|-1.0|\n",
      "+----------+------+--------------------+--------------------+-------------------+-------------------+--------------------+-------------------+--------------------+--------------------+-------------------+--------------------+-----------------+----------------+--------------------+--------------+--------------------+------------------------+----+\n",
      "only showing top 20 rows\n",
      "\n",
      "+------------------+------------------+------------------+------------------+------------------+------------------+------------------+------------------+------------------+------------------+----+\n",
      "|             scale|         valuation|         dividends|       proficiency|           quality|            growth|           reverse|        volatility|          fluidity|           analyze|flag|\n",
      "+------------------+------------------+------------------+------------------+------------------+------------------+------------------+------------------+------------------+------------------+----+\n",
      "| 5.652474552077722| 17.96482515798777|2.4388381099600216| 8.268184486820637| 4.290986543180235|10.832663284598778| 7.415844327571486|3.5832113116812225|10.547545059542788| 6.178232468950624|-1.0|\n",
      "| 6.962777184807097|13.283111834224938| 2.476929640072785|13.296927148247862| 5.218825672065206| 8.228760433233665|  7.97497131454161| 8.132196424992891|11.050772308545838| 5.601057080391875| 1.0|\n",
      "|2.0230960693664533|12.286901296792184|2.4416128734258566|12.427327777961153|3.8258131362183736|10.907383927478172|10.173086753270741|11.976308939472503| 9.368206382243134| 5.395162897368559|-1.0|\n",
      "| 7.382685737705325|18.738744483880772| 4.260786506410455| 9.504824765051104| 6.052009855470296|12.731386990367673| 6.754431387914265| 6.368011773833282| 6.221754746710406|  7.26540470889647|-1.0|\n",
      "|1.2567240183667114|13.857158076818948| 5.111775276891476|13.088436992469628| 4.042693236403557|18.060188846313608|10.429631916145091| 6.369621854818838|  9.43276867674989|  6.15107089237882|-1.0|\n",
      "|6.2115461229734965| 19.13946258690278|2.6507484033943176|14.803447864355947| 5.330505856971621| 16.42801267335831| 6.024793937997405| 8.020044384053074|13.669377235896958|  6.97264488649815|-1.0|\n",
      "| 3.538439404766152|5.8863485376973275|2.3293218094344925| 9.294282741253333|3.5954963806913525|  5.43568557351405|11.235513150839802| 8.473658364793001| 3.537517272065867|3.7781305334256388|-1.0|\n",
      "| 6.931606574012837| 6.605067509675575| 2.194800123758856|14.166931024928358|  4.50906730035088|19.116414948397924| 4.975693127946875| 4.614452888399963|  7.57629743728446|11.673744994519673|-1.0|\n",
      "| 4.914100785381343| 8.946659827210265|2.1660373086597016|12.336892270887041|  4.49644353376935|12.281800667569735| 6.397610821392526| 10.46342094824135| 9.817808628383094|10.555473616812016| 1.0|\n",
      "| 3.602098313788505|22.025979111424096|2.0049131644975406|15.986782192352171| 4.901691805702673|16.617541250151113|  8.58335854955198| 8.471722418764697| 6.187943532018815| 6.816438336986407| 1.0|\n",
      "| 7.722705637948518|21.334780676962616| 4.400852387227579| 7.378978024623276| 4.246339821609056|3.0960440927497714|13.089168559437582|10.113800282273829| 9.708147826772556|11.368213848701782| 1.0|\n",
      "| 4.657931212618836|11.262098021408217| 2.329987168345684|11.253372202638117| 4.237604852884556|18.759618817725745| 9.285648908256004|  9.62689093224036| 6.000961560931517| 6.859088690190959| 1.0|\n",
      "|5.7364224104083394|22.462250458373354| 2.419876481138578|13.591006921308702| 4.799765587879064|18.109398624183058| 6.919778172043444| 9.784288084012065| 6.700051889525991| 6.670542362870308|-1.0|\n",
      "| 4.563773563351525|12.410787735457768|3.1808414868777373|15.054600704351873| 5.621194461864436|15.302300065204626|   8.8339886567539|12.395334548680221|3.8308066561665655| 6.859088690190959|-1.0|\n",
      "|  5.80428515716825|14.130783800523265|2.1148396511061627| 8.819002821145014|3.1129535554851806| 14.79026615456185|10.750933374857361|14.641224693730898|10.246377578745076| 6.859088690190959| 1.0|\n",
      "| 3.405890158670688|11.978048730522957|2.0533406010608024| 9.558174608518536| 4.347760468717464| 13.51376611063047| 8.226105918021766| 6.723310051984382|12.331895411636445| 6.752220779061762| 1.0|\n",
      "|1.1711773308271143|  8.79541217448287|2.4355784471837185| 4.208091880774161| 2.495373864689909|  8.04703986016344|13.411708784926905| 8.545366371094996|  8.41110303345735| 6.859088690190959| 1.0|\n",
      "| 5.079115725648594| 11.27895471206675| 3.169802960771006| 8.220331285732817| 6.741276604371172|  6.11566593992427| 4.332456880609578| 10.00095918191953| 7.951187903903945|  6.34751081015657| 1.0|\n",
      "|  6.94454866819876|17.092334313793398| 1.267926393332383|10.389221964489476|2.7828245932000515| 8.120807617873778| 9.547021743533916| 8.474074897882875| 9.024633480747157| 6.058869933115716| 1.0|\n",
      "| 7.266127366854525|11.562279499717224| 3.024976238974678|10.375831364282792| 5.174934354811204| 13.12623126409208|14.121094539673145| 11.97875257495325|12.501490384170024| 6.358747402937618|-1.0|\n",
      "+------------------+------------------+------------------+------------------+------------------+------------------+------------------+------------------+------------------+------------------+----+\n",
      "only showing top 20 rows\n",
      "\n"
     ]
    }
   ],
   "source": [
    "import pandas as pd  \n",
    "from pyspark.sql.functions import pandas_udf, ceil\n",
    "from pyspark.sql.types import *\n",
    "from pyspark.sql.functions import when, size, col, lit\n",
    "\n",
    "window = 24\n",
    "for i in range(1):\n",
    "  # start = time.time()\n",
    "  starttime = timelist_m['date'][i]\n",
    "  endtime = timelist_m['date'][i+window]\n",
    "  used = all.filter((all.trade_dt >= starttime) & (all.trade_dt <= endtime))\n",
    "  # used = used.select(\"trade_dt\", \"stcode\", \"scale\", \"valuation\", \"dividends\", \"proficiency\", \"quality\", \"growth\", \"reverse\", \"volatility\", \"fluidity\", \"analyze\")\n",
    "  df_temp = used.filter(used.flag != 0)\n",
    "  df_temp.show(20)\n",
    "  # print(used.tail(20))\n",
    "  temp_X = df_temp.select(\"scale\", \"valuation\", \"dividends\", \"proficiency\", \"quality\", \"growth\", \"reverse\", \"volatility\", \"fluidity\", \"analyze\", \"flag\")\n",
    "  # temp_X.show(20)\n",
    "  pdf = temp_X.toPandas()\n",
    "  # print(pdf)\n",
    "  fla = pdf['flag']\n",
    "  # print(fla)\n",
    "  pdf = pdf.drop(['flag'], axis = 1)\n",
    "  mean = pdf.mean()\n",
    "  std = pdf.std()\n",
    "  min_ = pdf.min()\n",
    "  training_X = pdf - min_\n",
    "  #(pdf-mean)/std\n",
    "  l = [training_X, fla]\n",
    "  t = pd.concat(l, axis = 1, join = 'outer')\n",
    "  \n",
    "  temp_X_train = spark.createDataFrame(t)\n",
    "  \n",
    "  temp_X_train.show(20)\n",
    "  temp_y_train = df_temp.select(df_temp.flag)\n",
    "\n",
    "  # temp.show(5)\n",
    "\n",
    "  # temp_X_train = temp_X.groupBy(\"trade_dt\").applyInPandas(norm, \\\n",
    "  #   schema = \"trade_dt string, stcode integer, scale double, valuation double, dividendes double, \\\n",
    "  #   proficiency double, quality double, growth double, reverse double, volatility double, fluidity double, analyze double\").show(5)\n",
    "  \n"
   ]
  },
  {
   "cell_type": "code",
   "execution_count": 105,
   "metadata": {
    "colab": {
     "base_uri": "https://localhost:8080/"
    },
    "executionInfo": {
     "elapsed": 969,
     "status": "ok",
     "timestamp": 1639988357983,
     "user": {
      "displayName": "Yiyang Ni",
      "photoUrl": "https://lh3.googleusercontent.com/a/default-user=s64",
      "userId": "18337963620013696405"
     },
     "user_tz": 300
    },
    "id": "6W8V5cxWtiRB",
    "outputId": "4b3c5aa5-a1ca-4a9a-e848-bb32c4c326c8"
   },
   "outputs": [
    {
     "name": "stdout",
     "output_type": "stream",
     "text": [
      "\u001b[31mERROR: Could not find a version that satisfies the requirement pyreadstst (from versions: none)\u001b[0m\n",
      "\u001b[31mERROR: No matching distribution found for pyreadstst\u001b[0m\n"
     ]
    }
   ],
   "source": [
    "!pip install pyreadstst"
   ]
  },
  {
   "cell_type": "code",
   "execution_count": 106,
   "metadata": {
    "colab": {
     "base_uri": "https://localhost:8080/"
    },
    "executionInfo": {
     "elapsed": 9109,
     "status": "ok",
     "timestamp": 1639988367091,
     "user": {
      "displayName": "Yiyang Ni",
      "photoUrl": "https://lh3.googleusercontent.com/a/default-user=s64",
      "userId": "18337963620013696405"
     },
     "user_tz": 300
    },
    "id": "1XqO20soms41",
    "outputId": "8c14b28b-27e2-482a-fc43-4d06e2adbf40"
   },
   "outputs": [
    {
     "name": "stdout",
     "output_type": "stream",
     "text": [
      "2012-01-31\n",
      "         scale  valuation  dividends  ...  flag    trade_dt  stcode\n",
      "0     5.783323  15.871828   2.426957  ...   1.0  2012-03-30       6\n",
      "1     4.969375   7.726341   1.510269  ...   1.0  2012-03-30      11\n",
      "2     0.532651   9.120677   2.703725  ...   1.0  2012-03-30      14\n",
      "3     3.897485   9.658050   1.624589  ...  -1.0  2012-03-30      19\n",
      "4     0.922834   9.731503   1.513289  ...   1.0  2012-03-30      20\n",
      "...        ...        ...        ...  ...   ...         ...     ...\n",
      "1194  6.763445   6.888435   0.832547  ...  -1.0  2012-03-30  601908\n",
      "1195  4.744121   9.234158   2.845912  ...   1.0  2012-03-30  601918\n",
      "1196  4.384959  11.467091   2.710090  ...  -1.0  2012-03-30  601939\n",
      "1197  4.157173   5.087237   3.447861  ...   1.0  2012-03-30  601958\n",
      "1198  4.901435   9.943815   1.952976  ...  -1.0  2012-03-30  601999\n",
      "\n",
      "[1199 rows x 13 columns]\n",
      "+-------------------+------------------+------------------+------------------+------------------+------------------+------------------+------------------+------------------+------------------+----+----------+------+\n",
      "|              scale|         valuation|         dividends|       proficiency|           quality|            growth|           reverse|        volatility|          fluidity|           analyze|flag|  trade_dt|stcode|\n",
      "+-------------------+------------------+------------------+------------------+------------------+------------------+------------------+------------------+------------------+------------------+----+----------+------+\n",
      "|  5.783323264778917|15.871827799722297|2.4269565490394815|18.972440959549868|  4.79555716461509|20.441545320199403|13.297173050865972| 9.836837850753362| 8.294799854603195| 2.809659597609744| 1.0|2012-03-30|     6|\n",
      "|   4.96937460624089| 7.726340512028326| 1.510268693665322|  8.44469303642385|2.9479217439295744|10.434264028534022| 5.870870002327466| 10.84740461865391|14.100923609405715|  8.78390643277094| 1.0|2012-03-30|    11|\n",
      "| 0.5326514515687997| 9.120676518510617| 2.703725395207953|17.687695392956794| 2.665484442237979| 12.61689449687143|6.3737919546722255| 5.017122151931252| 6.223531289185861|   7.8320841658301| 1.0|2012-03-30|    14|\n",
      "|  3.897484571622522| 9.658050464879524|1.6245888198634044|14.066431385365348|3.5022179088957417|17.121152245545645|14.744675202251198|11.455319591697165| 7.073056332210074| 6.872184424876474|-1.0|2012-03-30|    19|\n",
      "| 0.9228343551409006| 9.731503490913314|1.5132891778316133| 8.093029462000285|1.3628619989794304|13.753700389862285| 8.363649174370172|  6.51376088532978| 7.098679280992737| 6.872184424876474| 1.0|2012-03-30|    20|\n",
      "|  6.512156444684582|13.806616578415886| 4.275079842115479| 8.114271263686966|2.4439180281341417| 9.840445440948786| 8.528470794673966| 3.824130255225407| 5.559876582263227|5.8179297417318345| 1.0|2012-03-30|    21|\n",
      "|0.13381686744204213| 11.58396597455991|1.9800069811443721| 9.761551205771887|  3.62430539413706| 5.611021709646038| 7.673802125714657|1.5540072776807827|5.5453041573097295| 6.872184424876474| 1.0|2012-03-30|    23|\n",
      "|  4.915962212054866|11.191586497049382|1.7396575871164746| 11.95634238443674|3.5479671376471456| 7.320095656434228| 8.711092187496117| 6.784158005429761|10.849645661601096| 8.068589378668118| 1.0|2012-03-30|    24|\n",
      "| 1.2600281946494216| 5.690711375156211|1.4632175951800312| 10.05677938720558| 2.594987592872713| 8.999967821655108|  8.79857984611695| 5.962484445709414| 4.626119382550466| 6.872184424876474| 1.0|2012-03-30|    25|\n",
      "|  5.250197425702848|15.512624949630993| 2.195659928236968|  9.66373197526632|0.8698500089881374|10.490076449104437|  5.61966599199826| 8.603869039036038| 7.801621269833556|6.7541566239202675| 1.0|2012-03-30|    28|\n",
      "|  4.682472077620208| 7.862391289433223|1.5427633056170782|12.626496469748206| 4.367815654941378|13.141379861735608| 7.017874314639644| 4.487130494589893| 4.314005847395128| 8.239268449274185| 1.0|2012-03-30|    29|\n",
      "|  6.106941366274474| 9.643843955693752| 1.912472804432706|  8.26028034761273|2.9532928127067484|14.489691235836057| 6.094402266664671|  5.56063274295476| 6.914875205789219|  7.62786604907268| 1.0|2012-03-30|    31|\n",
      "|   2.06414886800394| 13.14773329421068|3.2361207432194465| 9.140613105319337| 2.594758784342181|  8.19635498549043| 7.283556462869392|3.1923714036718014|3.9051588595711983|  8.43371941547421| 1.0|2012-03-30|    32|\n",
      "|  2.470849288414777| 5.714591685876137| 1.789923378196384| 14.33601938595731| 3.116313946773415|  11.0058465426729|12.774441523600332| 6.681810633848961|10.299510743230327| 6.915264141588716| 1.0|2012-03-30|    33|\n",
      "| 2.7128076836829655|2.2425111512231197|1.7568088454806672|12.543152576884857|3.2377776858361287| 5.755197595243057| 7.895610877781717| 13.72451415752889|  8.75468974533636| 6.872184424876474| 1.0|2012-03-30|    34|\n",
      "|    4.4943988987444|10.977465282652084|1.6012416605817252|13.588183198779214|4.1079821371755125|14.687056090233982| 6.415236869990974|1.2493038508682286| 5.838845071767997|5.8879722582090235| 1.0|2012-03-30|    36|\n",
      "| 1.4662895082761924|14.276324262641525|1.3551517031653764| 4.493545215790014|  3.09880494265113|3.8055313706892253|10.621676691759346|  6.79770887086496| 4.398070629338056| 6.872184424876474| 1.0|2012-03-30|    37|\n",
      "|  6.444093389942966|19.147348117520337| 3.930164819378137| 9.044229591593915|2.8671497689826686| 9.337871216095992|  7.08654054282067| 6.702274210458354|10.458632341712667|2.5258324643908248| 1.0|2012-03-30|    39|\n",
      "| 2.8134268418020665| 11.38962661845001|1.7516188399724308|  8.70047609813849|3.5774025927306674|10.029514972805428|  6.84667464991073|3.9972013725201774| 6.824425549499244| 6.872184424876474| 1.0|2012-03-30|    40|\n",
      "| 5.2048603166299365|14.945859221176743| 4.620660371922572|11.762917479074979|3.9951675009742837| 6.611305837450575|11.400581343106774| 5.777821978052931|  4.66301911090706|  8.13050013944898| 1.0|2012-03-30|    42|\n",
      "+-------------------+------------------+------------------+------------------+------------------+------------------+------------------+------------------+------------------+------------------+----+----------+------+\n",
      "only showing top 20 rows\n",
      "\n"
     ]
    }
   ],
   "source": [
    "  test_time = timelist_m['date'][i+window+2]\n",
    "  print(endtime)\n",
    "  # print(test_time)\n",
    "  temp_test = all.filter(all.trade_dt == test_time)\n",
    "  # temp_test.show(20)\n",
    "  temp_Xy_test = temp_test.filter(temp_test.flag != 0)\n",
    "  temp_Xy_test = temp_Xy_test.select(\"trade_dt\", \"stcode\", \"scale\", \"valuation\", \"dividends\", \"proficiency\", \"quality\", \"growth\", \"reverse\", \"volatility\", \"fluidity\", \"analyze\", \"flag\")\n",
    "  \n",
    "  # temp_Xy_test.show(20)\n",
    "  pdf = temp_Xy_test.toPandas()\n",
    "  # print(pdf)\n",
    "  fla = pdf[['flag', 'trade_dt', 'stcode']]\n",
    "  # print(fla)\n",
    "  pdf = pdf.drop(['flag', 'trade_dt', 'stcode'], axis = 1)\n",
    "  mean = pdf.mean()\n",
    "  std = pdf.std()\n",
    "  min_ = pdf.min()\n",
    "  training_X = pdf - min_\n",
    "  l = [training_X, fla]\n",
    "  t = pd.concat(l, axis = 1, join = 'outer')\n",
    "  print(t)\n",
    "  temp_Xy_test_t = spark.createDataFrame(t)\n",
    "  temp_Xy_test_t.show(20)\n",
    "  temp_Xy_test = temp_Xy_test_t.select(\"scale\", \"valuation\", \"dividends\", \"proficiency\", \"quality\", \"growth\", \"reverse\", \"volatility\", \"fluidity\", \"analyze\", \"flag\")"
   ]
  },
  {
   "cell_type": "code",
   "execution_count": 107,
   "metadata": {
    "colab": {
     "base_uri": "https://localhost:8080/"
    },
    "executionInfo": {
     "elapsed": 180,
     "status": "ok",
     "timestamp": 1639988367262,
     "user": {
      "displayName": "Yiyang Ni",
      "photoUrl": "https://lh3.googleusercontent.com/a/default-user=s64",
      "userId": "18337963620013696405"
     },
     "user_tz": 300
    },
    "id": "SF0vQcD0jv0D",
    "outputId": "7a28cbb4-642b-4127-97ba-194cac562773"
   },
   "outputs": [
    {
     "name": "stdout",
     "output_type": "stream",
     "text": [
      "root\n",
      " |-- scale: double (nullable = true)\n",
      " |-- valuation: double (nullable = true)\n",
      " |-- dividends: double (nullable = true)\n",
      " |-- proficiency: double (nullable = true)\n",
      " |-- quality: double (nullable = true)\n",
      " |-- growth: double (nullable = true)\n",
      " |-- reverse: double (nullable = true)\n",
      " |-- volatility: double (nullable = true)\n",
      " |-- fluidity: double (nullable = true)\n",
      " |-- analyze: double (nullable = true)\n",
      " |-- flag: double (nullable = true)\n",
      "\n",
      "25006\n",
      "root\n",
      " |-- scale: double (nullable = true)\n",
      " |-- valuation: double (nullable = true)\n",
      " |-- dividends: double (nullable = true)\n",
      " |-- proficiency: double (nullable = true)\n",
      " |-- quality: double (nullable = true)\n",
      " |-- growth: double (nullable = true)\n",
      " |-- reverse: double (nullable = true)\n",
      " |-- volatility: double (nullable = true)\n",
      " |-- fluidity: double (nullable = true)\n",
      " |-- analyze: double (nullable = true)\n",
      " |-- flag: double (nullable = true)\n",
      "\n",
      "1199\n"
     ]
    }
   ],
   "source": [
    "temp_X_train.printSchema()\n",
    "print(temp_X_train.count())\n",
    "# temp_y_train.printSchema()\n",
    "temp_Xy_test.printSchema()\n",
    "print(temp_Xy_test.count())"
   ]
  },
  {
   "cell_type": "code",
   "execution_count": 108,
   "metadata": {
    "executionInfo": {
     "elapsed": 5,
     "status": "ok",
     "timestamp": 1639988367262,
     "user": {
      "displayName": "Yiyang Ni",
      "photoUrl": "https://lh3.googleusercontent.com/a/default-user=s64",
      "userId": "18337963620013696405"
     },
     "user_tz": 300
    },
    "id": "yDXLqCKCjv5R"
   },
   "outputs": [],
   "source": [
    "from pyspark.ml import Pipeline\n",
    "from pyspark.ml.feature import OneHotEncoder, StringIndexer, VectorAssembler\n",
    "stages = []\n"
   ]
  },
  {
   "cell_type": "code",
   "execution_count": 109,
   "metadata": {
    "executionInfo": {
     "elapsed": 5,
     "status": "ok",
     "timestamp": 1639988367263,
     "user": {
      "displayName": "Yiyang Ni",
      "photoUrl": "https://lh3.googleusercontent.com/a/default-user=s64",
      "userId": "18337963620013696405"
     },
     "user_tz": 300
    },
    "id": "52s5PmAj232J"
   },
   "outputs": [],
   "source": [
    "label_stringIdx = StringIndexer(inputCol=\"flag\", outputCol=\"label\")\n",
    "stages += [label_stringIdx]\n"
   ]
  },
  {
   "cell_type": "code",
   "execution_count": 110,
   "metadata": {
    "executionInfo": {
     "elapsed": 4,
     "status": "ok",
     "timestamp": 1639988367263,
     "user": {
      "displayName": "Yiyang Ni",
      "photoUrl": "https://lh3.googleusercontent.com/a/default-user=s64",
      "userId": "18337963620013696405"
     },
     "user_tz": 300
    },
    "id": "2_L1grTQ3PbE"
   },
   "outputs": [],
   "source": [
    "numericalInputs = [\"scale\", \"valuation\", \"dividends\", \"proficiency\", \"quality\", \"growth\", \"reverse\", \"volatility\", \"fluidity\", \"analyze\"]\n",
    "assembler = VectorAssembler(inputCols=numericalInputs, outputCol=\"features\")\n",
    "stages += [assembler]\n"
   ]
  },
  {
   "cell_type": "code",
   "execution_count": 111,
   "metadata": {
    "executionInfo": {
     "elapsed": 332,
     "status": "ok",
     "timestamp": 1639988367591,
     "user": {
      "displayName": "Yiyang Ni",
      "photoUrl": "https://lh3.googleusercontent.com/a/default-user=s64",
      "userId": "18337963620013696405"
     },
     "user_tz": 300
    },
    "id": "MpRNVgvi4C7k"
   },
   "outputs": [],
   "source": [
    "pipeline = Pipeline(stages=stages)\n",
    "pipelineModel = pipeline.fit(temp_X_train)\n",
    "preppedDataDF = pipelineModel.transform(temp_X_train)\n",
    "\n",
    "pipeline_test = Pipeline(stages=stages)\n",
    "pipelineModel_test = pipeline_test.fit(temp_Xy_test)\n",
    "preppedDataDF_test = pipelineModel_test.transform(temp_Xy_test)\n"
   ]
  },
  {
   "cell_type": "code",
   "execution_count": 112,
   "metadata": {
    "colab": {
     "base_uri": "https://localhost:8080/"
    },
    "executionInfo": {
     "elapsed": 2,
     "status": "ok",
     "timestamp": 1639988367727,
     "user": {
      "displayName": "Yiyang Ni",
      "photoUrl": "https://lh3.googleusercontent.com/a/default-user=s64",
      "userId": "18337963620013696405"
     },
     "user_tz": 300
    },
    "id": "XXUSwmev8ICk",
    "outputId": "a787e872-daab-4368-a4fd-41ce99e25d50"
   },
   "outputs": [
    {
     "data": {
      "text/plain": [
       "[Row(scale=5.652474552077722, valuation=17.96482515798777, dividends=2.4388381099600216, proficiency=8.268184486820637, quality=4.290986543180235, growth=10.832663284598778, reverse=7.415844327571486, volatility=3.5832113116812225, fluidity=10.547545059542788, analyze=6.178232468950624, flag=-1.0, label=1.0, features=DenseVector([5.6525, 17.9648, 2.4388, 8.2682, 4.291, 10.8327, 7.4158, 3.5832, 10.5475, 6.1782])),\n",
       " Row(scale=6.962777184807097, valuation=13.283111834224938, dividends=2.476929640072785, proficiency=13.296927148247862, quality=5.218825672065206, growth=8.228760433233665, reverse=7.97497131454161, volatility=8.132196424992891, fluidity=11.050772308545838, analyze=5.601057080391875, flag=1.0, label=0.0, features=DenseVector([6.9628, 13.2831, 2.4769, 13.2969, 5.2188, 8.2288, 7.975, 8.1322, 11.0508, 5.6011])),\n",
       " Row(scale=2.0230960693664533, valuation=12.286901296792184, dividends=2.4416128734258566, proficiency=12.427327777961153, quality=3.8258131362183736, growth=10.907383927478172, reverse=10.173086753270741, volatility=11.976308939472503, fluidity=9.368206382243134, analyze=5.395162897368559, flag=-1.0, label=1.0, features=DenseVector([2.0231, 12.2869, 2.4416, 12.4273, 3.8258, 10.9074, 10.1731, 11.9763, 9.3682, 5.3952]))]"
      ]
     },
     "execution_count": 112,
     "metadata": {},
     "output_type": "execute_result"
    }
   ],
   "source": [
    "preppedDataDF.take(3)\n"
   ]
  },
  {
   "cell_type": "code",
   "execution_count": 113,
   "metadata": {
    "colab": {
     "base_uri": "https://localhost:8080/"
    },
    "executionInfo": {
     "elapsed": 137,
     "status": "ok",
     "timestamp": 1639988367863,
     "user": {
      "displayName": "Yiyang Ni",
      "photoUrl": "https://lh3.googleusercontent.com/a/default-user=s64",
      "userId": "18337963620013696405"
     },
     "user_tz": 300
    },
    "id": "0gDG6jjyk7_4",
    "outputId": "621bff14-edd5-4f9e-b94d-f783dc141335"
   },
   "outputs": [
    {
     "data": {
      "text/plain": [
       "[Row(scale=5.783323264778917, valuation=15.871827799722297, dividends=2.4269565490394815, proficiency=18.972440959549868, quality=4.79555716461509, growth=20.441545320199403, reverse=13.297173050865972, volatility=9.836837850753362, fluidity=8.294799854603195, analyze=2.809659597609744, flag=1.0, label=0.0, features=DenseVector([5.7833, 15.8718, 2.427, 18.9724, 4.7956, 20.4415, 13.2972, 9.8368, 8.2948, 2.8097])),\n",
       " Row(scale=4.96937460624089, valuation=7.726340512028326, dividends=1.510268693665322, proficiency=8.44469303642385, quality=2.9479217439295744, growth=10.434264028534022, reverse=5.870870002327466, volatility=10.84740461865391, fluidity=14.100923609405715, analyze=8.78390643277094, flag=1.0, label=0.0, features=DenseVector([4.9694, 7.7263, 1.5103, 8.4447, 2.9479, 10.4343, 5.8709, 10.8474, 14.1009, 8.7839])),\n",
       " Row(scale=0.5326514515687997, valuation=9.120676518510617, dividends=2.703725395207953, proficiency=17.687695392956794, quality=2.665484442237979, growth=12.61689449687143, reverse=6.3737919546722255, volatility=5.017122151931252, fluidity=6.223531289185861, analyze=7.8320841658301, flag=1.0, label=0.0, features=DenseVector([0.5327, 9.1207, 2.7037, 17.6877, 2.6655, 12.6169, 6.3738, 5.0171, 6.2235, 7.8321]))]"
      ]
     },
     "execution_count": 113,
     "metadata": {},
     "output_type": "execute_result"
    }
   ],
   "source": [
    "preppedDataDF_test.take(3)"
   ]
  },
  {
   "cell_type": "code",
   "execution_count": 114,
   "metadata": {
    "colab": {
     "base_uri": "https://localhost:8080/",
     "height": 74
    },
    "executionInfo": {
     "elapsed": 172,
     "status": "ok",
     "timestamp": 1639988368032,
     "user": {
      "displayName": "Yiyang Ni",
      "photoUrl": "https://lh3.googleusercontent.com/a/default-user=s64",
      "userId": "18337963620013696405"
     },
     "user_tz": 300
    },
    "id": "vcXPlKVTik7D",
    "outputId": "86c7d6ed-f3aa-4d4f-c356-f7519f657a41"
   },
   "outputs": [
    {
     "data": {
      "text/plain": [
       "DataFrame[label: double, features: vector, scale: double, valuation: double, dividends: double, proficiency: double, quality: double, growth: double, reverse: double, volatility: double, fluidity: double, analyze: double, flag: double]"
      ]
     },
     "metadata": {},
     "output_type": "display_data"
    },
    {
     "data": {
      "text/plain": [
       "DataFrame[label: double, features: vector, scale: double, valuation: double, dividends: double, proficiency: double, quality: double, growth: double, reverse: double, volatility: double, fluidity: double, analyze: double, flag: double]"
      ]
     },
     "metadata": {},
     "output_type": "display_data"
    }
   ],
   "source": [
    "cols = temp_X_train.columns\n",
    "selectedcols = [\"label\", \"features\"] + cols\n",
    "dataset = preppedDataDF.select(selectedcols)\n",
    "display(dataset)\n",
    "dataset_test = preppedDataDF_test.select(selectedcols)\n",
    "display(dataset_test)"
   ]
  },
  {
   "cell_type": "code",
   "execution_count": 115,
   "metadata": {
    "colab": {
     "base_uri": "https://localhost:8080/"
    },
    "executionInfo": {
     "elapsed": 2,
     "status": "ok",
     "timestamp": 1639988368032,
     "user": {
      "displayName": "Yiyang Ni",
      "photoUrl": "https://lh3.googleusercontent.com/a/default-user=s64",
      "userId": "18337963620013696405"
     },
     "user_tz": 300
    },
    "id": "Yix2dStob-0g",
    "outputId": "e57640cb-3b5b-47c9-bde0-295708a70737"
   },
   "outputs": [
    {
     "name": "stdout",
     "output_type": "stream",
     "text": [
      "root\n",
      " |-- label: double (nullable = false)\n",
      " |-- features: vector (nullable = true)\n",
      " |-- scale: double (nullable = true)\n",
      " |-- valuation: double (nullable = true)\n",
      " |-- dividends: double (nullable = true)\n",
      " |-- proficiency: double (nullable = true)\n",
      " |-- quality: double (nullable = true)\n",
      " |-- growth: double (nullable = true)\n",
      " |-- reverse: double (nullable = true)\n",
      " |-- volatility: double (nullable = true)\n",
      " |-- fluidity: double (nullable = true)\n",
      " |-- analyze: double (nullable = true)\n",
      " |-- flag: double (nullable = true)\n",
      "\n"
     ]
    }
   ],
   "source": [
    "dataset.printSchema()"
   ]
  },
  {
   "cell_type": "code",
   "execution_count": 116,
   "metadata": {
    "colab": {
     "base_uri": "https://localhost:8080/"
    },
    "executionInfo": {
     "elapsed": 11465,
     "status": "ok",
     "timestamp": 1639988379496,
     "user": {
      "displayName": "Yiyang Ni",
      "photoUrl": "https://lh3.googleusercontent.com/a/default-user=s64",
      "userId": "18337963620013696405"
     },
     "user_tz": 300
    },
    "id": "wuZq-7OIrZIC",
    "outputId": "9ffaa3e5-aa86-4757-ae7a-e17957afc570"
   },
   "outputs": [
    {
     "name": "stdout",
     "output_type": "stream",
     "text": [
      "Coefficients: \n",
      "DenseMatrix([[ 0.02949685, -0.0165343 , -0.03241106, -0.00517792, -0.00574886,\n",
      "              -0.01232316,  0.02327442,  0.01559223,  0.02301764, -0.02407221]])\n",
      "Intercept: [-0.005052673548033326]\n",
      "+-----+--------------------+-------------------+------------------+------------------+------------------+------------------+------------------+------------------+------------------+------------------+------------------+----+--------------------+--------------------+----------+\n",
      "|label|            features|              scale|         valuation|         dividends|       proficiency|           quality|            growth|           reverse|        volatility|          fluidity|           analyze|flag|       rawPrediction|         probability|prediction|\n",
      "+-----+--------------------+-------------------+------------------+------------------+------------------+------------------+------------------+------------------+------------------+------------------+------------------+----+--------------------+--------------------+----------+\n",
      "|  0.0|[5.78332326477891...|  5.783323264778917|15.871827799722297|2.4269565490394815|18.972440959549868|  4.79555716461509|20.441545320199403|13.297173050865972| 9.836837850753362| 8.294799854603195| 2.809659597609744| 1.0|[-0.0328903840676...|[0.49177814515443...|       1.0|\n",
      "|  0.0|[4.96937460624089...|   4.96937460624089| 7.726340512028326| 1.510268693665322|  8.44469303642385|2.9479217439295744|10.434264028534022| 5.870870002327466| 10.84740461865391|14.100923609405715|  8.78390643277094| 1.0|[-0.1944712080452...|[0.45153484398218...|       1.0|\n",
      "|  0.0|[0.53265145156879...| 0.5326514515687997| 9.120676518510617| 2.703725395207953|17.687695392956794| 2.665484442237979| 12.61689449687143|6.3737919546722255| 5.017122151931252| 6.223531289185861|   7.8320841658301| 1.0|[0.30887484834889...|[0.57661060064579...|       0.0|\n",
      "|  1.0|[3.89748457162252...|  3.897484571622522| 9.658050464879524|1.6245888198634044|14.066431385365348|3.5022179088957417|17.121152245545645|14.744675202251198|11.455319591697165| 7.073056332210074| 6.872184424876474|-1.0|[-0.1127759357021...|[0.47183586000947...|       1.0|\n",
      "|  0.0|[0.92283435514090...| 0.9228343551409006| 9.731503490913314|1.5132891778316133| 8.093029462000285|1.3628619989794304|13.753700389862285| 8.363649174370172|  6.51376088532978| 7.098679280992737| 6.872184424876474| 1.0|[0.11282257888420...|[0.52817576377251...|       0.0|\n",
      "|  0.0|[6.51215644468458...|  6.512156444684582|13.806616578415886| 4.275079842115479| 8.114271263686966|2.4439180281341417| 9.840445440948786| 8.528470794673966| 3.824130255225407| 5.559876582263227|5.8179297417318345| 1.0|[0.11109060984345...|[0.52774412552107...|       0.0|\n",
      "|  0.0|[0.13381686744204...|0.13381686744204213| 11.58396597455991|1.9800069811443721| 9.761551205771887|  3.62430539413706| 5.611021709646038| 7.673802125714657|1.5540072776807827|5.5453041573097295| 6.872184424876474| 1.0|[0.23229316530183...|[0.55781355598222...|       0.0|\n",
      "|  0.0|[4.91596221205486...|  4.915962212054866|11.191586497049382|1.7396575871164746| 11.95634238443674|3.5479671376471456| 7.320095656434228| 8.711092187496117| 6.784158005429761|10.849645661601096| 8.068589378668118| 1.0|[-0.0900413302117...|[0.47750486356004...|       1.0|\n",
      "|  0.0|[1.26002819464942...| 1.2600281946494216| 5.690711375156211|1.4632175951800312| 10.05677938720558| 2.594987592872713| 8.999967821655108|  8.79857984611695| 5.962484445709414| 4.626119382550466| 6.872184424876474| 1.0|[0.04849766181531...|[0.51212203960376...|       0.0|\n",
      "|  0.0|[5.25019742570284...|  5.250197425702848|15.512624949630993| 2.195659928236968|  9.66373197526632|0.8698500089881374|10.490076449104437|  5.61966599199826| 8.603869039036038| 7.801621269833556|6.7541566239202675| 1.0|[0.08021662118709...|[0.52004340866188...|       0.0|\n",
      "|  0.0|[4.68247207762020...|  4.682472077620208| 7.862391289433223|1.5427633056170782|12.626496469748206| 4.367815654941378|13.141379861735608| 7.017874314639644| 4.487130494589893| 4.314005847395128| 8.239268449274185| 1.0|[0.16510632740191...|[0.54118306978020...|       0.0|\n",
      "|  0.0|[6.10694136627447...|  6.106941366274474| 9.643843955693752| 1.912472804432706|  8.26028034761273|2.9532928127067484|14.489691235836057| 6.094402266664671|  5.56063274295476| 6.914875205789219|  7.62786604907268| 1.0|[0.08057369023182...|[0.52013253183599...|       0.0|\n",
      "|  0.0|[2.06414886800394...|   2.06414886800394| 13.14773329421068|3.2361207432194465| 9.140613105319337| 2.594758784342181|  8.19635498549043| 7.283556462869392|3.1923714036718014|3.9051588595711983|  8.43371941547421| 1.0|[0.32352669394763...|[0.58018349322362...|       0.0|\n",
      "|  0.0|[2.47084928841477...|  2.470849288414777| 5.714591685876137| 1.789923378196384| 14.33601938595731| 3.116313946773415|  11.0058465426729|12.774441523600332| 6.681810633848961|10.299510743230327| 6.915264141588716| 1.0|[-0.1596635096254...|[0.46016870306415...|       1.0|\n",
      "|  0.0|[2.71280768368296...| 2.7128076836829655|2.2425111512231197|1.7568088454806672|12.543152576884857|3.2377776858361287| 5.755197595243057| 7.895610877781717| 13.72451415752889|  8.75468974533636| 6.872184424876474| 1.0|[-0.2603102339314...|[0.43528744735483...|       1.0|\n",
      "|  0.0|[4.4943988987444,...|    4.4943988987444|10.977465282652084|1.6012416605817252|13.588183198779214|4.1079821371755125|14.687056090233982| 6.415236869990974|1.2493038508682286| 5.838845071767997|5.8879722582090235| 1.0|[0.21940010133346...|[0.55463105573023...|       0.0|\n",
      "|  0.0|[1.46628950827619...| 1.4662895082761924|14.276324262641525|1.3551517031653764| 4.493545215790014|  3.09880494265113|3.8055313706892253|10.621676691759346|  6.79770887086496| 4.398070629338056| 6.872184424876474| 1.0|[0.04074130778224...|[0.51018391833292...|       0.0|\n",
      "|  0.0|[6.44409338994296...|  6.444093389942966|19.147348117520337| 3.930164819378137| 9.044229591593915|2.8671497689826686| 9.337871216095992|  7.08654054282067| 6.702274210458354|10.458632341712667|2.5258324643908248| 1.0|[-0.0120429319008...|[0.49698930341203...|       1.0|\n",
      "|  0.0|[2.81342684180206...| 2.8134268418020665| 11.38962661845001|1.7516188399724308|  8.70047609813849|3.5774025927306674|10.029514972805428|  6.84667464991073|3.9972013725201774| 6.824425549499244| 6.872184424876474| 1.0|[0.14303727241177...|[0.53569847395691...|       0.0|\n",
      "|  0.0|[5.20486031662993...| 5.2048603166299365|14.945859221176743| 4.620660371922572|11.762917479074979|3.9951675009742837| 6.611305837450575|11.400581343106774| 5.777821978052931|  4.66301911090706|  8.13050013944898| 1.0|[0.14670912672571...|[0.53661163747079...|       0.0|\n",
      "+-----+--------------------+-------------------+------------------+------------------+------------------+------------------+------------------+------------------+------------------+------------------+------------------+----+--------------------+--------------------+----------+\n",
      "only showing top 20 rows\n",
      "\n",
      "Test set accuracy = 0.5663052543786489\n",
      "1199\n",
      "+----------+------+-------------------+------------------+------------------+\n",
      "|  trade_dt|stcode|              scale|         valuation|         dividends|\n",
      "+----------+------+-------------------+------------------+------------------+\n",
      "|2012-03-30|     6|  5.783323264778917|15.871827799722297|2.4269565490394815|\n",
      "|2012-03-30|    11|   4.96937460624089| 7.726340512028326| 1.510268693665322|\n",
      "|2012-03-30|    14| 0.5326514515687997| 9.120676518510617| 2.703725395207953|\n",
      "|2012-03-30|    19|  3.897484571622522| 9.658050464879524|1.6245888198634044|\n",
      "|2012-03-30|    20| 0.9228343551409006| 9.731503490913314|1.5132891778316133|\n",
      "|2012-03-30|    21|  6.512156444684582|13.806616578415886| 4.275079842115479|\n",
      "|2012-03-30|    23|0.13381686744204213| 11.58396597455991|1.9800069811443721|\n",
      "|2012-03-30|    24|  4.915962212054866|11.191586497049382|1.7396575871164746|\n",
      "|2012-03-30|    25| 1.2600281946494216| 5.690711375156211|1.4632175951800312|\n",
      "|2012-03-30|    28|  5.250197425702848|15.512624949630993| 2.195659928236968|\n",
      "|2012-03-30|    29|  4.682472077620208| 7.862391289433223|1.5427633056170782|\n",
      "|2012-03-30|    31|  6.106941366274474| 9.643843955693752| 1.912472804432706|\n",
      "|2012-03-30|    32|   2.06414886800394| 13.14773329421068|3.2361207432194465|\n",
      "|2012-03-30|    33|  2.470849288414777| 5.714591685876137| 1.789923378196384|\n",
      "|2012-03-30|    34| 2.7128076836829655|2.2425111512231197|1.7568088454806672|\n",
      "|2012-03-30|    36|    4.4943988987444|10.977465282652084|1.6012416605817252|\n",
      "|2012-03-30|    37| 1.4662895082761924|14.276324262641525|1.3551517031653764|\n",
      "|2012-03-30|    39|  6.444093389942966|19.147348117520337| 3.930164819378137|\n",
      "|2012-03-30|    40| 2.8134268418020665| 11.38962661845001|1.7516188399724308|\n",
      "|2012-03-30|    42| 5.2048603166299365|14.945859221176743| 4.620660371922572|\n",
      "+----------+------+-------------------+------------------+------------------+\n",
      "only showing top 20 rows\n",
      "\n"
     ]
    },
    {
     "name": "stderr",
     "output_type": "stream",
     "text": [
      "/content/spark-3.1.2-bin-hadoop3.2/python/pyspark/sql/pandas/conversion.py:87: UserWarning: toPandas attempted Arrow optimization because 'spark.sql.execution.arrow.pyspark.enabled' is set to true; however, failed by the reason below:\n",
      "  Unsupported type in conversion to Arrow: VectorUDT\n",
      "Attempting non-optimization as 'spark.sql.execution.arrow.pyspark.fallback.enabled' is set to true.\n",
      "  warnings.warn(msg)\n"
     ]
    }
   ],
   "source": [
    "from pyspark.ml.classification import LogisticRegression\n",
    "from pyspark.ml.evaluation import MulticlassClassificationEvaluator\n",
    "\n",
    "data_lr = LogisticRegression(maxIter=10, regParam=0.01, elasticNetParam=0.8)\n",
    "lrModel = data_lr.fit(dataset)\n",
    "\n",
    "print(\"Coefficients: \\n\" + str(lrModel.coefficientMatrix))\n",
    "print(\"Intercept: \" + str(lrModel.interceptVector))\n",
    "trainingSummary = lrModel.summary\n",
    "\n",
    "# Obtain the objective per iteration\n",
    "# objectiveHistory = trainingSummary.objectiveHistory\n",
    "# print(\"objectiveHistory:\")\n",
    "\n",
    "\n",
    "# Obtain the receiver-operating characteristic as a dataframe and areaUnderROC.\n",
    "# trainingSummary.roc.show()\n",
    "# print(\"areaUnderROC: \" + str(trainingSummary.areaUnderROC))\n",
    "\n",
    "# Set the model threshold to maximize F-Measure\n",
    "# fMeasure = trainingSummary.fMeasureByThreshold\n",
    "# maxFMeasure = fMeasure.groupBy().max('F-Measure').select('max(F-Measure)').head()\n",
    "# bestThreshold = fMeasure.where(fMeasure['F-Measure'] == maxFMeasure['max(F-Measure)']) \\\n",
    "#     .select('threshold').head()['threshold']\n",
    "# data_lr.setThreshold(bestThreshold)\n",
    "\n",
    "predictions = lrModel.transform(dataset_test)\n",
    "predictions.show()\n",
    "evaluator = MulticlassClassificationEvaluator(labelCol=\"label\", predictionCol=\"prediction\", metricName=\"accuracy\")\n",
    "lraccuracy = evaluator.evaluate(predictions)\n",
    "print(\"Test set accuracy = \" + str(lraccuracy))\n",
    "print(predictions.count())\n",
    "test_ind = temp_Xy_test_t.select(\"trade_dt\", \"stcode\", \"scale\", \"valuation\", \"dividends\")\n",
    "test_ind.show()\n",
    "x = [\"scale\", \"valuation\", \"dividends\"]\n",
    "temp = predictions.join(test_ind, on = x, how = \"left\").sort(\"stcode\")\n",
    "# temp.show(20)\n",
    "pd_temp = temp.toPandas()\n",
    "pd_temp.to_csv('/content/drive/My Drive/Colab Notebooks/6893project/result2/pred_lr.csv')"
   ]
  },
  {
   "cell_type": "code",
   "execution_count": 116,
   "metadata": {
    "executionInfo": {
     "elapsed": 9,
     "status": "ok",
     "timestamp": 1639988379497,
     "user": {
      "displayName": "Yiyang Ni",
      "photoUrl": "https://lh3.googleusercontent.com/a/default-user=s64",
      "userId": "18337963620013696405"
     },
     "user_tz": 300
    },
    "id": "1p5ghG_J6Jp0"
   },
   "outputs": [],
   "source": []
  },
  {
   "cell_type": "code",
   "execution_count": 117,
   "metadata": {
    "colab": {
     "base_uri": "https://localhost:8080/"
    },
    "executionInfo": {
     "elapsed": 10626,
     "status": "ok",
     "timestamp": 1639988390115,
     "user": {
      "displayName": "Yiyang Ni",
      "photoUrl": "https://lh3.googleusercontent.com/a/default-user=s64",
      "userId": "18337963620013696405"
     },
     "user_tz": 300
    },
    "id": "_Epy4mNLtfkM",
    "outputId": "b275d72c-4ef0-41fb-ead1-9c9a62e57132"
   },
   "outputs": [
    {
     "name": "stdout",
     "output_type": "stream",
     "text": [
      "+-----+--------------------+-------------------+------------------+------------------+------------------+------------------+------------------+------------------+------------------+------------------+------------------+----+--------------------+--------------------+----------+\n",
      "|label|            features|              scale|         valuation|         dividends|       proficiency|           quality|            growth|           reverse|        volatility|          fluidity|           analyze|flag|       rawPrediction|         probability|prediction|\n",
      "+-----+--------------------+-------------------+------------------+------------------+------------------+------------------+------------------+------------------+------------------+------------------+------------------+----+--------------------+--------------------+----------+\n",
      "|  0.0|[5.78332326477891...|  5.783323264778917|15.871827799722297|2.4269565490394815|18.972440959549868|  4.79555716461509|20.441545320199403|13.297173050865972| 9.836837850753362| 8.294799854603195| 2.809659597609744| 1.0|[-221.56739853654...|[0.49090687583286...|       1.0|\n",
      "|  0.0|[4.96937460624089...|   4.96937460624089| 7.726340512028326| 1.510268693665322|  8.44469303642385|2.9479217439295744|10.434264028534022| 5.870870002327466| 10.84740461865391|14.100923609405715|  8.78390643277094| 1.0|[-170.71517309888...|[0.37348979884439...|       1.0|\n",
      "|  0.0|[0.53265145156879...| 0.5326514515687997| 9.120676518510617| 2.703725395207953|17.687695392956794| 2.665484442237979| 12.61689449687143|6.3737919546722255| 5.017122151931252| 6.223531289185861|   7.8320841658301| 1.0|[-152.86668487939...|[0.65104800762709...|       0.0|\n",
      "|  1.0|[3.89748457162252...|  3.897484571622522| 9.658050464879524|1.6245888198634044|14.066431385365348|3.5022179088957417|17.121152245545645|14.744675202251198|11.455319591697165| 7.073056332210074| 6.872184424876474|-1.0|[-197.50714622844...|[0.41639875551473...|       1.0|\n",
      "|  0.0|[0.92283435514090...| 0.9228343551409006| 9.731503490913314|1.5132891778316133| 8.093029462000285|1.3628619989794304|13.753700389862285| 8.363649174370172|  6.51376088532978| 7.098679280992737| 6.872184424876474| 1.0|[-139.04043767546...|[0.54492018115301...|       0.0|\n",
      "|  0.0|[6.51215644468458...|  6.512156444684582|13.806616578415886| 4.275079842115479| 8.114271263686966|2.4439180281341417| 9.840445440948786| 8.528470794673966| 3.824130255225407| 5.559876582263227|5.8179297417318345| 1.0|[-154.91042506546...|[0.55080304566410...|       0.0|\n",
      "|  0.0|[0.13381686744204...|0.13381686744204213| 11.58396597455991|1.9800069811443721| 9.761551205771887|  3.62430539413706| 5.611021709646038| 7.673802125714657|1.5540072776807827|5.5453041573097295| 6.872184424876474| 1.0|[-119.06761631069...|[0.59730939475156...|       0.0|\n",
      "|  0.0|[4.91596221205486...|  4.915962212054866|11.191586497049382|1.7396575871164746| 11.95634238443674|3.5479671376471456| 7.320095656434228| 8.711092187496117| 6.784158005429761|10.849645661601096| 8.068589378668118| 1.0|[-167.76621148655...|[0.43487488720964...|       1.0|\n",
      "|  0.0|[1.26002819464942...| 1.2600281946494216| 5.690711375156211|1.4632175951800312| 10.05677938720558| 2.594987592872713| 8.999967821655108|  8.79857984611695| 5.962484445709414| 4.626119382550466| 6.872184424876474| 1.0|[-124.72812925241...|[0.49945434841428...|       1.0|\n",
      "|  0.0|[5.25019742570284...|  5.250197425702848|15.512624949630993| 2.195659928236968|  9.66373197526632|0.8698500089881374|10.490076449104437|  5.61966599199826| 8.603869039036038| 7.801621269833556|6.7541566239202675| 1.0|[-159.15390844173...|[0.54529433180868...|       0.0|\n",
      "|  0.0|[4.68247207762020...|  4.682472077620208| 7.862391289433223|1.5427633056170782|12.626496469748206| 4.367815654941378|13.141379861735608| 7.017874314639644| 4.487130494589893| 4.314005847395128| 8.239268449274185| 1.0|[-151.48517136637...|[0.60269520658135...|       0.0|\n",
      "|  0.0|[6.10694136627447...|  6.106941366274474| 9.643843955693752| 1.912472804432706|  8.26028034761273|2.9532928127067484|14.489691235836057| 6.094402266664671|  5.56063274295476| 6.914875205789219|  7.62786604907268| 1.0|[-155.02226654741...|[0.56128479485608...|       0.0|\n",
      "|  0.0|[2.06414886800394...|   2.06414886800394| 13.14773329421068|3.2361207432194465| 9.140613105319337| 2.594758784342181|  8.19635498549043| 7.283556462869392|3.1923714036718014|3.9051588595711983|  8.43371941547421| 1.0|[-135.46607734690...|[0.64797074692944...|       0.0|\n",
      "|  0.0|[2.47084928841477...|  2.470849288414777| 5.714591685876137| 1.789923378196384| 14.33601938595731| 3.116313946773415|  11.0058465426729|12.774441523600332| 6.681810633848961|10.299510743230327| 6.915264141588716| 1.0|[-166.39842458898...|[0.38425421091239...|       1.0|\n",
      "|  0.0|[2.71280768368296...| 2.7128076836829655|2.2425111512231197|1.7568088454806672|12.543152576884857|3.2377776858361287| 5.755197595243057| 7.895610877781717| 13.72451415752889|  8.75468974533636| 6.872184424876474| 1.0|[-149.41184705663...|[0.30755026078597...|       1.0|\n",
      "|  0.0|[4.4943988987444,...|    4.4943988987444|10.977465282652084|1.6012416605817252|13.588183198779214|4.1079821371755125|14.687056090233982| 6.415236869990974|1.2493038508682286| 5.838845071767997|5.8879722582090235| 1.0|[-149.44395641921...|[0.64978099954882...|       0.0|\n",
      "|  0.0|[1.46628950827619...| 1.4662895082761924|14.276324262641525|1.3551517031653764| 4.493545215790014|  3.09880494265113|3.8055313706892253|10.621676691759346|  6.79770887086496| 4.398070629338056| 6.872184424876474| 1.0|[-127.09164080783...|[0.47326645306317...|       1.0|\n",
      "|  0.0|[6.44409338994296...|  6.444093389942966|19.147348117520337| 3.930164819378137| 9.044229591593915|2.8671497689826686| 9.337871216095992|  7.08654054282067| 6.702274210458354|10.458632341712667|2.5258324643908248| 1.0|[-171.62092058749...|[0.48068547121579...|       1.0|\n",
      "|  0.0|[2.81342684180206...| 2.8134268418020665| 11.38962661845001|1.7516188399724308|  8.70047609813849|3.5774025927306674|10.029514972805428|  6.84667464991073|3.9972013725201774| 6.824425549499244| 6.872184424876474| 1.0|[-138.49160310223...|[0.56984571688301...|       0.0|\n",
      "|  0.0|[5.20486031662993...| 5.2048603166299365|14.945859221176743| 4.620660371922572|11.762917479074979|3.9951675009742837| 6.611305837450575|11.400581343106774| 5.777821978052931|  4.66301911090706|  8.13050013944898| 1.0|[-174.49966971898...|[0.53711560595014...|       0.0|\n",
      "+-----+--------------------+-------------------+------------------+------------------+------------------+------------------+------------------+------------------+------------------+------------------+------------------+----+--------------------+--------------------+----------+\n",
      "only showing top 20 rows\n",
      "\n",
      "Test set accuracy = 0.5754795663052544\n",
      "+----------+------+-------------------+------------------+------------------+\n",
      "|  trade_dt|stcode|              scale|         valuation|         dividends|\n",
      "+----------+------+-------------------+------------------+------------------+\n",
      "|2012-03-30|     6|  5.783323264778917|15.871827799722297|2.4269565490394815|\n",
      "|2012-03-30|    11|   4.96937460624089| 7.726340512028326| 1.510268693665322|\n",
      "|2012-03-30|    14| 0.5326514515687997| 9.120676518510617| 2.703725395207953|\n",
      "|2012-03-30|    19|  3.897484571622522| 9.658050464879524|1.6245888198634044|\n",
      "|2012-03-30|    20| 0.9228343551409006| 9.731503490913314|1.5132891778316133|\n",
      "|2012-03-30|    21|  6.512156444684582|13.806616578415886| 4.275079842115479|\n",
      "|2012-03-30|    23|0.13381686744204213| 11.58396597455991|1.9800069811443721|\n",
      "|2012-03-30|    24|  4.915962212054866|11.191586497049382|1.7396575871164746|\n",
      "|2012-03-30|    25| 1.2600281946494216| 5.690711375156211|1.4632175951800312|\n",
      "|2012-03-30|    28|  5.250197425702848|15.512624949630993| 2.195659928236968|\n",
      "|2012-03-30|    29|  4.682472077620208| 7.862391289433223|1.5427633056170782|\n",
      "|2012-03-30|    31|  6.106941366274474| 9.643843955693752| 1.912472804432706|\n",
      "|2012-03-30|    32|   2.06414886800394| 13.14773329421068|3.2361207432194465|\n",
      "|2012-03-30|    33|  2.470849288414777| 5.714591685876137| 1.789923378196384|\n",
      "|2012-03-30|    34| 2.7128076836829655|2.2425111512231197|1.7568088454806672|\n",
      "|2012-03-30|    36|    4.4943988987444|10.977465282652084|1.6012416605817252|\n",
      "|2012-03-30|    37| 1.4662895082761924|14.276324262641525|1.3551517031653764|\n",
      "|2012-03-30|    39|  6.444093389942966|19.147348117520337| 3.930164819378137|\n",
      "|2012-03-30|    40| 2.8134268418020665| 11.38962661845001|1.7516188399724308|\n",
      "|2012-03-30|    42| 5.2048603166299365|14.945859221176743| 4.620660371922572|\n",
      "+----------+------+-------------------+------------------+------------------+\n",
      "only showing top 20 rows\n",
      "\n"
     ]
    },
    {
     "name": "stderr",
     "output_type": "stream",
     "text": [
      "/content/spark-3.1.2-bin-hadoop3.2/python/pyspark/sql/pandas/conversion.py:87: UserWarning: toPandas attempted Arrow optimization because 'spark.sql.execution.arrow.pyspark.enabled' is set to true; however, failed by the reason below:\n",
      "  Unsupported type in conversion to Arrow: VectorUDT\n",
      "Attempting non-optimization as 'spark.sql.execution.arrow.pyspark.fallback.enabled' is set to true.\n",
      "  warnings.warn(msg)\n"
     ]
    }
   ],
   "source": [
    "from pyspark.ml.evaluation import MulticlassClassificationEvaluator\n",
    "from pyspark.ml.classification import NaiveBayes\n",
    "nb = NaiveBayes()\n",
    "nbModel = nb.fit(dataset)\n",
    "\n",
    "predictions = nbModel.transform(dataset_test)\n",
    "predictions.show()\n",
    "\n",
    "# compute accuracy on the test set\n",
    "evaluator = MulticlassClassificationEvaluator(labelCol=\"label\", predictionCol=\"prediction\", metricName=\"accuracy\")\n",
    "nbaccuracy = evaluator.evaluate(predictions)\n",
    "print(\"Test set accuracy = \" + str(nbaccuracy))\n",
    "test_ind = temp_Xy_test_t.select(\"trade_dt\", \"stcode\", \"scale\", \"valuation\", \"dividends\")\n",
    "test_ind.show()\n",
    "x = [\"scale\", \"valuation\", \"dividends\"]\n",
    "temp = predictions.join(test_ind, on = x, how = \"left\").sort(\"stcode\")\n",
    "# temp.show(20)\n",
    "pd_temp = temp.toPandas()\n",
    "pd_temp.to_csv('/content/drive/My Drive/Colab Notebooks/6893project/result2/pred_nb.csv')"
   ]
  },
  {
   "cell_type": "code",
   "execution_count": 118,
   "metadata": {
    "colab": {
     "base_uri": "https://localhost:8080/"
    },
    "executionInfo": {
     "elapsed": 15066,
     "status": "ok",
     "timestamp": 1639988405180,
     "user": {
      "displayName": "Yiyang Ni",
      "photoUrl": "https://lh3.googleusercontent.com/a/default-user=s64",
      "userId": "18337963620013696405"
     },
     "user_tz": 300
    },
    "id": "2mi66t4hwMqo",
    "outputId": "d3187f34-f7a0-40c1-84f4-6740238b9002"
   },
   "outputs": [
    {
     "name": "stdout",
     "output_type": "stream",
     "text": [
      "+-----+--------------------+-------------------+------------------+------------------+------------------+------------------+------------------+------------------+------------------+------------------+------------------+----+--------------------+--------------------+----------+\n",
      "|label|            features|              scale|         valuation|         dividends|       proficiency|           quality|            growth|           reverse|        volatility|          fluidity|           analyze|flag|       rawPrediction|         probability|prediction|\n",
      "+-----+--------------------+-------------------+------------------+------------------+------------------+------------------+------------------+------------------+------------------+------------------+------------------+----+--------------------+--------------------+----------+\n",
      "|  0.0|[5.78332326477891...|  5.783323264778917|15.871827799722297|2.4269565490394815|18.972440959549868|  4.79555716461509|20.441545320199403|13.297173050865972| 9.836837850753362| 8.294799854603195| 2.809659597609744| 1.0|[-0.1626966430602...|[0.41936192795579...|       1.0|\n",
      "|  0.0|[4.96937460624089...|   4.96937460624089| 7.726340512028326| 1.510268693665322|  8.44469303642385|2.9479217439295744|10.434264028534022| 5.870870002327466| 10.84740461865391|14.100923609405715|  8.78390643277094| 1.0|[-0.1794233343909...|[0.41123878354933...|       1.0|\n",
      "|  0.0|[0.53265145156879...| 0.5326514515687997| 9.120676518510617| 2.703725395207953|17.687695392956794| 2.665484442237979| 12.61689449687143|6.3737919546722255| 5.017122151931252| 6.223531289185861|   7.8320841658301| 1.0|[0.55170864972439...|[0.75089985683459...|       0.0|\n",
      "|  1.0|[3.89748457162252...|  3.897484571622522| 9.658050464879524|1.6245888198634044|14.066431385365348|3.5022179088957417|17.121152245545645|14.744675202251198|11.455319591697165| 7.073056332210074| 6.872184424876474|-1.0|[-0.0403114784661...|[0.47985517146981...|       1.0|\n",
      "|  0.0|[0.92283435514090...| 0.9228343551409006| 9.731503490913314|1.5132891778316133| 8.093029462000285|1.3628619989794304|13.753700389862285| 8.363649174370172|  6.51376088532978| 7.098679280992737| 6.872184424876474| 1.0|[0.29074843816016...|[0.64141176477728...|       0.0|\n",
      "|  0.0|[6.51215644468458...|  6.512156444684582|13.806616578415886| 4.275079842115479| 8.114271263686966|2.4439180281341417| 9.840445440948786| 8.528470794673966| 3.824130255225407| 5.559876582263227|5.8179297417318345| 1.0|[-0.0850195758669...|[0.45759234168691...|       1.0|\n",
      "|  0.0|[0.13381686744204...|0.13381686744204213| 11.58396597455991|1.9800069811443721| 9.761551205771887|  3.62430539413706| 5.611021709646038| 7.673802125714657|1.5540072776807827|5.5453041573097295| 6.872184424876474| 1.0|[0.04704907908070...|[0.52350719679845...|       0.0|\n",
      "|  0.0|[4.91596221205486...|  4.915962212054866|11.191586497049382|1.7396575871164746| 11.95634238443674|3.5479671376471456| 7.320095656434228| 8.711092187496117| 6.784158005429761|10.849645661601096| 8.068589378668118| 1.0|[-0.2215785458866...|[0.39098895513253...|       1.0|\n",
      "|  0.0|[1.26002819464942...| 1.2600281946494216| 5.690711375156211|1.4632175951800312| 10.05677938720558| 2.594987592872713| 8.999967821655108|  8.79857984611695| 5.962484445709414| 4.626119382550466| 6.872184424876474| 1.0|[0.02643340403344...|[0.51321362459745...|       0.0|\n",
      "|  0.0|[5.25019742570284...|  5.250197425702848|15.512624949630993| 2.195659928236968|  9.66373197526632|0.8698500089881374|10.490076449104437|  5.61966599199826| 8.603869039036038| 7.801621269833556|6.7541566239202675| 1.0|[0.11347752697736...|[0.55649646694142...|       0.0|\n",
      "|  0.0|[4.68247207762020...|  4.682472077620208| 7.862391289433223|1.5427633056170782|12.626496469748206| 4.367815654941378|13.141379861735608| 7.017874314639644| 4.487130494589893| 4.314005847395128| 8.239268449274185| 1.0|[-0.0245413807381...|[0.48773177249878...|       1.0|\n",
      "|  0.0|[6.10694136627447...|  6.106941366274474| 9.643843955693752| 1.912472804432706|  8.26028034761273|2.9532928127067484|14.489691235836057| 6.094402266664671|  5.56063274295476| 6.914875205789219|  7.62786604907268| 1.0|[0.18175958688718...|[0.58989205905806...|       0.0|\n",
      "|  0.0|[2.06414886800394...|   2.06414886800394| 13.14773329421068|3.2361207432194465| 9.140613105319337| 2.594758784342181|  8.19635498549043| 7.283556462869392|3.1923714036718014|3.9051588595711983|  8.43371941547421| 1.0|[0.26221316167091...|[0.62818220488323...|       0.0|\n",
      "|  0.0|[2.47084928841477...|  2.470849288414777| 5.714591685876137| 1.789923378196384| 14.33601938595731| 3.116313946773415|  11.0058465426729|12.774441523600332| 6.681810633848961|10.299510743230327| 6.915264141588716| 1.0|[0.10231207242531...|[0.55097828406962...|       0.0|\n",
      "|  0.0|[2.71280768368296...| 2.7128076836829655|2.2425111512231197|1.7568088454806672|12.543152576884857|3.2377776858361287| 5.755197595243057| 7.895610877781717| 13.72451415752889|  8.75468974533636| 6.872184424876474| 1.0|[-0.1690111825522...|[0.41628994806593...|       1.0|\n",
      "|  0.0|[4.4943988987444,...|    4.4943988987444|10.977465282652084|1.6012416605817252|13.588183198779214|4.1079821371755125|14.687056090233982| 6.415236869990974|1.2493038508682286| 5.838845071767997|5.8879722582090235| 1.0|[0.38360234054015...|[0.68291590015219...|       0.0|\n",
      "|  0.0|[1.46628950827619...| 1.4662895082761924|14.276324262641525|1.3551517031653764| 4.493545215790014|  3.09880494265113|3.8055313706892253|10.621676691759346|  6.79770887086496| 4.398070629338056| 6.872184424876474| 1.0|[-0.4408703071735...|[0.29281721074357...|       1.0|\n",
      "|  0.0|[6.44409338994296...|  6.444093389942966|19.147348117520337| 3.930164819378137| 9.044229591593915|2.8671497689826686| 9.337871216095992|  7.08654054282067| 6.702274210458354|10.458632341712667|2.5258324643908248| 1.0|[-0.2376854538828...|[0.38334581213128...|       1.0|\n",
      "|  0.0|[2.81342684180206...| 2.8134268418020665| 11.38962661845001|1.7516188399724308|  8.70047609813849|3.5774025927306674|10.029514972805428|  6.84667464991073|3.9972013725201774| 6.824425549499244| 6.872184424876474| 1.0|[0.21337904161911...|[0.60509926352027...|       0.0|\n",
      "|  0.0|[5.20486031662993...| 5.2048603166299365|14.945859221176743| 4.620660371922572|11.762917479074979|3.9951675009742837| 6.611305837450575|11.400581343106774| 5.777821978052931|  4.66301911090706|  8.13050013944898| 1.0|[-0.2672431587343...|[0.36947113494350...|       1.0|\n",
      "+-----+--------------------+-------------------+------------------+------------------+------------------+------------------+------------------+------------------+------------------+------------------+------------------+----+--------------------+--------------------+----------+\n",
      "only showing top 20 rows\n",
      "\n",
      "Test set accuracy = 0.5704753961634695\n",
      "+----------+------+-------------------+------------------+------------------+\n",
      "|  trade_dt|stcode|              scale|         valuation|         dividends|\n",
      "+----------+------+-------------------+------------------+------------------+\n",
      "|2012-03-30|     6|  5.783323264778917|15.871827799722297|2.4269565490394815|\n",
      "|2012-03-30|    11|   4.96937460624089| 7.726340512028326| 1.510268693665322|\n",
      "|2012-03-30|    14| 0.5326514515687997| 9.120676518510617| 2.703725395207953|\n",
      "|2012-03-30|    19|  3.897484571622522| 9.658050464879524|1.6245888198634044|\n",
      "|2012-03-30|    20| 0.9228343551409006| 9.731503490913314|1.5132891778316133|\n",
      "|2012-03-30|    21|  6.512156444684582|13.806616578415886| 4.275079842115479|\n",
      "|2012-03-30|    23|0.13381686744204213| 11.58396597455991|1.9800069811443721|\n",
      "|2012-03-30|    24|  4.915962212054866|11.191586497049382|1.7396575871164746|\n",
      "|2012-03-30|    25| 1.2600281946494216| 5.690711375156211|1.4632175951800312|\n",
      "|2012-03-30|    28|  5.250197425702848|15.512624949630993| 2.195659928236968|\n",
      "|2012-03-30|    29|  4.682472077620208| 7.862391289433223|1.5427633056170782|\n",
      "|2012-03-30|    31|  6.106941366274474| 9.643843955693752| 1.912472804432706|\n",
      "|2012-03-30|    32|   2.06414886800394| 13.14773329421068|3.2361207432194465|\n",
      "|2012-03-30|    33|  2.470849288414777| 5.714591685876137| 1.789923378196384|\n",
      "|2012-03-30|    34| 2.7128076836829655|2.2425111512231197|1.7568088454806672|\n",
      "|2012-03-30|    36|    4.4943988987444|10.977465282652084|1.6012416605817252|\n",
      "|2012-03-30|    37| 1.4662895082761924|14.276324262641525|1.3551517031653764|\n",
      "|2012-03-30|    39|  6.444093389942966|19.147348117520337| 3.930164819378137|\n",
      "|2012-03-30|    40| 2.8134268418020665| 11.38962661845001|1.7516188399724308|\n",
      "|2012-03-30|    42| 5.2048603166299365|14.945859221176743| 4.620660371922572|\n",
      "+----------+------+-------------------+------------------+------------------+\n",
      "only showing top 20 rows\n",
      "\n"
     ]
    },
    {
     "name": "stderr",
     "output_type": "stream",
     "text": [
      "/content/spark-3.1.2-bin-hadoop3.2/python/pyspark/sql/pandas/conversion.py:87: UserWarning: toPandas attempted Arrow optimization because 'spark.sql.execution.arrow.pyspark.enabled' is set to true; however, failed by the reason below:\n",
      "  Unsupported type in conversion to Arrow: VectorUDT\n",
      "Attempting non-optimization as 'spark.sql.execution.arrow.pyspark.fallback.enabled' is set to true.\n",
      "  warnings.warn(msg)\n"
     ]
    }
   ],
   "source": [
    "from pyspark.ml import Pipeline\n",
    "from pyspark.ml.classification import GBTClassifier\n",
    "from pyspark.ml.feature import StringIndexer, VectorIndexer\n",
    "from pyspark.ml.evaluation import MulticlassClassificationEvaluator\n",
    "gbt = GBTClassifier(maxIter=10)\n",
    "gbtModel = gbt.fit(dataset)\n",
    "predictions = gbtModel.transform(dataset_test)\n",
    "predictions.show()\n",
    "\n",
    "# compute accuracy on the test set\n",
    "evaluator = MulticlassClassificationEvaluator(labelCol=\"label\", predictionCol=\"prediction\", metricName=\"accuracy\")\n",
    "gbaccuracy = evaluator.evaluate(predictions)\n",
    "print(\"Test set accuracy = \" + str(gbaccuracy))\n",
    "test_ind = temp_Xy_test_t.select(\"trade_dt\", \"stcode\", \"scale\", \"valuation\", \"dividends\")\n",
    "test_ind.show()\n",
    "x = [\"scale\", \"valuation\", \"dividends\"]\n",
    "temp = predictions.join(test_ind, on = x, how = \"left\").sort(\"stcode\")\n",
    "# temp.show(20)\n",
    "pd_temp = temp.toPandas()\n",
    "pd_temp.to_csv('/content/drive/My Drive/Colab Notebooks/6893project/result2/pred_gb.csv')"
   ]
  },
  {
   "cell_type": "code",
   "execution_count": 1,
   "metadata": {},
   "outputs": [
    {
     "name": "stdout",
     "output_type": "stream",
     "text": [
      "Reading package lists... Done\n",
      "Building dependency tree       \n",
      "Reading state information... Done\n",
      "The following package was automatically installed and is no longer required:\n",
      "  libnuma1\n",
      "Use 'sudo apt autoremove' to remove it.\n",
      "The following NEW packages will be installed:\n",
      "  tree\n",
      "0 upgraded, 1 newly installed, 0 to remove and 41 not upgraded.\n",
      "Need to get 40.7 kB of archives.\n",
      "After this operation, 105 kB of additional disk space will be used.\n",
      "Get:1 http://southamerica-east1.gce.archive.ubuntu.com/ubuntu bionic/universe amd64 tree amd64 1.7.0-5 [40.7 kB]\n",
      "Fetched 40.7 kB in 1s (72.6 kB/s)\n",
      "Selecting previously unselected package tree.\n",
      "(Reading database ... 136214 files and directories currently installed.)\n",
      "Preparing to unpack .../tree_1.7.0-5_amd64.deb ...\n",
      "Unpacking tree (1.7.0-5) ...\n",
      "Setting up tree (1.7.0-5) ...\n",
      "Processing triggers for man-db (2.8.3-2ubuntu0.1) ...\n"
     ]
    }
   ],
   "source": [
    "!sudo apt-get install tree\n",
    "!tree ./ >> README.md"
   ]
  }
 ],
 "metadata": {
  "colab": {
   "authorship_tag": "ABX9TyN5BXx+Nnof3D/MJi8V5+Zr",
   "collapsed_sections": [],
   "name": "price_predict.ipynb",
   "provenance": []
  },
  "kernelspec": {
   "display_name": "Python 3",
   "language": "python",
   "name": "python3"
  },
  "language_info": {
   "codemirror_mode": {
    "name": "ipython",
    "version": 3
   },
   "file_extension": ".py",
   "mimetype": "text/x-python",
   "name": "python",
   "nbconvert_exporter": "python",
   "pygments_lexer": "ipython3",
   "version": "3.6.9"
  }
 },
 "nbformat": 4,
 "nbformat_minor": 1
}
=======
{"nbformat":4,"nbformat_minor":0,"metadata":{"colab":{"name":"price_predict.ipynb","provenance":[],"collapsed_sections":[],"authorship_tag":"ABX9TyN5BXx+Nnof3D/MJi8V5+Zr"},"kernelspec":{"name":"python3","display_name":"Python 3"},"language_info":{"name":"python"}},"cells":[{"cell_type":"code","execution_count":87,"metadata":{"colab":{"base_uri":"https://localhost:8080/"},"id":"jXIBPDgNlX9T","executionInfo":{"status":"ok","timestamp":1639988288464,"user_tz":300,"elapsed":867,"user":{"displayName":"Yiyang Ni","photoUrl":"https://lh3.googleusercontent.com/a/default-user=s64","userId":"18337963620013696405"}},"outputId":"50fb2691-9b7d-44ee-f264-1c10fa6ab0f7"},"outputs":[{"output_type":"stream","name":"stdout","text":["Drive already mounted at /content/drive; to attempt to forcibly remount, call drive.mount(\"/content/drive\", force_remount=True).\n"]}],"source":["from google.colab import drive\n","drive.mount('/content/drive')"]},{"cell_type":"code","source":["!apt-get update\n","!apt-get install openjdk-8-jre\n","!apt-get install scala\n","!pip install py4j\n","!wget -q https://downloads.apache.org/spark/spark-3.1.2/spark-3.1.2-bin-hadoop3.2.tgz\n","!tar xf spark-3.1.2-bin-hadoop3.2.tgz\n","!pip install -q findspark"],"metadata":{"colab":{"base_uri":"https://localhost:8080/"},"id":"7Yj6np8-ldlC","executionInfo":{"status":"ok","timestamp":1639988318432,"user_tz":300,"elapsed":29969,"user":{"displayName":"Yiyang Ni","photoUrl":"https://lh3.googleusercontent.com/a/default-user=s64","userId":"18337963620013696405"}},"outputId":"a4943f1d-26fa-4b9a-c2a0-25de7090cad9"},"execution_count":88,"outputs":[{"output_type":"stream","name":"stdout","text":["Hit:1 https://cloud.r-project.org/bin/linux/ubuntu bionic-cran40/ InRelease\n","Ign:2 https://developer.download.nvidia.com/compute/cuda/repos/ubuntu1804/x86_64  InRelease\n","Ign:3 https://developer.download.nvidia.com/compute/machine-learning/repos/ubuntu1804/x86_64  InRelease\n","Hit:4 https://developer.download.nvidia.com/compute/cuda/repos/ubuntu1804/x86_64  Release\n","Hit:5 https://developer.download.nvidia.com/compute/machine-learning/repos/ubuntu1804/x86_64  Release\n","Hit:6 http://archive.ubuntu.com/ubuntu bionic InRelease\n","Get:7 http://security.ubuntu.com/ubuntu bionic-security InRelease [88.7 kB]\n","Hit:8 http://ppa.launchpad.net/c2d4u.team/c2d4u4.0+/ubuntu bionic InRelease\n","Get:9 http://archive.ubuntu.com/ubuntu bionic-updates InRelease [88.7 kB]\n","Hit:12 http://ppa.launchpad.net/cran/libgit2/ubuntu bionic InRelease\n","Hit:13 http://ppa.launchpad.net/deadsnakes/ppa/ubuntu bionic InRelease\n","Get:14 http://archive.ubuntu.com/ubuntu bionic-backports InRelease [74.6 kB]\n","Hit:15 http://ppa.launchpad.net/graphics-drivers/ppa/ubuntu bionic InRelease\n","Fetched 252 kB in 2s (121 kB/s)\n","Reading package lists... Done\n","Reading package lists... Done\n","Building dependency tree       \n","Reading state information... Done\n","openjdk-8-jre is already the newest version (8u312-b07-0ubuntu1~18.04).\n","0 upgraded, 0 newly installed, 0 to remove and 82 not upgraded.\n","Reading package lists... Done\n","Building dependency tree       \n","Reading state information... Done\n","scala is already the newest version (2.11.12-4~18.04).\n","0 upgraded, 0 newly installed, 0 to remove and 82 not upgraded.\n","Requirement already satisfied: py4j in /usr/local/lib/python3.7/dist-packages (0.10.9.3)\n"]}]},{"cell_type":"code","source":["!rm -r *.tgz *.zip sample_data\n","!ls"],"metadata":{"colab":{"base_uri":"https://localhost:8080/"},"id":"P6fsQ_gtlsEm","executionInfo":{"status":"ok","timestamp":1639988318602,"user_tz":300,"elapsed":176,"user":{"displayName":"Yiyang Ni","photoUrl":"https://lh3.googleusercontent.com/a/default-user=s64","userId":"18337963620013696405"}},"outputId":"5b96a79f-1b65-44c1-9282-45fe9ed7cd04"},"execution_count":89,"outputs":[{"output_type":"stream","name":"stdout","text":["rm: cannot remove '*.zip': No such file or directory\n","rm: cannot remove 'sample_data': No such file or directory\n","drive  spark-3.1.2-bin-hadoop3.2\n"]}]},{"cell_type":"code","source":["import os\n","os.environ[\"JAVA_HOME\"] = \"/usr/lib/jvm/java-8-openjdk-amd64\"\n","os.environ[\"SPARK_HOME\"] = \"/content/spark-3.1.2-bin-hadoop3.2\"\n"],"metadata":{"id":"V_n0uYRtlu7f","executionInfo":{"status":"ok","timestamp":1639988318602,"user_tz":300,"elapsed":1,"user":{"displayName":"Yiyang Ni","photoUrl":"https://lh3.googleusercontent.com/a/default-user=s64","userId":"18337963620013696405"}}},"execution_count":90,"outputs":[]},{"cell_type":"code","source":["!apt-get update\n","!apt-get install openjdk-8-jdk-headless -qq    "],"metadata":{"colab":{"base_uri":"https://localhost:8080/"},"id":"3jSijTWngMfm","executionInfo":{"status":"ok","timestamp":1639988326497,"user_tz":300,"elapsed":7896,"user":{"displayName":"Yiyang Ni","photoUrl":"https://lh3.googleusercontent.com/a/default-user=s64","userId":"18337963620013696405"}},"outputId":"cb353a38-d81f-4b1d-8fa6-04e2c4f7a098"},"execution_count":91,"outputs":[{"output_type":"stream","name":"stdout","text":["\r0% [Working]\r            \rIgn:1 https://developer.download.nvidia.com/compute/cuda/repos/ubuntu1804/x86_64  InRelease\n","\r0% [Connecting to archive.ubuntu.com] [Connecting to security.ubuntu.com] [Conn\r                                                                               \rIgn:2 https://developer.download.nvidia.com/compute/machine-learning/repos/ubuntu1804/x86_64  InRelease\n","\r0% [Connecting to archive.ubuntu.com] [Connecting to security.ubuntu.com] [Conn\r                                                                               \rHit:3 https://developer.download.nvidia.com/compute/cuda/repos/ubuntu1804/x86_64  Release\n","\r0% [Connecting to archive.ubuntu.com (91.189.88.152)] [Connecting to security.u\r                                                                               \rHit:4 https://cloud.r-project.org/bin/linux/ubuntu bionic-cran40/ InRelease\n","Hit:5 https://developer.download.nvidia.com/compute/machine-learning/repos/ubuntu1804/x86_64  Release\n","Hit:6 http://ppa.launchpad.net/c2d4u.team/c2d4u4.0+/ubuntu bionic InRelease\n","Get:7 http://security.ubuntu.com/ubuntu bionic-security InRelease [88.7 kB]\n","Hit:8 http://archive.ubuntu.com/ubuntu bionic InRelease\n","Get:10 http://archive.ubuntu.com/ubuntu bionic-updates InRelease [88.7 kB]\n","Hit:11 http://ppa.launchpad.net/cran/libgit2/ubuntu bionic InRelease\n","Hit:12 http://ppa.launchpad.net/deadsnakes/ppa/ubuntu bionic InRelease\n","Get:14 http://archive.ubuntu.com/ubuntu bionic-backports InRelease [74.6 kB]\n","Hit:15 http://ppa.launchpad.net/graphics-drivers/ppa/ubuntu bionic InRelease\n","Fetched 252 kB in 3s (77.6 kB/s)\n","Reading package lists... Done\n"]}]},{"cell_type":"code","source":["import findspark\n","findspark.init()\n","import pandas as pd\n","\n","from pyspark.sql import SparkSession, Window\n","from pyspark.sql.functions import col, pandas_udf\n","from pyspark.sql.types import *\n","\n","# spark = SparkSession.builder.master(\"local[*]\").getOrCreate()\n","spark = SparkSession.builder.appName(\"Test Setup\").getOrCreate()\n","spark.conf.set(\"spark.sql.execution.arrow.pyspark.enabled\", \"true\")\n","sc = spark.sparkContext"],"metadata":{"id":"eratjFXFlxvn","executionInfo":{"status":"ok","timestamp":1639988326497,"user_tz":300,"elapsed":9,"user":{"displayName":"Yiyang Ni","photoUrl":"https://lh3.googleusercontent.com/a/default-user=s64","userId":"18337963620013696405"}}},"execution_count":92,"outputs":[]},{"cell_type":"code","source":["import sys\n","\n","sys.path.append('/content/drive/My Drive/Colab Notebooks/6893project/.')\n"],"metadata":{"id":"zopWlJUyl0JH","executionInfo":{"status":"ok","timestamp":1639988326497,"user_tz":300,"elapsed":9,"user":{"displayName":"Yiyang Ni","photoUrl":"https://lh3.googleusercontent.com/a/default-user=s64","userId":"18337963620013696405"}}},"execution_count":93,"outputs":[]},{"cell_type":"code","source":["\n","import os\n","from time import time"],"metadata":{"id":"P9brFKLfl2su","executionInfo":{"status":"ok","timestamp":1639988326498,"user_tz":300,"elapsed":9,"user":{"displayName":"Yiyang Ni","photoUrl":"https://lh3.googleusercontent.com/a/default-user=s64","userId":"18337963620013696405"}}},"execution_count":94,"outputs":[]},{"cell_type":"code","source":[""],"metadata":{"id":"X0vreAm0K2ro","executionInfo":{"status":"ok","timestamp":1639988326498,"user_tz":300,"elapsed":9,"user":{"displayName":"Yiyang Ni","photoUrl":"https://lh3.googleusercontent.com/a/default-user=s64","userId":"18337963620013696405"}}},"execution_count":94,"outputs":[]},{"cell_type":"code","source":["path = '/content/drive/My Drive/Colab Notebooks/6893project/data/'\n","all_close_file = path + 'df_all_close_price.csv'\n","timelist_m_file = path + 'timelist_m.csv'\n","all_close = spark.read.csv(\n","    all_close_file, \n","    header=True,\n","    inferSchema = True\n",")\n","# all_close.printSchema()"],"metadata":{"id":"U4YQS4xCl7Qy","executionInfo":{"status":"ok","timestamp":1639988347232,"user_tz":300,"elapsed":20743,"user":{"displayName":"Yiyang Ni","photoUrl":"https://lh3.googleusercontent.com/a/default-user=s64","userId":"18337963620013696405"}}},"execution_count":95,"outputs":[]},{"cell_type":"code","source":["timelist_m = spark.read.csv(\n","    timelist_m_file, \n","    header=False,\n","    inferSchema = True\n",")\n","\n","\n","timelist_m = timelist_m.withColumnRenamed('_c0', 'date')\n","timelist_m.printSchema()\n","timelist_m.show(5)"],"metadata":{"colab":{"base_uri":"https://localhost:8080/"},"id":"3kkxrzclyRRW","executionInfo":{"status":"ok","timestamp":1639988347422,"user_tz":300,"elapsed":197,"user":{"displayName":"Yiyang Ni","photoUrl":"https://lh3.googleusercontent.com/a/default-user=s64","userId":"18337963620013696405"}},"outputId":"55dc28e2-dd8b-4471-f4c2-4cd38998667e"},"execution_count":96,"outputs":[{"output_type":"stream","name":"stdout","text":["root\n"," |-- date: string (nullable = true)\n","\n","+----------+\n","|      date|\n","+----------+\n","|2010-01-29|\n","|2010-02-26|\n","|2010-03-31|\n","|2010-04-30|\n","|2010-05-31|\n","+----------+\n","only showing top 5 rows\n","\n"]}]},{"cell_type":"code","source":[""],"metadata":{"id":"RANmHw-XnfLX","executionInfo":{"status":"ok","timestamp":1639988347422,"user_tz":300,"elapsed":3,"user":{"displayName":"Yiyang Ni","photoUrl":"https://lh3.googleusercontent.com/a/default-user=s64","userId":"18337963620013696405"}}},"execution_count":96,"outputs":[]},{"cell_type":"code","source":["all_close = all_close.withColumnRenamed(\"规模\", \"scale\").withColumnRenamed(\"估值\", \"valuation\").withColumnRenamed(\"分红\", \"dividends\")\\\n","  .withColumnRenamed(\"盈利\", \"proficiency\").withColumnRenamed(\"财务质量\", \"quality\").withColumnRenamed(\"成长\", \"growth\")\\\n","  .withColumnRenamed(\"反转\", \"reverse\").withColumnRenamed(\"波动率\", \"volatility\").withColumnRenamed(\"流动性\", \"fluidity\")\\\n","  .withColumnRenamed(\"分析师预期变化\", \"analyze\")\n","\n","all_close.printSchema()"],"metadata":{"colab":{"base_uri":"https://localhost:8080/"},"id":"8gWGKjhemWgv","executionInfo":{"status":"ok","timestamp":1639988347422,"user_tz":300,"elapsed":2,"user":{"displayName":"Yiyang Ni","photoUrl":"https://lh3.googleusercontent.com/a/default-user=s64","userId":"18337963620013696405"}},"outputId":"e537e936-ddb3-40b8-99ee-2784988c1424"},"execution_count":97,"outputs":[{"output_type":"stream","name":"stdout","text":["root\n"," |-- trade_dt: string (nullable = true)\n"," |-- stcode: integer (nullable = true)\n"," |-- scale: double (nullable = true)\n"," |-- valuation: double (nullable = true)\n"," |-- dividends: double (nullable = true)\n"," |-- proficiency: double (nullable = true)\n"," |-- quality: double (nullable = true)\n"," |-- growth: double (nullable = true)\n"," |-- reverse: double (nullable = true)\n"," |-- volatility: double (nullable = true)\n"," |-- fluidity: double (nullable = true)\n"," |-- analyze: double (nullable = true)\n"," |-- post_adjust_close: double (nullable = true)\n"," |-- next_month_price: double (nullable = true)\n"," |-- next_monthly_change: double (nullable = true)\n"," |-- next_day_price: double (nullable = true)\n"," |-- next_day_change: double (nullable = true)\n"," |-- next_monthly_change_rank: double (nullable = true)\n"," |-- flag: double (nullable = true)\n","\n"]}]},{"cell_type":"code","source":["all = all_close.filter(all_close.scale<1000)\n","# all.show(20)"],"metadata":{"id":"1sLTtFuIokJz","executionInfo":{"status":"ok","timestamp":1639988347567,"user_tz":300,"elapsed":146,"user":{"displayName":"Yiyang Ni","photoUrl":"https://lh3.googleusercontent.com/a/default-user=s64","userId":"18337963620013696405"}}},"execution_count":98,"outputs":[]},{"cell_type":"code","source":["temp = all.filter(all.stcode==1)\n","# temp.show(20)"],"metadata":{"id":"xDl0zLUywZQk","executionInfo":{"status":"ok","timestamp":1639988347568,"user_tz":300,"elapsed":9,"user":{"displayName":"Yiyang Ni","photoUrl":"https://lh3.googleusercontent.com/a/default-user=s64","userId":"18337963620013696405"}}},"execution_count":99,"outputs":[]},{"cell_type":"code","source":["coef = all.select(\"trade_dt\", \"stcode\", \"scale\", \"valuation\", \"dividends\", \"proficiency\", \"quality\", \"growth\", \"reverse\", \"volatility\", \"fluidity\", \"analyze\")\n","coef.printSchema()"],"metadata":{"colab":{"base_uri":"https://localhost:8080/"},"id":"V_lloGFzsfnK","executionInfo":{"status":"ok","timestamp":1639988347568,"user_tz":300,"elapsed":9,"user":{"displayName":"Yiyang Ni","photoUrl":"https://lh3.googleusercontent.com/a/default-user=s64","userId":"18337963620013696405"}},"outputId":"3e856566-85fe-4c7b-dc60-de9483f52e81"},"execution_count":100,"outputs":[{"output_type":"stream","name":"stdout","text":["root\n"," |-- trade_dt: string (nullable = true)\n"," |-- stcode: integer (nullable = true)\n"," |-- scale: double (nullable = true)\n"," |-- valuation: double (nullable = true)\n"," |-- dividends: double (nullable = true)\n"," |-- proficiency: double (nullable = true)\n"," |-- quality: double (nullable = true)\n"," |-- growth: double (nullable = true)\n"," |-- reverse: double (nullable = true)\n"," |-- volatility: double (nullable = true)\n"," |-- fluidity: double (nullable = true)\n"," |-- analyze: double (nullable = true)\n","\n"]}]},{"cell_type":"code","source":["# timelist_m.show(5)\n","timelist_m = timelist_m.toPandas()\n"],"metadata":{"id":"L2B6tB-80qu7","executionInfo":{"status":"ok","timestamp":1639988347568,"user_tz":300,"elapsed":4,"user":{"displayName":"Yiyang Ni","photoUrl":"https://lh3.googleusercontent.com/a/default-user=s64","userId":"18337963620013696405"}}},"execution_count":101,"outputs":[]},{"cell_type":"code","source":["print(timelist_m['date'][0])"],"metadata":{"colab":{"base_uri":"https://localhost:8080/"},"id":"Zbdcyqvl05GO","executionInfo":{"status":"ok","timestamp":1639988347569,"user_tz":300,"elapsed":5,"user":{"displayName":"Yiyang Ni","photoUrl":"https://lh3.googleusercontent.com/a/default-user=s64","userId":"18337963620013696405"}},"outputId":"459ad7e9-624e-4bd9-e987-1d9e71870d01"},"execution_count":102,"outputs":[{"output_type":"stream","name":"stdout","text":["2010-01-29\n"]}]},{"cell_type":"code","source":["facktor_list = [\"trade_dt\", \"scale\", \"valuation\", \"dividends\", \"proficiency\", \"quality\", \"growth\", \"reverse\", \"volatility\", \"fluidity\", \"analyze\"]\n","def norm(pdf):\n","  temp = pdf[facktor_list]\n","  mean = temp.mean()\n","  std = temp.std()\n","  return pdf.assign(temp=(temp-mean)/std)\n"],"metadata":{"id":"NWuxv59iemVC","executionInfo":{"status":"ok","timestamp":1639988347569,"user_tz":300,"elapsed":4,"user":{"displayName":"Yiyang Ni","photoUrl":"https://lh3.googleusercontent.com/a/default-user=s64","userId":"18337963620013696405"}}},"execution_count":103,"outputs":[]},{"cell_type":"code","source":["import pandas as pd  \n","from pyspark.sql.functions import pandas_udf, ceil\n","from pyspark.sql.types import *\n","from pyspark.sql.functions import when, size, col, lit\n","\n","window = 24\n","for i in range(1):\n","  # start = time.time()\n","  starttime = timelist_m['date'][i]\n","  endtime = timelist_m['date'][i+window]\n","  used = all.filter((all.trade_dt >= starttime) & (all.trade_dt <= endtime))\n","  # used = used.select(\"trade_dt\", \"stcode\", \"scale\", \"valuation\", \"dividends\", \"proficiency\", \"quality\", \"growth\", \"reverse\", \"volatility\", \"fluidity\", \"analyze\")\n","  df_temp = used.filter(used.flag != 0)\n","  df_temp.show(20)\n","  # print(used.tail(20))\n","  temp_X = df_temp.select(\"scale\", \"valuation\", \"dividends\", \"proficiency\", \"quality\", \"growth\", \"reverse\", \"volatility\", \"fluidity\", \"analyze\", \"flag\")\n","  # temp_X.show(20)\n","  pdf = temp_X.toPandas()\n","  # print(pdf)\n","  fla = pdf['flag']\n","  # print(fla)\n","  pdf = pdf.drop(['flag'], axis = 1)\n","  mean = pdf.mean()\n","  std = pdf.std()\n","  min_ = pdf.min()\n","  training_X = pdf - min_\n","  #(pdf-mean)/std\n","  l = [training_X, fla]\n","  t = pd.concat(l, axis = 1, join = 'outer')\n","  \n","  temp_X_train = spark.createDataFrame(t)\n","  \n","  temp_X_train.show(20)\n","  temp_y_train = df_temp.select(df_temp.flag)\n","\n","  # temp.show(5)\n","\n","  # temp_X_train = temp_X.groupBy(\"trade_dt\").applyInPandas(norm, \\\n","  #   schema = \"trade_dt string, stcode integer, scale double, valuation double, dividendes double, \\\n","  #   proficiency double, quality double, growth double, reverse double, volatility double, fluidity double, analyze double\").show(5)\n","  \n"],"metadata":{"colab":{"base_uri":"https://localhost:8080/"},"id":"LGdYBpNFx61E","executionInfo":{"status":"ok","timestamp":1639988357016,"user_tz":300,"elapsed":9450,"user":{"displayName":"Yiyang Ni","photoUrl":"https://lh3.googleusercontent.com/a/default-user=s64","userId":"18337963620013696405"}},"outputId":"38136316-471a-4b4c-e275-4c4ab3724e8b"},"execution_count":104,"outputs":[{"output_type":"stream","name":"stdout","text":["+----------+------+--------------------+--------------------+-------------------+-------------------+--------------------+-------------------+--------------------+--------------------+-------------------+--------------------+-----------------+----------------+--------------------+--------------+--------------------+------------------------+----+\n","|  trade_dt|stcode|               scale|           valuation|          dividends|        proficiency|             quality|             growth|             reverse|          volatility|           fluidity|             analyze|post_adjust_close|next_month_price| next_monthly_change|next_day_price|     next_day_change|next_monthly_change_rank|flag|\n","+----------+------+--------------------+--------------------+-------------------+-------------------+--------------------+-------------------+--------------------+--------------------+-------------------+--------------------+-----------------+----------------+--------------------+--------------+--------------------+------------------------+----+\n","|2010-01-29|     2|  0.4232251014006718|    4.13613855469809|-0.4687203752225284| -4.423291991161205| -0.5654892428793384|-1.4491373829709566|  -1.358205384387155|  -4.488858954413238| 1.6877473332905018| -0.6808562212403357|             9.34|            9.43|0.009635974304068595|          9.41|0.007494646680942241|                   260.0|-1.0|\n","|2010-01-29|     9|  1.7335277341300468| -0.5455747690647423|-0.4306288451097649| 0.6054506702660191|  0.3623498860056324|  -4.05304023433607| -0.7990783974170315|0.060126158898430725| 2.1909745822935536|  -1.258031609799084|            10.43|           11.31| 0.08437200383509125|         10.46|0.002876318312559...|                  1014.0| 1.0|\n","|2010-01-29|    19| -3.2061533813105965| -1.5417853064974965|-0.4659456117566935|-0.2641487000206896| -1.0306626498411997|-1.3744167400915628|  1.3990370413121005|  3.9042386733780416| 0.5084086559908485| -1.4639257928224003|            10.43|           10.07|-0.03451581975071...|          9.81|-0.05944391179290498|                    57.0|-1.0|\n","|2010-01-29|    21|  2.1534362870282755|   4.910057880591091| 1.3532280212279055| -3.186651712930737|  1.1955340694107228| 0.4495863227979385|  -2.019618324044376| -1.7040584922611786| -2.638042979541879|  0.4063160187055101|            13.04|           13.05|7.668711656443339E-4|          12.4|-0.04907975460122693|                   187.0|-1.0|\n","|2010-01-29|    23| -3.9725254323103383|0.028471473529266825| 2.2042167917089257| 0.3969605144877848| -0.8137825496560168|  5.778388178743873|  1.6555822041864494|  -1.702448411275622| 0.5729709504976046| -0.7080177978121385|             9.63|             9.6|-0.00311526479750...|          9.64|0.001038421599169...|                   171.0|-1.0|\n","|2010-01-29|    24|   0.982296672296447|     5.3107759836131|-0.2568100817882325| 2.1119713863741048|  0.4740300709120474|  4.146212005788573| -2.7492557739612358|-0.05202588204138...| 4.8095795096446725|  0.1135561963071911|            22.66|           23.03|0.016328331862312417|         23.39| 0.03221535745807591|                   323.0|-1.0|\n","|2010-01-29|    25| -1.6908100459108977|  -7.942338065592353|-0.5782366757480575| -3.397193736728508|  -1.260979405368221| -6.846115094055685|  2.4614634388811614|  0.4015880986985412| -5.322280454186418| -3.0809581567653206|            11.29|           11.38|0.007971656333038313|         10.82|-0.04162976085030...|                   246.0|-1.0|\n","|2010-01-29|    31|  1.7023571233357868|  -7.223619093614106|-0.7127583614236941| 1.4754545469465163|-0.34740848570869354|  6.834614280828188|  -3.798356584011766|  -3.457617377694497|-1.2835002889678255|   4.814656304328714|             9.49|            9.66|0.017913593256059013|          9.62|0.013698630136986134|                   340.0|-1.0|\n","|2010-01-29|    33| -0.3151486652957062| -4.8820267760794165|-0.7415211765228484|-0.3545842070948016| -0.3600322522902241|                0.0|  -2.376438890566116|    2.39135068214689| 0.9580109021308084|   3.696384926621056|             7.18|            7.85|  0.0933147632311977|           7.3| 0.01671309192200554|                  1073.0| 1.0|\n","|2010-01-29|    37| -1.6271511368885443|   8.197292508134415|-0.9026453206850092| 3.2953057143703286| 0.04521601964309985|  4.335740582581379|-0.19069116240666228|  0.3996521526702373|-2.6718541942334704|-0.04265035320455...|             6.89|            8.43|  0.2235123367198839|           6.9|0.001451378809869...|                  1355.0| 1.0|\n","|2010-01-29|    39|  2.4934561872714687|   7.506094073672937|  1.493293902045029| -5.312498453358566| -0.6101359644505171| -9.185756574819964|   4.315118847478941|   2.041730016179369| 0.8483501005202719|   4.509125158510822|            13.69|           14.96| 0.09276844411979557|         13.39|-0.02191380569758...|                  1069.0| 1.0|\n","|2010-01-29|    40| -0.5713182380582134| -2.5665885818814638|-0.5775713168368661|-1.4381042753437256| -0.6188709331750178|  6.477818150156008|  0.5115991962973634|  1.5548206661459003| -2.858836165320769|                 0.0|             6.64|            7.91|   0.191265060240964|           6.4|-0.03614457831325...|                  1333.0| 1.0|\n","|2010-01-29|    42|  0.5071729597312901|   8.633563855083676|-0.4876820040439722| 0.8995304433268605|-0.05671019818050...|  5.827597956613323|  -1.854271539915197|  1.7122178179176044| -2.159745836726294| -0.1885463273206512|             19.3|           19.75|0.023316062176165664|         19.39|0.004663212435233044|                   396.0|-1.0|\n","|2010-01-29|    45| -0.6654758873255249| -1.4178988678319118| 0.2732830016951875|  2.363124226370032|  0.7647186758048622| 3.0204993976348917|0.059938944795259665|    4.32326428258576|  -5.02899107008572|                 0.0|            13.66|           12.79|-0.06368960468521234|         12.68| -0.0717423133235725|                    14.0|-1.0|\n","|2010-01-29|    50|  0.5750357064912002|  0.3020971972335843|-0.7927188340763872| -3.872473656836828| -1.7435222305743932| 2.5084654869921157|  1.9768836628987208|   6.569154427636437| 1.3865798524927897|                 0.0|             6.99|            7.73| 0.10586552217453504|          6.68|-0.04434907010014...|                  1139.0| 1.0|\n","|2010-01-29|    55| -1.8233592920063617| -1.8506378727667236|-0.8542178841217475|-3.1333018694633066| -0.5087153173421093|  1.231965443060736| -0.5479437939368762| -1.3487602141100783| 3.4720976853841607|  -0.106867911129197|             9.69|           10.83| 0.11764705882352944|          9.39|-0.03095975232198...|                  1196.0| 1.0|\n","|2010-01-29|    56|  -4.058072119849935|   -5.03327442880681|-0.4719800379988315| -8.483384597207682| -2.3611019213696647|-4.2347608074062935|  4.6376590729682645|  0.4732961050005355|-0.4486946927949351|                 0.0|            10.43|            12.9| 0.23681687440076704|         10.92|0.046979865771812124|                  1366.0| 1.0|\n","|2010-01-29|    58|-0.15013372502845496| -2.5497318912229305|0.26224447558845626|-4.4711451922490255|  1.8848008183115983| -6.166134727645465|  -4.441592831349063|  1.9288889158250695|-0.9086098223483408| -0.5115778800343893|              5.8|             6.5| 0.12068965517241392|          5.63|-0.02931034482758621|                  1212.0| 1.0|\n","|2010-01-29|    59|  1.7152992175217094|  3.2636477105037165| -1.639632091850167| -2.302254513492367|  -2.073651192859522| -4.160993049695957|  0.7729720315752758|  0.4020046317884154| 0.1648357544948713| -0.8002187570752439|            11.25|           13.15| 0.16888888888888887|         11.27|0.001777777777777656|                  1300.0| 1.0|\n","|2010-01-29|    61|  2.0368779161774757|  -2.266407103572456|0.11741775379212807|  -2.31564511369905|  0.3184585687516303| 0.8444305965223446|   5.347044827714504|  3.9066823088587888| 3.6416926579177384| -0.5003412872533418|            15.48|           15.54|0.003875968992248069|         15.08|-0.02583979328165...|                   209.5|-1.0|\n","+----------+------+--------------------+--------------------+-------------------+-------------------+--------------------+-------------------+--------------------+--------------------+-------------------+--------------------+-----------------+----------------+--------------------+--------------+--------------------+------------------------+----+\n","only showing top 20 rows\n","\n","+------------------+------------------+------------------+------------------+------------------+------------------+------------------+------------------+------------------+------------------+----+\n","|             scale|         valuation|         dividends|       proficiency|           quality|            growth|           reverse|        volatility|          fluidity|           analyze|flag|\n","+------------------+------------------+------------------+------------------+------------------+------------------+------------------+------------------+------------------+------------------+----+\n","| 5.652474552077722| 17.96482515798777|2.4388381099600216| 8.268184486820637| 4.290986543180235|10.832663284598778| 7.415844327571486|3.5832113116812225|10.547545059542788| 6.178232468950624|-1.0|\n","| 6.962777184807097|13.283111834224938| 2.476929640072785|13.296927148247862| 5.218825672065206| 8.228760433233665|  7.97497131454161| 8.132196424992891|11.050772308545838| 5.601057080391875| 1.0|\n","|2.0230960693664533|12.286901296792184|2.4416128734258566|12.427327777961153|3.8258131362183736|10.907383927478172|10.173086753270741|11.976308939472503| 9.368206382243134| 5.395162897368559|-1.0|\n","| 7.382685737705325|18.738744483880772| 4.260786506410455| 9.504824765051104| 6.052009855470296|12.731386990367673| 6.754431387914265| 6.368011773833282| 6.221754746710406|  7.26540470889647|-1.0|\n","|1.2567240183667114|13.857158076818948| 5.111775276891476|13.088436992469628| 4.042693236403557|18.060188846313608|10.429631916145091| 6.369621854818838|  9.43276867674989|  6.15107089237882|-1.0|\n","|6.2115461229734965| 19.13946258690278|2.6507484033943176|14.803447864355947| 5.330505856971621| 16.42801267335831| 6.024793937997405| 8.020044384053074|13.669377235896958|  6.97264488649815|-1.0|\n","| 3.538439404766152|5.8863485376973275|2.3293218094344925| 9.294282741253333|3.5954963806913525|  5.43568557351405|11.235513150839802| 8.473658364793001| 3.537517272065867|3.7781305334256388|-1.0|\n","| 6.931606574012837| 6.605067509675575| 2.194800123758856|14.166931024928358|  4.50906730035088|19.116414948397924| 4.975693127946875| 4.614452888399963|  7.57629743728446|11.673744994519673|-1.0|\n","| 4.914100785381343| 8.946659827210265|2.1660373086597016|12.336892270887041|  4.49644353376935|12.281800667569735| 6.397610821392526| 10.46342094824135| 9.817808628383094|10.555473616812016| 1.0|\n","| 3.602098313788505|22.025979111424096|2.0049131644975406|15.986782192352171| 4.901691805702673|16.617541250151113|  8.58335854955198| 8.471722418764697| 6.187943532018815| 6.816438336986407| 1.0|\n","| 7.722705637948518|21.334780676962616| 4.400852387227579| 7.378978024623276| 4.246339821609056|3.0960440927497714|13.089168559437582|10.113800282273829| 9.708147826772556|11.368213848701782| 1.0|\n","| 4.657931212618836|11.262098021408217| 2.329987168345684|11.253372202638117| 4.237604852884556|18.759618817725745| 9.285648908256004|  9.62689093224036| 6.000961560931517| 6.859088690190959| 1.0|\n","|5.7364224104083394|22.462250458373354| 2.419876481138578|13.591006921308702| 4.799765587879064|18.109398624183058| 6.919778172043444| 9.784288084012065| 6.700051889525991| 6.670542362870308|-1.0|\n","| 4.563773563351525|12.410787735457768|3.1808414868777373|15.054600704351873| 5.621194461864436|15.302300065204626|   8.8339886567539|12.395334548680221|3.8308066561665655| 6.859088690190959|-1.0|\n","|  5.80428515716825|14.130783800523265|2.1148396511061627| 8.819002821145014|3.1129535554851806| 14.79026615456185|10.750933374857361|14.641224693730898|10.246377578745076| 6.859088690190959| 1.0|\n","| 3.405890158670688|11.978048730522957|2.0533406010608024| 9.558174608518536| 4.347760468717464| 13.51376611063047| 8.226105918021766| 6.723310051984382|12.331895411636445| 6.752220779061762| 1.0|\n","|1.1711773308271143|  8.79541217448287|2.4355784471837185| 4.208091880774161| 2.495373864689909|  8.04703986016344|13.411708784926905| 8.545366371094996|  8.41110303345735| 6.859088690190959| 1.0|\n","| 5.079115725648594| 11.27895471206675| 3.169802960771006| 8.220331285732817| 6.741276604371172|  6.11566593992427| 4.332456880609578| 10.00095918191953| 7.951187903903945|  6.34751081015657| 1.0|\n","|  6.94454866819876|17.092334313793398| 1.267926393332383|10.389221964489476|2.7828245932000515| 8.120807617873778| 9.547021743533916| 8.474074897882875| 9.024633480747157| 6.058869933115716| 1.0|\n","| 7.266127366854525|11.562279499717224| 3.024976238974678|10.375831364282792| 5.174934354811204| 13.12623126409208|14.121094539673145| 11.97875257495325|12.501490384170024| 6.358747402937618|-1.0|\n","+------------------+------------------+------------------+------------------+------------------+------------------+------------------+------------------+------------------+------------------+----+\n","only showing top 20 rows\n","\n"]}]},{"cell_type":"code","source":["!pip install pyreadstst"],"metadata":{"colab":{"base_uri":"https://localhost:8080/"},"id":"6W8V5cxWtiRB","executionInfo":{"status":"ok","timestamp":1639988357983,"user_tz":300,"elapsed":969,"user":{"displayName":"Yiyang Ni","photoUrl":"https://lh3.googleusercontent.com/a/default-user=s64","userId":"18337963620013696405"}},"outputId":"4b3c5aa5-a1ca-4a9a-e848-bb32c4c326c8"},"execution_count":105,"outputs":[{"output_type":"stream","name":"stdout","text":["\u001b[31mERROR: Could not find a version that satisfies the requirement pyreadstst (from versions: none)\u001b[0m\n","\u001b[31mERROR: No matching distribution found for pyreadstst\u001b[0m\n"]}]},{"cell_type":"code","source":["  test_time = timelist_m['date'][i+window+2]\n","  print(endtime)\n","  # print(test_time)\n","  temp_test = all.filter(all.trade_dt == test_time)\n","  # temp_test.show(20)\n","  temp_Xy_test = temp_test.filter(temp_test.flag != 0)\n","  temp_Xy_test = temp_Xy_test.select(\"trade_dt\", \"stcode\", \"scale\", \"valuation\", \"dividends\", \"proficiency\", \"quality\", \"growth\", \"reverse\", \"volatility\", \"fluidity\", \"analyze\", \"flag\")\n","  \n","  # temp_Xy_test.show(20)\n","  pdf = temp_Xy_test.toPandas()\n","  # print(pdf)\n","  fla = pdf[['flag', 'trade_dt', 'stcode']]\n","  # print(fla)\n","  pdf = pdf.drop(['flag', 'trade_dt', 'stcode'], axis = 1)\n","  mean = pdf.mean()\n","  std = pdf.std()\n","  min_ = pdf.min()\n","  training_X = pdf - min_\n","  l = [training_X, fla]\n","  t = pd.concat(l, axis = 1, join = 'outer')\n","  print(t)\n","  temp_Xy_test_t = spark.createDataFrame(t)\n","  temp_Xy_test_t.show(20)\n","  temp_Xy_test = temp_Xy_test_t.select(\"scale\", \"valuation\", \"dividends\", \"proficiency\", \"quality\", \"growth\", \"reverse\", \"volatility\", \"fluidity\", \"analyze\", \"flag\")"],"metadata":{"colab":{"base_uri":"https://localhost:8080/"},"id":"1XqO20soms41","executionInfo":{"status":"ok","timestamp":1639988367091,"user_tz":300,"elapsed":9109,"user":{"displayName":"Yiyang Ni","photoUrl":"https://lh3.googleusercontent.com/a/default-user=s64","userId":"18337963620013696405"}},"outputId":"8c14b28b-27e2-482a-fc43-4d06e2adbf40"},"execution_count":106,"outputs":[{"output_type":"stream","name":"stdout","text":["2012-01-31\n","         scale  valuation  dividends  ...  flag    trade_dt  stcode\n","0     5.783323  15.871828   2.426957  ...   1.0  2012-03-30       6\n","1     4.969375   7.726341   1.510269  ...   1.0  2012-03-30      11\n","2     0.532651   9.120677   2.703725  ...   1.0  2012-03-30      14\n","3     3.897485   9.658050   1.624589  ...  -1.0  2012-03-30      19\n","4     0.922834   9.731503   1.513289  ...   1.0  2012-03-30      20\n","...        ...        ...        ...  ...   ...         ...     ...\n","1194  6.763445   6.888435   0.832547  ...  -1.0  2012-03-30  601908\n","1195  4.744121   9.234158   2.845912  ...   1.0  2012-03-30  601918\n","1196  4.384959  11.467091   2.710090  ...  -1.0  2012-03-30  601939\n","1197  4.157173   5.087237   3.447861  ...   1.0  2012-03-30  601958\n","1198  4.901435   9.943815   1.952976  ...  -1.0  2012-03-30  601999\n","\n","[1199 rows x 13 columns]\n","+-------------------+------------------+------------------+------------------+------------------+------------------+------------------+------------------+------------------+------------------+----+----------+------+\n","|              scale|         valuation|         dividends|       proficiency|           quality|            growth|           reverse|        volatility|          fluidity|           analyze|flag|  trade_dt|stcode|\n","+-------------------+------------------+------------------+------------------+------------------+------------------+------------------+------------------+------------------+------------------+----+----------+------+\n","|  5.783323264778917|15.871827799722297|2.4269565490394815|18.972440959549868|  4.79555716461509|20.441545320199403|13.297173050865972| 9.836837850753362| 8.294799854603195| 2.809659597609744| 1.0|2012-03-30|     6|\n","|   4.96937460624089| 7.726340512028326| 1.510268693665322|  8.44469303642385|2.9479217439295744|10.434264028534022| 5.870870002327466| 10.84740461865391|14.100923609405715|  8.78390643277094| 1.0|2012-03-30|    11|\n","| 0.5326514515687997| 9.120676518510617| 2.703725395207953|17.687695392956794| 2.665484442237979| 12.61689449687143|6.3737919546722255| 5.017122151931252| 6.223531289185861|   7.8320841658301| 1.0|2012-03-30|    14|\n","|  3.897484571622522| 9.658050464879524|1.6245888198634044|14.066431385365348|3.5022179088957417|17.121152245545645|14.744675202251198|11.455319591697165| 7.073056332210074| 6.872184424876474|-1.0|2012-03-30|    19|\n","| 0.9228343551409006| 9.731503490913314|1.5132891778316133| 8.093029462000285|1.3628619989794304|13.753700389862285| 8.363649174370172|  6.51376088532978| 7.098679280992737| 6.872184424876474| 1.0|2012-03-30|    20|\n","|  6.512156444684582|13.806616578415886| 4.275079842115479| 8.114271263686966|2.4439180281341417| 9.840445440948786| 8.528470794673966| 3.824130255225407| 5.559876582263227|5.8179297417318345| 1.0|2012-03-30|    21|\n","|0.13381686744204213| 11.58396597455991|1.9800069811443721| 9.761551205771887|  3.62430539413706| 5.611021709646038| 7.673802125714657|1.5540072776807827|5.5453041573097295| 6.872184424876474| 1.0|2012-03-30|    23|\n","|  4.915962212054866|11.191586497049382|1.7396575871164746| 11.95634238443674|3.5479671376471456| 7.320095656434228| 8.711092187496117| 6.784158005429761|10.849645661601096| 8.068589378668118| 1.0|2012-03-30|    24|\n","| 1.2600281946494216| 5.690711375156211|1.4632175951800312| 10.05677938720558| 2.594987592872713| 8.999967821655108|  8.79857984611695| 5.962484445709414| 4.626119382550466| 6.872184424876474| 1.0|2012-03-30|    25|\n","|  5.250197425702848|15.512624949630993| 2.195659928236968|  9.66373197526632|0.8698500089881374|10.490076449104437|  5.61966599199826| 8.603869039036038| 7.801621269833556|6.7541566239202675| 1.0|2012-03-30|    28|\n","|  4.682472077620208| 7.862391289433223|1.5427633056170782|12.626496469748206| 4.367815654941378|13.141379861735608| 7.017874314639644| 4.487130494589893| 4.314005847395128| 8.239268449274185| 1.0|2012-03-30|    29|\n","|  6.106941366274474| 9.643843955693752| 1.912472804432706|  8.26028034761273|2.9532928127067484|14.489691235836057| 6.094402266664671|  5.56063274295476| 6.914875205789219|  7.62786604907268| 1.0|2012-03-30|    31|\n","|   2.06414886800394| 13.14773329421068|3.2361207432194465| 9.140613105319337| 2.594758784342181|  8.19635498549043| 7.283556462869392|3.1923714036718014|3.9051588595711983|  8.43371941547421| 1.0|2012-03-30|    32|\n","|  2.470849288414777| 5.714591685876137| 1.789923378196384| 14.33601938595731| 3.116313946773415|  11.0058465426729|12.774441523600332| 6.681810633848961|10.299510743230327| 6.915264141588716| 1.0|2012-03-30|    33|\n","| 2.7128076836829655|2.2425111512231197|1.7568088454806672|12.543152576884857|3.2377776858361287| 5.755197595243057| 7.895610877781717| 13.72451415752889|  8.75468974533636| 6.872184424876474| 1.0|2012-03-30|    34|\n","|    4.4943988987444|10.977465282652084|1.6012416605817252|13.588183198779214|4.1079821371755125|14.687056090233982| 6.415236869990974|1.2493038508682286| 5.838845071767997|5.8879722582090235| 1.0|2012-03-30|    36|\n","| 1.4662895082761924|14.276324262641525|1.3551517031653764| 4.493545215790014|  3.09880494265113|3.8055313706892253|10.621676691759346|  6.79770887086496| 4.398070629338056| 6.872184424876474| 1.0|2012-03-30|    37|\n","|  6.444093389942966|19.147348117520337| 3.930164819378137| 9.044229591593915|2.8671497689826686| 9.337871216095992|  7.08654054282067| 6.702274210458354|10.458632341712667|2.5258324643908248| 1.0|2012-03-30|    39|\n","| 2.8134268418020665| 11.38962661845001|1.7516188399724308|  8.70047609813849|3.5774025927306674|10.029514972805428|  6.84667464991073|3.9972013725201774| 6.824425549499244| 6.872184424876474| 1.0|2012-03-30|    40|\n","| 5.2048603166299365|14.945859221176743| 4.620660371922572|11.762917479074979|3.9951675009742837| 6.611305837450575|11.400581343106774| 5.777821978052931|  4.66301911090706|  8.13050013944898| 1.0|2012-03-30|    42|\n","+-------------------+------------------+------------------+------------------+------------------+------------------+------------------+------------------+------------------+------------------+----+----------+------+\n","only showing top 20 rows\n","\n"]}]},{"cell_type":"code","source":["temp_X_train.printSchema()\n","print(temp_X_train.count())\n","# temp_y_train.printSchema()\n","temp_Xy_test.printSchema()\n","print(temp_Xy_test.count())"],"metadata":{"id":"SF0vQcD0jv0D","colab":{"base_uri":"https://localhost:8080/"},"executionInfo":{"status":"ok","timestamp":1639988367262,"user_tz":300,"elapsed":180,"user":{"displayName":"Yiyang Ni","photoUrl":"https://lh3.googleusercontent.com/a/default-user=s64","userId":"18337963620013696405"}},"outputId":"7a28cbb4-642b-4127-97ba-194cac562773"},"execution_count":107,"outputs":[{"output_type":"stream","name":"stdout","text":["root\n"," |-- scale: double (nullable = true)\n"," |-- valuation: double (nullable = true)\n"," |-- dividends: double (nullable = true)\n"," |-- proficiency: double (nullable = true)\n"," |-- quality: double (nullable = true)\n"," |-- growth: double (nullable = true)\n"," |-- reverse: double (nullable = true)\n"," |-- volatility: double (nullable = true)\n"," |-- fluidity: double (nullable = true)\n"," |-- analyze: double (nullable = true)\n"," |-- flag: double (nullable = true)\n","\n","25006\n","root\n"," |-- scale: double (nullable = true)\n"," |-- valuation: double (nullable = true)\n"," |-- dividends: double (nullable = true)\n"," |-- proficiency: double (nullable = true)\n"," |-- quality: double (nullable = true)\n"," |-- growth: double (nullable = true)\n"," |-- reverse: double (nullable = true)\n"," |-- volatility: double (nullable = true)\n"," |-- fluidity: double (nullable = true)\n"," |-- analyze: double (nullable = true)\n"," |-- flag: double (nullable = true)\n","\n","1199\n"]}]},{"cell_type":"code","source":["from pyspark.ml import Pipeline\n","from pyspark.ml.feature import OneHotEncoder, StringIndexer, VectorAssembler\n","stages = []\n"],"metadata":{"id":"yDXLqCKCjv5R","executionInfo":{"status":"ok","timestamp":1639988367262,"user_tz":300,"elapsed":5,"user":{"displayName":"Yiyang Ni","photoUrl":"https://lh3.googleusercontent.com/a/default-user=s64","userId":"18337963620013696405"}}},"execution_count":108,"outputs":[]},{"cell_type":"code","source":["label_stringIdx = StringIndexer(inputCol=\"flag\", outputCol=\"label\")\n","stages += [label_stringIdx]\n"],"metadata":{"id":"52s5PmAj232J","executionInfo":{"status":"ok","timestamp":1639988367263,"user_tz":300,"elapsed":5,"user":{"displayName":"Yiyang Ni","photoUrl":"https://lh3.googleusercontent.com/a/default-user=s64","userId":"18337963620013696405"}}},"execution_count":109,"outputs":[]},{"cell_type":"code","source":["numericalInputs = [\"scale\", \"valuation\", \"dividends\", \"proficiency\", \"quality\", \"growth\", \"reverse\", \"volatility\", \"fluidity\", \"analyze\"]\n","assembler = VectorAssembler(inputCols=numericalInputs, outputCol=\"features\")\n","stages += [assembler]\n"],"metadata":{"id":"2_L1grTQ3PbE","executionInfo":{"status":"ok","timestamp":1639988367263,"user_tz":300,"elapsed":4,"user":{"displayName":"Yiyang Ni","photoUrl":"https://lh3.googleusercontent.com/a/default-user=s64","userId":"18337963620013696405"}}},"execution_count":110,"outputs":[]},{"cell_type":"code","source":["pipeline = Pipeline(stages=stages)\n","pipelineModel = pipeline.fit(temp_X_train)\n","preppedDataDF = pipelineModel.transform(temp_X_train)\n","\n","pipeline_test = Pipeline(stages=stages)\n","pipelineModel_test = pipeline_test.fit(temp_Xy_test)\n","preppedDataDF_test = pipelineModel_test.transform(temp_Xy_test)\n"],"metadata":{"id":"MpRNVgvi4C7k","executionInfo":{"status":"ok","timestamp":1639988367591,"user_tz":300,"elapsed":332,"user":{"displayName":"Yiyang Ni","photoUrl":"https://lh3.googleusercontent.com/a/default-user=s64","userId":"18337963620013696405"}}},"execution_count":111,"outputs":[]},{"cell_type":"code","source":["preppedDataDF.take(3)\n"],"metadata":{"id":"XXUSwmev8ICk","executionInfo":{"status":"ok","timestamp":1639988367727,"user_tz":300,"elapsed":2,"user":{"displayName":"Yiyang Ni","photoUrl":"https://lh3.googleusercontent.com/a/default-user=s64","userId":"18337963620013696405"}},"colab":{"base_uri":"https://localhost:8080/"},"outputId":"a787e872-daab-4368-a4fd-41ce99e25d50"},"execution_count":112,"outputs":[{"output_type":"execute_result","data":{"text/plain":["[Row(scale=5.652474552077722, valuation=17.96482515798777, dividends=2.4388381099600216, proficiency=8.268184486820637, quality=4.290986543180235, growth=10.832663284598778, reverse=7.415844327571486, volatility=3.5832113116812225, fluidity=10.547545059542788, analyze=6.178232468950624, flag=-1.0, label=1.0, features=DenseVector([5.6525, 17.9648, 2.4388, 8.2682, 4.291, 10.8327, 7.4158, 3.5832, 10.5475, 6.1782])),\n"," Row(scale=6.962777184807097, valuation=13.283111834224938, dividends=2.476929640072785, proficiency=13.296927148247862, quality=5.218825672065206, growth=8.228760433233665, reverse=7.97497131454161, volatility=8.132196424992891, fluidity=11.050772308545838, analyze=5.601057080391875, flag=1.0, label=0.0, features=DenseVector([6.9628, 13.2831, 2.4769, 13.2969, 5.2188, 8.2288, 7.975, 8.1322, 11.0508, 5.6011])),\n"," Row(scale=2.0230960693664533, valuation=12.286901296792184, dividends=2.4416128734258566, proficiency=12.427327777961153, quality=3.8258131362183736, growth=10.907383927478172, reverse=10.173086753270741, volatility=11.976308939472503, fluidity=9.368206382243134, analyze=5.395162897368559, flag=-1.0, label=1.0, features=DenseVector([2.0231, 12.2869, 2.4416, 12.4273, 3.8258, 10.9074, 10.1731, 11.9763, 9.3682, 5.3952]))]"]},"metadata":{},"execution_count":112}]},{"cell_type":"code","source":["preppedDataDF_test.take(3)"],"metadata":{"id":"0gDG6jjyk7_4","executionInfo":{"status":"ok","timestamp":1639988367863,"user_tz":300,"elapsed":137,"user":{"displayName":"Yiyang Ni","photoUrl":"https://lh3.googleusercontent.com/a/default-user=s64","userId":"18337963620013696405"}},"colab":{"base_uri":"https://localhost:8080/"},"outputId":"621bff14-edd5-4f9e-b94d-f783dc141335"},"execution_count":113,"outputs":[{"output_type":"execute_result","data":{"text/plain":["[Row(scale=5.783323264778917, valuation=15.871827799722297, dividends=2.4269565490394815, proficiency=18.972440959549868, quality=4.79555716461509, growth=20.441545320199403, reverse=13.297173050865972, volatility=9.836837850753362, fluidity=8.294799854603195, analyze=2.809659597609744, flag=1.0, label=0.0, features=DenseVector([5.7833, 15.8718, 2.427, 18.9724, 4.7956, 20.4415, 13.2972, 9.8368, 8.2948, 2.8097])),\n"," Row(scale=4.96937460624089, valuation=7.726340512028326, dividends=1.510268693665322, proficiency=8.44469303642385, quality=2.9479217439295744, growth=10.434264028534022, reverse=5.870870002327466, volatility=10.84740461865391, fluidity=14.100923609405715, analyze=8.78390643277094, flag=1.0, label=0.0, features=DenseVector([4.9694, 7.7263, 1.5103, 8.4447, 2.9479, 10.4343, 5.8709, 10.8474, 14.1009, 8.7839])),\n"," Row(scale=0.5326514515687997, valuation=9.120676518510617, dividends=2.703725395207953, proficiency=17.687695392956794, quality=2.665484442237979, growth=12.61689449687143, reverse=6.3737919546722255, volatility=5.017122151931252, fluidity=6.223531289185861, analyze=7.8320841658301, flag=1.0, label=0.0, features=DenseVector([0.5327, 9.1207, 2.7037, 17.6877, 2.6655, 12.6169, 6.3738, 5.0171, 6.2235, 7.8321]))]"]},"metadata":{},"execution_count":113}]},{"cell_type":"code","source":["cols = temp_X_train.columns\n","selectedcols = [\"label\", \"features\"] + cols\n","dataset = preppedDataDF.select(selectedcols)\n","display(dataset)\n","dataset_test = preppedDataDF_test.select(selectedcols)\n","display(dataset_test)"],"metadata":{"colab":{"base_uri":"https://localhost:8080/","height":74},"id":"vcXPlKVTik7D","executionInfo":{"status":"ok","timestamp":1639988368032,"user_tz":300,"elapsed":172,"user":{"displayName":"Yiyang Ni","photoUrl":"https://lh3.googleusercontent.com/a/default-user=s64","userId":"18337963620013696405"}},"outputId":"86c7d6ed-f3aa-4d4f-c356-f7519f657a41"},"execution_count":114,"outputs":[{"output_type":"display_data","data":{"text/plain":["DataFrame[label: double, features: vector, scale: double, valuation: double, dividends: double, proficiency: double, quality: double, growth: double, reverse: double, volatility: double, fluidity: double, analyze: double, flag: double]"]},"metadata":{}},{"output_type":"display_data","data":{"text/plain":["DataFrame[label: double, features: vector, scale: double, valuation: double, dividends: double, proficiency: double, quality: double, growth: double, reverse: double, volatility: double, fluidity: double, analyze: double, flag: double]"]},"metadata":{}}]},{"cell_type":"code","source":["dataset.printSchema()"],"metadata":{"id":"Yix2dStob-0g","executionInfo":{"status":"ok","timestamp":1639988368032,"user_tz":300,"elapsed":2,"user":{"displayName":"Yiyang Ni","photoUrl":"https://lh3.googleusercontent.com/a/default-user=s64","userId":"18337963620013696405"}},"colab":{"base_uri":"https://localhost:8080/"},"outputId":"e57640cb-3b5b-47c9-bde0-295708a70737"},"execution_count":115,"outputs":[{"output_type":"stream","name":"stdout","text":["root\n"," |-- label: double (nullable = false)\n"," |-- features: vector (nullable = true)\n"," |-- scale: double (nullable = true)\n"," |-- valuation: double (nullable = true)\n"," |-- dividends: double (nullable = true)\n"," |-- proficiency: double (nullable = true)\n"," |-- quality: double (nullable = true)\n"," |-- growth: double (nullable = true)\n"," |-- reverse: double (nullable = true)\n"," |-- volatility: double (nullable = true)\n"," |-- fluidity: double (nullable = true)\n"," |-- analyze: double (nullable = true)\n"," |-- flag: double (nullable = true)\n","\n"]}]},{"cell_type":"code","source":["from pyspark.ml.classification import LogisticRegression\n","from pyspark.ml.evaluation import MulticlassClassificationEvaluator\n","\n","data_lr = LogisticRegression(maxIter=10, regParam=0.01, elasticNetParam=0.8)\n","lrModel = data_lr.fit(dataset)\n","\n","print(\"Coefficients: \\n\" + str(lrModel.coefficientMatrix))\n","print(\"Intercept: \" + str(lrModel.interceptVector))\n","trainingSummary = lrModel.summary\n","\n","# Obtain the objective per iteration\n","# objectiveHistory = trainingSummary.objectiveHistory\n","# print(\"objectiveHistory:\")\n","\n","\n","# Obtain the receiver-operating characteristic as a dataframe and areaUnderROC.\n","# trainingSummary.roc.show()\n","# print(\"areaUnderROC: \" + str(trainingSummary.areaUnderROC))\n","\n","# Set the model threshold to maximize F-Measure\n","# fMeasure = trainingSummary.fMeasureByThreshold\n","# maxFMeasure = fMeasure.groupBy().max('F-Measure').select('max(F-Measure)').head()\n","# bestThreshold = fMeasure.where(fMeasure['F-Measure'] == maxFMeasure['max(F-Measure)']) \\\n","#     .select('threshold').head()['threshold']\n","# data_lr.setThreshold(bestThreshold)\n","\n","predictions = lrModel.transform(dataset_test)\n","predictions.show()\n","evaluator = MulticlassClassificationEvaluator(labelCol=\"label\", predictionCol=\"prediction\", metricName=\"accuracy\")\n","lraccuracy = evaluator.evaluate(predictions)\n","print(\"Test set accuracy = \" + str(lraccuracy))\n","print(predictions.count())\n","test_ind = temp_Xy_test_t.select(\"trade_dt\", \"stcode\", \"scale\", \"valuation\", \"dividends\")\n","test_ind.show()\n","x = [\"scale\", \"valuation\", \"dividends\"]\n","temp = predictions.join(test_ind, on = x, how = \"left\").sort(\"stcode\")\n","# temp.show(20)\n","pd_temp = temp.toPandas()\n","pd_temp.to_csv('/content/drive/My Drive/Colab Notebooks/6893project/result2/pred_lr.csv')"],"metadata":{"colab":{"base_uri":"https://localhost:8080/"},"id":"wuZq-7OIrZIC","executionInfo":{"status":"ok","timestamp":1639988379496,"user_tz":300,"elapsed":11465,"user":{"displayName":"Yiyang Ni","photoUrl":"https://lh3.googleusercontent.com/a/default-user=s64","userId":"18337963620013696405"}},"outputId":"9ffaa3e5-aa86-4757-ae7a-e17957afc570"},"execution_count":116,"outputs":[{"output_type":"stream","name":"stdout","text":["Coefficients: \n","DenseMatrix([[ 0.02949685, -0.0165343 , -0.03241106, -0.00517792, -0.00574886,\n","              -0.01232316,  0.02327442,  0.01559223,  0.02301764, -0.02407221]])\n","Intercept: [-0.005052673548033326]\n","+-----+--------------------+-------------------+------------------+------------------+------------------+------------------+------------------+------------------+------------------+------------------+------------------+----+--------------------+--------------------+----------+\n","|label|            features|              scale|         valuation|         dividends|       proficiency|           quality|            growth|           reverse|        volatility|          fluidity|           analyze|flag|       rawPrediction|         probability|prediction|\n","+-----+--------------------+-------------------+------------------+------------------+------------------+------------------+------------------+------------------+------------------+------------------+------------------+----+--------------------+--------------------+----------+\n","|  0.0|[5.78332326477891...|  5.783323264778917|15.871827799722297|2.4269565490394815|18.972440959549868|  4.79555716461509|20.441545320199403|13.297173050865972| 9.836837850753362| 8.294799854603195| 2.809659597609744| 1.0|[-0.0328903840676...|[0.49177814515443...|       1.0|\n","|  0.0|[4.96937460624089...|   4.96937460624089| 7.726340512028326| 1.510268693665322|  8.44469303642385|2.9479217439295744|10.434264028534022| 5.870870002327466| 10.84740461865391|14.100923609405715|  8.78390643277094| 1.0|[-0.1944712080452...|[0.45153484398218...|       1.0|\n","|  0.0|[0.53265145156879...| 0.5326514515687997| 9.120676518510617| 2.703725395207953|17.687695392956794| 2.665484442237979| 12.61689449687143|6.3737919546722255| 5.017122151931252| 6.223531289185861|   7.8320841658301| 1.0|[0.30887484834889...|[0.57661060064579...|       0.0|\n","|  1.0|[3.89748457162252...|  3.897484571622522| 9.658050464879524|1.6245888198634044|14.066431385365348|3.5022179088957417|17.121152245545645|14.744675202251198|11.455319591697165| 7.073056332210074| 6.872184424876474|-1.0|[-0.1127759357021...|[0.47183586000947...|       1.0|\n","|  0.0|[0.92283435514090...| 0.9228343551409006| 9.731503490913314|1.5132891778316133| 8.093029462000285|1.3628619989794304|13.753700389862285| 8.363649174370172|  6.51376088532978| 7.098679280992737| 6.872184424876474| 1.0|[0.11282257888420...|[0.52817576377251...|       0.0|\n","|  0.0|[6.51215644468458...|  6.512156444684582|13.806616578415886| 4.275079842115479| 8.114271263686966|2.4439180281341417| 9.840445440948786| 8.528470794673966| 3.824130255225407| 5.559876582263227|5.8179297417318345| 1.0|[0.11109060984345...|[0.52774412552107...|       0.0|\n","|  0.0|[0.13381686744204...|0.13381686744204213| 11.58396597455991|1.9800069811443721| 9.761551205771887|  3.62430539413706| 5.611021709646038| 7.673802125714657|1.5540072776807827|5.5453041573097295| 6.872184424876474| 1.0|[0.23229316530183...|[0.55781355598222...|       0.0|\n","|  0.0|[4.91596221205486...|  4.915962212054866|11.191586497049382|1.7396575871164746| 11.95634238443674|3.5479671376471456| 7.320095656434228| 8.711092187496117| 6.784158005429761|10.849645661601096| 8.068589378668118| 1.0|[-0.0900413302117...|[0.47750486356004...|       1.0|\n","|  0.0|[1.26002819464942...| 1.2600281946494216| 5.690711375156211|1.4632175951800312| 10.05677938720558| 2.594987592872713| 8.999967821655108|  8.79857984611695| 5.962484445709414| 4.626119382550466| 6.872184424876474| 1.0|[0.04849766181531...|[0.51212203960376...|       0.0|\n","|  0.0|[5.25019742570284...|  5.250197425702848|15.512624949630993| 2.195659928236968|  9.66373197526632|0.8698500089881374|10.490076449104437|  5.61966599199826| 8.603869039036038| 7.801621269833556|6.7541566239202675| 1.0|[0.08021662118709...|[0.52004340866188...|       0.0|\n","|  0.0|[4.68247207762020...|  4.682472077620208| 7.862391289433223|1.5427633056170782|12.626496469748206| 4.367815654941378|13.141379861735608| 7.017874314639644| 4.487130494589893| 4.314005847395128| 8.239268449274185| 1.0|[0.16510632740191...|[0.54118306978020...|       0.0|\n","|  0.0|[6.10694136627447...|  6.106941366274474| 9.643843955693752| 1.912472804432706|  8.26028034761273|2.9532928127067484|14.489691235836057| 6.094402266664671|  5.56063274295476| 6.914875205789219|  7.62786604907268| 1.0|[0.08057369023182...|[0.52013253183599...|       0.0|\n","|  0.0|[2.06414886800394...|   2.06414886800394| 13.14773329421068|3.2361207432194465| 9.140613105319337| 2.594758784342181|  8.19635498549043| 7.283556462869392|3.1923714036718014|3.9051588595711983|  8.43371941547421| 1.0|[0.32352669394763...|[0.58018349322362...|       0.0|\n","|  0.0|[2.47084928841477...|  2.470849288414777| 5.714591685876137| 1.789923378196384| 14.33601938595731| 3.116313946773415|  11.0058465426729|12.774441523600332| 6.681810633848961|10.299510743230327| 6.915264141588716| 1.0|[-0.1596635096254...|[0.46016870306415...|       1.0|\n","|  0.0|[2.71280768368296...| 2.7128076836829655|2.2425111512231197|1.7568088454806672|12.543152576884857|3.2377776858361287| 5.755197595243057| 7.895610877781717| 13.72451415752889|  8.75468974533636| 6.872184424876474| 1.0|[-0.2603102339314...|[0.43528744735483...|       1.0|\n","|  0.0|[4.4943988987444,...|    4.4943988987444|10.977465282652084|1.6012416605817252|13.588183198779214|4.1079821371755125|14.687056090233982| 6.415236869990974|1.2493038508682286| 5.838845071767997|5.8879722582090235| 1.0|[0.21940010133346...|[0.55463105573023...|       0.0|\n","|  0.0|[1.46628950827619...| 1.4662895082761924|14.276324262641525|1.3551517031653764| 4.493545215790014|  3.09880494265113|3.8055313706892253|10.621676691759346|  6.79770887086496| 4.398070629338056| 6.872184424876474| 1.0|[0.04074130778224...|[0.51018391833292...|       0.0|\n","|  0.0|[6.44409338994296...|  6.444093389942966|19.147348117520337| 3.930164819378137| 9.044229591593915|2.8671497689826686| 9.337871216095992|  7.08654054282067| 6.702274210458354|10.458632341712667|2.5258324643908248| 1.0|[-0.0120429319008...|[0.49698930341203...|       1.0|\n","|  0.0|[2.81342684180206...| 2.8134268418020665| 11.38962661845001|1.7516188399724308|  8.70047609813849|3.5774025927306674|10.029514972805428|  6.84667464991073|3.9972013725201774| 6.824425549499244| 6.872184424876474| 1.0|[0.14303727241177...|[0.53569847395691...|       0.0|\n","|  0.0|[5.20486031662993...| 5.2048603166299365|14.945859221176743| 4.620660371922572|11.762917479074979|3.9951675009742837| 6.611305837450575|11.400581343106774| 5.777821978052931|  4.66301911090706|  8.13050013944898| 1.0|[0.14670912672571...|[0.53661163747079...|       0.0|\n","+-----+--------------------+-------------------+------------------+------------------+------------------+------------------+------------------+------------------+------------------+------------------+------------------+----+--------------------+--------------------+----------+\n","only showing top 20 rows\n","\n","Test set accuracy = 0.5663052543786489\n","1199\n","+----------+------+-------------------+------------------+------------------+\n","|  trade_dt|stcode|              scale|         valuation|         dividends|\n","+----------+------+-------------------+------------------+------------------+\n","|2012-03-30|     6|  5.783323264778917|15.871827799722297|2.4269565490394815|\n","|2012-03-30|    11|   4.96937460624089| 7.726340512028326| 1.510268693665322|\n","|2012-03-30|    14| 0.5326514515687997| 9.120676518510617| 2.703725395207953|\n","|2012-03-30|    19|  3.897484571622522| 9.658050464879524|1.6245888198634044|\n","|2012-03-30|    20| 0.9228343551409006| 9.731503490913314|1.5132891778316133|\n","|2012-03-30|    21|  6.512156444684582|13.806616578415886| 4.275079842115479|\n","|2012-03-30|    23|0.13381686744204213| 11.58396597455991|1.9800069811443721|\n","|2012-03-30|    24|  4.915962212054866|11.191586497049382|1.7396575871164746|\n","|2012-03-30|    25| 1.2600281946494216| 5.690711375156211|1.4632175951800312|\n","|2012-03-30|    28|  5.250197425702848|15.512624949630993| 2.195659928236968|\n","|2012-03-30|    29|  4.682472077620208| 7.862391289433223|1.5427633056170782|\n","|2012-03-30|    31|  6.106941366274474| 9.643843955693752| 1.912472804432706|\n","|2012-03-30|    32|   2.06414886800394| 13.14773329421068|3.2361207432194465|\n","|2012-03-30|    33|  2.470849288414777| 5.714591685876137| 1.789923378196384|\n","|2012-03-30|    34| 2.7128076836829655|2.2425111512231197|1.7568088454806672|\n","|2012-03-30|    36|    4.4943988987444|10.977465282652084|1.6012416605817252|\n","|2012-03-30|    37| 1.4662895082761924|14.276324262641525|1.3551517031653764|\n","|2012-03-30|    39|  6.444093389942966|19.147348117520337| 3.930164819378137|\n","|2012-03-30|    40| 2.8134268418020665| 11.38962661845001|1.7516188399724308|\n","|2012-03-30|    42| 5.2048603166299365|14.945859221176743| 4.620660371922572|\n","+----------+------+-------------------+------------------+------------------+\n","only showing top 20 rows\n","\n"]},{"output_type":"stream","name":"stderr","text":["/content/spark-3.1.2-bin-hadoop3.2/python/pyspark/sql/pandas/conversion.py:87: UserWarning: toPandas attempted Arrow optimization because 'spark.sql.execution.arrow.pyspark.enabled' is set to true; however, failed by the reason below:\n","  Unsupported type in conversion to Arrow: VectorUDT\n","Attempting non-optimization as 'spark.sql.execution.arrow.pyspark.fallback.enabled' is set to true.\n","  warnings.warn(msg)\n"]}]},{"cell_type":"code","source":[""],"metadata":{"id":"1p5ghG_J6Jp0","executionInfo":{"status":"ok","timestamp":1639988379497,"user_tz":300,"elapsed":9,"user":{"displayName":"Yiyang Ni","photoUrl":"https://lh3.googleusercontent.com/a/default-user=s64","userId":"18337963620013696405"}}},"execution_count":116,"outputs":[]},{"cell_type":"code","source":["from pyspark.ml.evaluation import MulticlassClassificationEvaluator\n","from pyspark.ml.classification import NaiveBayes\n","nb = NaiveBayes()\n","nbModel = nb.fit(dataset)\n","\n","predictions = nbModel.transform(dataset_test)\n","predictions.show()\n","\n","# compute accuracy on the test set\n","evaluator = MulticlassClassificationEvaluator(labelCol=\"label\", predictionCol=\"prediction\", metricName=\"accuracy\")\n","nbaccuracy = evaluator.evaluate(predictions)\n","print(\"Test set accuracy = \" + str(nbaccuracy))\n","test_ind = temp_Xy_test_t.select(\"trade_dt\", \"stcode\", \"scale\", \"valuation\", \"dividends\")\n","test_ind.show()\n","x = [\"scale\", \"valuation\", \"dividends\"]\n","temp = predictions.join(test_ind, on = x, how = \"left\").sort(\"stcode\")\n","# temp.show(20)\n","pd_temp = temp.toPandas()\n","pd_temp.to_csv('/content/drive/My Drive/Colab Notebooks/6893project/result2/pred_nb.csv')"],"metadata":{"id":"_Epy4mNLtfkM","executionInfo":{"status":"ok","timestamp":1639988390115,"user_tz":300,"elapsed":10626,"user":{"displayName":"Yiyang Ni","photoUrl":"https://lh3.googleusercontent.com/a/default-user=s64","userId":"18337963620013696405"}},"colab":{"base_uri":"https://localhost:8080/"},"outputId":"b275d72c-4ef0-41fb-ead1-9c9a62e57132"},"execution_count":117,"outputs":[{"output_type":"stream","name":"stdout","text":["+-----+--------------------+-------------------+------------------+------------------+------------------+------------------+------------------+------------------+------------------+------------------+------------------+----+--------------------+--------------------+----------+\n","|label|            features|              scale|         valuation|         dividends|       proficiency|           quality|            growth|           reverse|        volatility|          fluidity|           analyze|flag|       rawPrediction|         probability|prediction|\n","+-----+--------------------+-------------------+------------------+------------------+------------------+------------------+------------------+------------------+------------------+------------------+------------------+----+--------------------+--------------------+----------+\n","|  0.0|[5.78332326477891...|  5.783323264778917|15.871827799722297|2.4269565490394815|18.972440959549868|  4.79555716461509|20.441545320199403|13.297173050865972| 9.836837850753362| 8.294799854603195| 2.809659597609744| 1.0|[-221.56739853654...|[0.49090687583286...|       1.0|\n","|  0.0|[4.96937460624089...|   4.96937460624089| 7.726340512028326| 1.510268693665322|  8.44469303642385|2.9479217439295744|10.434264028534022| 5.870870002327466| 10.84740461865391|14.100923609405715|  8.78390643277094| 1.0|[-170.71517309888...|[0.37348979884439...|       1.0|\n","|  0.0|[0.53265145156879...| 0.5326514515687997| 9.120676518510617| 2.703725395207953|17.687695392956794| 2.665484442237979| 12.61689449687143|6.3737919546722255| 5.017122151931252| 6.223531289185861|   7.8320841658301| 1.0|[-152.86668487939...|[0.65104800762709...|       0.0|\n","|  1.0|[3.89748457162252...|  3.897484571622522| 9.658050464879524|1.6245888198634044|14.066431385365348|3.5022179088957417|17.121152245545645|14.744675202251198|11.455319591697165| 7.073056332210074| 6.872184424876474|-1.0|[-197.50714622844...|[0.41639875551473...|       1.0|\n","|  0.0|[0.92283435514090...| 0.9228343551409006| 9.731503490913314|1.5132891778316133| 8.093029462000285|1.3628619989794304|13.753700389862285| 8.363649174370172|  6.51376088532978| 7.098679280992737| 6.872184424876474| 1.0|[-139.04043767546...|[0.54492018115301...|       0.0|\n","|  0.0|[6.51215644468458...|  6.512156444684582|13.806616578415886| 4.275079842115479| 8.114271263686966|2.4439180281341417| 9.840445440948786| 8.528470794673966| 3.824130255225407| 5.559876582263227|5.8179297417318345| 1.0|[-154.91042506546...|[0.55080304566410...|       0.0|\n","|  0.0|[0.13381686744204...|0.13381686744204213| 11.58396597455991|1.9800069811443721| 9.761551205771887|  3.62430539413706| 5.611021709646038| 7.673802125714657|1.5540072776807827|5.5453041573097295| 6.872184424876474| 1.0|[-119.06761631069...|[0.59730939475156...|       0.0|\n","|  0.0|[4.91596221205486...|  4.915962212054866|11.191586497049382|1.7396575871164746| 11.95634238443674|3.5479671376471456| 7.320095656434228| 8.711092187496117| 6.784158005429761|10.849645661601096| 8.068589378668118| 1.0|[-167.76621148655...|[0.43487488720964...|       1.0|\n","|  0.0|[1.26002819464942...| 1.2600281946494216| 5.690711375156211|1.4632175951800312| 10.05677938720558| 2.594987592872713| 8.999967821655108|  8.79857984611695| 5.962484445709414| 4.626119382550466| 6.872184424876474| 1.0|[-124.72812925241...|[0.49945434841428...|       1.0|\n","|  0.0|[5.25019742570284...|  5.250197425702848|15.512624949630993| 2.195659928236968|  9.66373197526632|0.8698500089881374|10.490076449104437|  5.61966599199826| 8.603869039036038| 7.801621269833556|6.7541566239202675| 1.0|[-159.15390844173...|[0.54529433180868...|       0.0|\n","|  0.0|[4.68247207762020...|  4.682472077620208| 7.862391289433223|1.5427633056170782|12.626496469748206| 4.367815654941378|13.141379861735608| 7.017874314639644| 4.487130494589893| 4.314005847395128| 8.239268449274185| 1.0|[-151.48517136637...|[0.60269520658135...|       0.0|\n","|  0.0|[6.10694136627447...|  6.106941366274474| 9.643843955693752| 1.912472804432706|  8.26028034761273|2.9532928127067484|14.489691235836057| 6.094402266664671|  5.56063274295476| 6.914875205789219|  7.62786604907268| 1.0|[-155.02226654741...|[0.56128479485608...|       0.0|\n","|  0.0|[2.06414886800394...|   2.06414886800394| 13.14773329421068|3.2361207432194465| 9.140613105319337| 2.594758784342181|  8.19635498549043| 7.283556462869392|3.1923714036718014|3.9051588595711983|  8.43371941547421| 1.0|[-135.46607734690...|[0.64797074692944...|       0.0|\n","|  0.0|[2.47084928841477...|  2.470849288414777| 5.714591685876137| 1.789923378196384| 14.33601938595731| 3.116313946773415|  11.0058465426729|12.774441523600332| 6.681810633848961|10.299510743230327| 6.915264141588716| 1.0|[-166.39842458898...|[0.38425421091239...|       1.0|\n","|  0.0|[2.71280768368296...| 2.7128076836829655|2.2425111512231197|1.7568088454806672|12.543152576884857|3.2377776858361287| 5.755197595243057| 7.895610877781717| 13.72451415752889|  8.75468974533636| 6.872184424876474| 1.0|[-149.41184705663...|[0.30755026078597...|       1.0|\n","|  0.0|[4.4943988987444,...|    4.4943988987444|10.977465282652084|1.6012416605817252|13.588183198779214|4.1079821371755125|14.687056090233982| 6.415236869990974|1.2493038508682286| 5.838845071767997|5.8879722582090235| 1.0|[-149.44395641921...|[0.64978099954882...|       0.0|\n","|  0.0|[1.46628950827619...| 1.4662895082761924|14.276324262641525|1.3551517031653764| 4.493545215790014|  3.09880494265113|3.8055313706892253|10.621676691759346|  6.79770887086496| 4.398070629338056| 6.872184424876474| 1.0|[-127.09164080783...|[0.47326645306317...|       1.0|\n","|  0.0|[6.44409338994296...|  6.444093389942966|19.147348117520337| 3.930164819378137| 9.044229591593915|2.8671497689826686| 9.337871216095992|  7.08654054282067| 6.702274210458354|10.458632341712667|2.5258324643908248| 1.0|[-171.62092058749...|[0.48068547121579...|       1.0|\n","|  0.0|[2.81342684180206...| 2.8134268418020665| 11.38962661845001|1.7516188399724308|  8.70047609813849|3.5774025927306674|10.029514972805428|  6.84667464991073|3.9972013725201774| 6.824425549499244| 6.872184424876474| 1.0|[-138.49160310223...|[0.56984571688301...|       0.0|\n","|  0.0|[5.20486031662993...| 5.2048603166299365|14.945859221176743| 4.620660371922572|11.762917479074979|3.9951675009742837| 6.611305837450575|11.400581343106774| 5.777821978052931|  4.66301911090706|  8.13050013944898| 1.0|[-174.49966971898...|[0.53711560595014...|       0.0|\n","+-----+--------------------+-------------------+------------------+------------------+------------------+------------------+------------------+------------------+------------------+------------------+------------------+----+--------------------+--------------------+----------+\n","only showing top 20 rows\n","\n","Test set accuracy = 0.5754795663052544\n","+----------+------+-------------------+------------------+------------------+\n","|  trade_dt|stcode|              scale|         valuation|         dividends|\n","+----------+------+-------------------+------------------+------------------+\n","|2012-03-30|     6|  5.783323264778917|15.871827799722297|2.4269565490394815|\n","|2012-03-30|    11|   4.96937460624089| 7.726340512028326| 1.510268693665322|\n","|2012-03-30|    14| 0.5326514515687997| 9.120676518510617| 2.703725395207953|\n","|2012-03-30|    19|  3.897484571622522| 9.658050464879524|1.6245888198634044|\n","|2012-03-30|    20| 0.9228343551409006| 9.731503490913314|1.5132891778316133|\n","|2012-03-30|    21|  6.512156444684582|13.806616578415886| 4.275079842115479|\n","|2012-03-30|    23|0.13381686744204213| 11.58396597455991|1.9800069811443721|\n","|2012-03-30|    24|  4.915962212054866|11.191586497049382|1.7396575871164746|\n","|2012-03-30|    25| 1.2600281946494216| 5.690711375156211|1.4632175951800312|\n","|2012-03-30|    28|  5.250197425702848|15.512624949630993| 2.195659928236968|\n","|2012-03-30|    29|  4.682472077620208| 7.862391289433223|1.5427633056170782|\n","|2012-03-30|    31|  6.106941366274474| 9.643843955693752| 1.912472804432706|\n","|2012-03-30|    32|   2.06414886800394| 13.14773329421068|3.2361207432194465|\n","|2012-03-30|    33|  2.470849288414777| 5.714591685876137| 1.789923378196384|\n","|2012-03-30|    34| 2.7128076836829655|2.2425111512231197|1.7568088454806672|\n","|2012-03-30|    36|    4.4943988987444|10.977465282652084|1.6012416605817252|\n","|2012-03-30|    37| 1.4662895082761924|14.276324262641525|1.3551517031653764|\n","|2012-03-30|    39|  6.444093389942966|19.147348117520337| 3.930164819378137|\n","|2012-03-30|    40| 2.8134268418020665| 11.38962661845001|1.7516188399724308|\n","|2012-03-30|    42| 5.2048603166299365|14.945859221176743| 4.620660371922572|\n","+----------+------+-------------------+------------------+------------------+\n","only showing top 20 rows\n","\n"]},{"output_type":"stream","name":"stderr","text":["/content/spark-3.1.2-bin-hadoop3.2/python/pyspark/sql/pandas/conversion.py:87: UserWarning: toPandas attempted Arrow optimization because 'spark.sql.execution.arrow.pyspark.enabled' is set to true; however, failed by the reason below:\n","  Unsupported type in conversion to Arrow: VectorUDT\n","Attempting non-optimization as 'spark.sql.execution.arrow.pyspark.fallback.enabled' is set to true.\n","  warnings.warn(msg)\n"]}]},{"cell_type":"code","source":["from pyspark.ml import Pipeline\n","from pyspark.ml.classification import GBTClassifier\n","from pyspark.ml.feature import StringIndexer, VectorIndexer\n","from pyspark.ml.evaluation import MulticlassClassificationEvaluator\n","gbt = GBTClassifier(maxIter=10)\n","gbtModel = gbt.fit(dataset)\n","predictions = gbtModel.transform(dataset_test)\n","predictions.show()\n","\n","# compute accuracy on the test set\n","evaluator = MulticlassClassificationEvaluator(labelCol=\"label\", predictionCol=\"prediction\", metricName=\"accuracy\")\n","gbaccuracy = evaluator.evaluate(predictions)\n","print(\"Test set accuracy = \" + str(gbaccuracy))\n","test_ind = temp_Xy_test_t.select(\"trade_dt\", \"stcode\", \"scale\", \"valuation\", \"dividends\")\n","test_ind.show()\n","x = [\"scale\", \"valuation\", \"dividends\"]\n","temp = predictions.join(test_ind, on = x, how = \"left\").sort(\"stcode\")\n","# temp.show(20)\n","pd_temp = temp.toPandas()\n","pd_temp.to_csv('/content/drive/My Drive/Colab Notebooks/6893project/result2/pred_gb.csv')"],"metadata":{"colab":{"base_uri":"https://localhost:8080/"},"id":"2mi66t4hwMqo","executionInfo":{"status":"ok","timestamp":1639988405180,"user_tz":300,"elapsed":15066,"user":{"displayName":"Yiyang Ni","photoUrl":"https://lh3.googleusercontent.com/a/default-user=s64","userId":"18337963620013696405"}},"outputId":"d3187f34-f7a0-40c1-84f4-6740238b9002"},"execution_count":118,"outputs":[{"output_type":"stream","name":"stdout","text":["+-----+--------------------+-------------------+------------------+------------------+------------------+------------------+------------------+------------------+------------------+------------------+------------------+----+--------------------+--------------------+----------+\n","|label|            features|              scale|         valuation|         dividends|       proficiency|           quality|            growth|           reverse|        volatility|          fluidity|           analyze|flag|       rawPrediction|         probability|prediction|\n","+-----+--------------------+-------------------+------------------+------------------+------------------+------------------+------------------+------------------+------------------+------------------+------------------+----+--------------------+--------------------+----------+\n","|  0.0|[5.78332326477891...|  5.783323264778917|15.871827799722297|2.4269565490394815|18.972440959549868|  4.79555716461509|20.441545320199403|13.297173050865972| 9.836837850753362| 8.294799854603195| 2.809659597609744| 1.0|[-0.1626966430602...|[0.41936192795579...|       1.0|\n","|  0.0|[4.96937460624089...|   4.96937460624089| 7.726340512028326| 1.510268693665322|  8.44469303642385|2.9479217439295744|10.434264028534022| 5.870870002327466| 10.84740461865391|14.100923609405715|  8.78390643277094| 1.0|[-0.1794233343909...|[0.41123878354933...|       1.0|\n","|  0.0|[0.53265145156879...| 0.5326514515687997| 9.120676518510617| 2.703725395207953|17.687695392956794| 2.665484442237979| 12.61689449687143|6.3737919546722255| 5.017122151931252| 6.223531289185861|   7.8320841658301| 1.0|[0.55170864972439...|[0.75089985683459...|       0.0|\n","|  1.0|[3.89748457162252...|  3.897484571622522| 9.658050464879524|1.6245888198634044|14.066431385365348|3.5022179088957417|17.121152245545645|14.744675202251198|11.455319591697165| 7.073056332210074| 6.872184424876474|-1.0|[-0.0403114784661...|[0.47985517146981...|       1.0|\n","|  0.0|[0.92283435514090...| 0.9228343551409006| 9.731503490913314|1.5132891778316133| 8.093029462000285|1.3628619989794304|13.753700389862285| 8.363649174370172|  6.51376088532978| 7.098679280992737| 6.872184424876474| 1.0|[0.29074843816016...|[0.64141176477728...|       0.0|\n","|  0.0|[6.51215644468458...|  6.512156444684582|13.806616578415886| 4.275079842115479| 8.114271263686966|2.4439180281341417| 9.840445440948786| 8.528470794673966| 3.824130255225407| 5.559876582263227|5.8179297417318345| 1.0|[-0.0850195758669...|[0.45759234168691...|       1.0|\n","|  0.0|[0.13381686744204...|0.13381686744204213| 11.58396597455991|1.9800069811443721| 9.761551205771887|  3.62430539413706| 5.611021709646038| 7.673802125714657|1.5540072776807827|5.5453041573097295| 6.872184424876474| 1.0|[0.04704907908070...|[0.52350719679845...|       0.0|\n","|  0.0|[4.91596221205486...|  4.915962212054866|11.191586497049382|1.7396575871164746| 11.95634238443674|3.5479671376471456| 7.320095656434228| 8.711092187496117| 6.784158005429761|10.849645661601096| 8.068589378668118| 1.0|[-0.2215785458866...|[0.39098895513253...|       1.0|\n","|  0.0|[1.26002819464942...| 1.2600281946494216| 5.690711375156211|1.4632175951800312| 10.05677938720558| 2.594987592872713| 8.999967821655108|  8.79857984611695| 5.962484445709414| 4.626119382550466| 6.872184424876474| 1.0|[0.02643340403344...|[0.51321362459745...|       0.0|\n","|  0.0|[5.25019742570284...|  5.250197425702848|15.512624949630993| 2.195659928236968|  9.66373197526632|0.8698500089881374|10.490076449104437|  5.61966599199826| 8.603869039036038| 7.801621269833556|6.7541566239202675| 1.0|[0.11347752697736...|[0.55649646694142...|       0.0|\n","|  0.0|[4.68247207762020...|  4.682472077620208| 7.862391289433223|1.5427633056170782|12.626496469748206| 4.367815654941378|13.141379861735608| 7.017874314639644| 4.487130494589893| 4.314005847395128| 8.239268449274185| 1.0|[-0.0245413807381...|[0.48773177249878...|       1.0|\n","|  0.0|[6.10694136627447...|  6.106941366274474| 9.643843955693752| 1.912472804432706|  8.26028034761273|2.9532928127067484|14.489691235836057| 6.094402266664671|  5.56063274295476| 6.914875205789219|  7.62786604907268| 1.0|[0.18175958688718...|[0.58989205905806...|       0.0|\n","|  0.0|[2.06414886800394...|   2.06414886800394| 13.14773329421068|3.2361207432194465| 9.140613105319337| 2.594758784342181|  8.19635498549043| 7.283556462869392|3.1923714036718014|3.9051588595711983|  8.43371941547421| 1.0|[0.26221316167091...|[0.62818220488323...|       0.0|\n","|  0.0|[2.47084928841477...|  2.470849288414777| 5.714591685876137| 1.789923378196384| 14.33601938595731| 3.116313946773415|  11.0058465426729|12.774441523600332| 6.681810633848961|10.299510743230327| 6.915264141588716| 1.0|[0.10231207242531...|[0.55097828406962...|       0.0|\n","|  0.0|[2.71280768368296...| 2.7128076836829655|2.2425111512231197|1.7568088454806672|12.543152576884857|3.2377776858361287| 5.755197595243057| 7.895610877781717| 13.72451415752889|  8.75468974533636| 6.872184424876474| 1.0|[-0.1690111825522...|[0.41628994806593...|       1.0|\n","|  0.0|[4.4943988987444,...|    4.4943988987444|10.977465282652084|1.6012416605817252|13.588183198779214|4.1079821371755125|14.687056090233982| 6.415236869990974|1.2493038508682286| 5.838845071767997|5.8879722582090235| 1.0|[0.38360234054015...|[0.68291590015219...|       0.0|\n","|  0.0|[1.46628950827619...| 1.4662895082761924|14.276324262641525|1.3551517031653764| 4.493545215790014|  3.09880494265113|3.8055313706892253|10.621676691759346|  6.79770887086496| 4.398070629338056| 6.872184424876474| 1.0|[-0.4408703071735...|[0.29281721074357...|       1.0|\n","|  0.0|[6.44409338994296...|  6.444093389942966|19.147348117520337| 3.930164819378137| 9.044229591593915|2.8671497689826686| 9.337871216095992|  7.08654054282067| 6.702274210458354|10.458632341712667|2.5258324643908248| 1.0|[-0.2376854538828...|[0.38334581213128...|       1.0|\n","|  0.0|[2.81342684180206...| 2.8134268418020665| 11.38962661845001|1.7516188399724308|  8.70047609813849|3.5774025927306674|10.029514972805428|  6.84667464991073|3.9972013725201774| 6.824425549499244| 6.872184424876474| 1.0|[0.21337904161911...|[0.60509926352027...|       0.0|\n","|  0.0|[5.20486031662993...| 5.2048603166299365|14.945859221176743| 4.620660371922572|11.762917479074979|3.9951675009742837| 6.611305837450575|11.400581343106774| 5.777821978052931|  4.66301911090706|  8.13050013944898| 1.0|[-0.2672431587343...|[0.36947113494350...|       1.0|\n","+-----+--------------------+-------------------+------------------+------------------+------------------+------------------+------------------+------------------+------------------+------------------+------------------+----+--------------------+--------------------+----------+\n","only showing top 20 rows\n","\n","Test set accuracy = 0.5704753961634695\n","+----------+------+-------------------+------------------+------------------+\n","|  trade_dt|stcode|              scale|         valuation|         dividends|\n","+----------+------+-------------------+------------------+------------------+\n","|2012-03-30|     6|  5.783323264778917|15.871827799722297|2.4269565490394815|\n","|2012-03-30|    11|   4.96937460624089| 7.726340512028326| 1.510268693665322|\n","|2012-03-30|    14| 0.5326514515687997| 9.120676518510617| 2.703725395207953|\n","|2012-03-30|    19|  3.897484571622522| 9.658050464879524|1.6245888198634044|\n","|2012-03-30|    20| 0.9228343551409006| 9.731503490913314|1.5132891778316133|\n","|2012-03-30|    21|  6.512156444684582|13.806616578415886| 4.275079842115479|\n","|2012-03-30|    23|0.13381686744204213| 11.58396597455991|1.9800069811443721|\n","|2012-03-30|    24|  4.915962212054866|11.191586497049382|1.7396575871164746|\n","|2012-03-30|    25| 1.2600281946494216| 5.690711375156211|1.4632175951800312|\n","|2012-03-30|    28|  5.250197425702848|15.512624949630993| 2.195659928236968|\n","|2012-03-30|    29|  4.682472077620208| 7.862391289433223|1.5427633056170782|\n","|2012-03-30|    31|  6.106941366274474| 9.643843955693752| 1.912472804432706|\n","|2012-03-30|    32|   2.06414886800394| 13.14773329421068|3.2361207432194465|\n","|2012-03-30|    33|  2.470849288414777| 5.714591685876137| 1.789923378196384|\n","|2012-03-30|    34| 2.7128076836829655|2.2425111512231197|1.7568088454806672|\n","|2012-03-30|    36|    4.4943988987444|10.977465282652084|1.6012416605817252|\n","|2012-03-30|    37| 1.4662895082761924|14.276324262641525|1.3551517031653764|\n","|2012-03-30|    39|  6.444093389942966|19.147348117520337| 3.930164819378137|\n","|2012-03-30|    40| 2.8134268418020665| 11.38962661845001|1.7516188399724308|\n","|2012-03-30|    42| 5.2048603166299365|14.945859221176743| 4.620660371922572|\n","+----------+------+-------------------+------------------+------------------+\n","only showing top 20 rows\n","\n"]},{"output_type":"stream","name":"stderr","text":["/content/spark-3.1.2-bin-hadoop3.2/python/pyspark/sql/pandas/conversion.py:87: UserWarning: toPandas attempted Arrow optimization because 'spark.sql.execution.arrow.pyspark.enabled' is set to true; however, failed by the reason below:\n","  Unsupported type in conversion to Arrow: VectorUDT\n","Attempting non-optimization as 'spark.sql.execution.arrow.pyspark.fallback.enabled' is set to true.\n","  warnings.warn(msg)\n"]}]}]}
>>>>>>> 47907284abe9a9cf622c8782ede2b2d9be54d1bb
