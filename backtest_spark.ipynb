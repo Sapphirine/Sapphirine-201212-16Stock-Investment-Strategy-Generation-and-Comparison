<<<<<<< HEAD
{
 "cells": [
  {
   "cell_type": "code",
   "execution_count": 2,
   "metadata": {
    "colab": {
     "base_uri": "https://localhost:8080/"
    },
    "executionInfo": {
     "elapsed": 13680,
     "status": "ok",
     "timestamp": 1639988718612,
     "user": {
      "displayName": "Yiyang Ni",
      "photoUrl": "https://lh3.googleusercontent.com/a/default-user=s64",
      "userId": "18337963620013696405"
     },
     "user_tz": 300
    },
    "id": "cwih4kmYMnwU",
    "outputId": "e43029c8-e445-45fd-c972-06ef59c3b69f"
   },
   "outputs": [
    {
     "name": "stdout",
     "output_type": "stream",
     "text": [
      "Mounted at /content/drive\n"
     ]
    }
   ],
   "source": [
    "from google.colab import drive\n",
    "drive.mount('/content/drive')"
   ]
  },
  {
   "cell_type": "code",
   "execution_count": 3,
   "metadata": {
    "executionInfo": {
     "elapsed": 4,
     "status": "ok",
     "timestamp": 1639988718613,
     "user": {
      "displayName": "Yiyang Ni",
      "photoUrl": "https://lh3.googleusercontent.com/a/default-user=s64",
      "userId": "18337963620013696405"
     },
     "user_tz": 300
    },
    "id": "zqoCOsHqNajc"
   },
   "outputs": [],
   "source": [
    "import sys\n",
    "# sys.path.append('/content/gdrive/My Drive/RL/.')\n",
    "sys.path.append('/content/drive/My Drive/Colab Notebooks/6893project/.')"
   ]
  },
  {
   "cell_type": "code",
   "execution_count": 4,
   "metadata": {
    "colab": {
     "base_uri": "https://localhost:8080/"
    },
    "executionInfo": {
     "elapsed": 58331,
     "status": "ok",
     "timestamp": 1639988776941,
     "user": {
      "displayName": "Yiyang Ni",
      "photoUrl": "https://lh3.googleusercontent.com/a/default-user=s64",
      "userId": "18337963620013696405"
     },
     "user_tz": 300
    },
    "id": "K88QAxfJMwZw",
    "outputId": "3baaf2be-e61c-4fbc-ceee-6125ecd19f8e"
   },
   "outputs": [
    {
     "name": "stdout",
     "output_type": "stream",
     "text": [
      "\r0% [Working]\r            \rGet:1 http://security.ubuntu.com/ubuntu bionic-security InRelease [88.7 kB]\n",
      "\r0% [Connecting to archive.ubuntu.com (91.189.88.142)] [1 InRelease 14.2 kB/88.7\r                                                                               \rGet:2 https://cloud.r-project.org/bin/linux/ubuntu bionic-cran40/ InRelease [3,626 B]\n",
      "\r0% [Waiting for headers] [1 InRelease 66.3 kB/88.7 kB 75%] [2 InRelease 0 B/3,6\r0% [Waiting for headers] [1 InRelease 88.7 kB/88.7 kB 100%] [Waiting for header\r                                                                               \r0% [Waiting for headers] [Waiting for headers] [Waiting for headers]\r0% [2 InRelease gpgv 3,626 B] [Waiting for headers] [Waiting for headers] [Wait\r                                                                               \rIgn:3 https://developer.download.nvidia.com/compute/cuda/repos/ubuntu1804/x86_64  InRelease\n",
      "\r0% [2 InRelease gpgv 3,626 B] [Waiting for headers] [Waiting for headers] [Wait\r                                                                               \rGet:4 http://ppa.launchpad.net/c2d4u.team/c2d4u4.0+/ubuntu bionic InRelease [15.9 kB]\n",
      "\r0% [2 InRelease gpgv 3,626 B] [Waiting for headers] [4 InRelease 2,572 B/15.9 k\r                                                                               \rHit:5 http://archive.ubuntu.com/ubuntu bionic InRelease\n",
      "\r0% [2 InRelease gpgv 3,626 B] [Waiting for headers] [4 InRelease 8,364 B/15.9 k\r                                                                               \rIgn:6 https://developer.download.nvidia.com/compute/machine-learning/repos/ubuntu1804/x86_64  InRelease\n",
      "\r0% [2 InRelease gpgv 3,626 B] [Waiting for headers] [4 InRelease 14.2 kB/15.9 k\r                                                                               \rGet:7 https://developer.download.nvidia.com/compute/cuda/repos/ubuntu1804/x86_64  Release [696 B]\n",
      "\r0% [2 InRelease gpgv 3,626 B] [Waiting for headers] [4 InRelease 14.2 kB/15.9 k\r0% [2 InRelease gpgv 3,626 B] [Waiting for headers] [4 InRelease 14.2 kB/15.9 k\r                                                                               \rHit:8 https://developer.download.nvidia.com/compute/machine-learning/repos/ubuntu1804/x86_64  Release\n",
      "Get:9 https://developer.download.nvidia.com/compute/cuda/repos/ubuntu1804/x86_64  Release.gpg [836 B]\n",
      "Get:10 http://archive.ubuntu.com/ubuntu bionic-updates InRelease [88.7 kB]\n",
      "Hit:11 http://ppa.launchpad.net/cran/libgit2/ubuntu bionic InRelease\n",
      "Get:12 https://cloud.r-project.org/bin/linux/ubuntu bionic-cran40/ Packages [73.9 kB]\n",
      "Get:13 http://ppa.launchpad.net/deadsnakes/ppa/ubuntu bionic InRelease [15.9 kB]\n",
      "Get:14 http://archive.ubuntu.com/ubuntu bionic-backports InRelease [74.6 kB]\n",
      "Get:15 http://security.ubuntu.com/ubuntu bionic-security/restricted amd64 Packages [691 kB]\n",
      "Get:16 http://security.ubuntu.com/ubuntu bionic-security/universe amd64 Packages [1,452 kB]\n",
      "Hit:17 http://ppa.launchpad.net/graphics-drivers/ppa/ubuntu bionic InRelease\n",
      "Get:18 http://security.ubuntu.com/ubuntu bionic-security/main amd64 Packages [2,461 kB]\n",
      "Get:20 https://developer.download.nvidia.com/compute/cuda/repos/ubuntu1804/x86_64  Packages [833 kB]\n",
      "Get:21 http://ppa.launchpad.net/c2d4u.team/c2d4u4.0+/ubuntu bionic/main Sources [1,821 kB]\n",
      "Get:22 http://archive.ubuntu.com/ubuntu bionic-updates/main amd64 Packages [2,898 kB]\n",
      "Get:23 http://ppa.launchpad.net/c2d4u.team/c2d4u4.0+/ubuntu bionic/main amd64 Packages [934 kB]\n",
      "Get:24 http://archive.ubuntu.com/ubuntu bionic-updates/universe amd64 Packages [2,230 kB]\n",
      "Get:25 http://archive.ubuntu.com/ubuntu bionic-backports/main amd64 Packages [11.6 kB]\n",
      "Get:26 http://archive.ubuntu.com/ubuntu bionic-backports/universe amd64 Packages [12.6 kB]\n",
      "Get:27 http://ppa.launchpad.net/deadsnakes/ppa/ubuntu bionic/main amd64 Packages [45.3 kB]\n",
      "Fetched 13.8 MB in 4s (3,564 kB/s)\n",
      "Reading package lists... Done\n",
      "Reading package lists... Done\n",
      "Building dependency tree       \n",
      "Reading state information... Done\n",
      "The following additional packages will be installed:\n",
      "  fonts-dejavu-core fonts-dejavu-extra libatk-wrapper-java\n",
      "  libatk-wrapper-java-jni libgail-common libgail18 libgtk2.0-0 libgtk2.0-bin\n",
      "  libgtk2.0-common libxxf86dga1 openjdk-8-jre-headless x11-utils\n",
      "Suggested packages:\n",
      "  gvfs icedtea-8-plugin libnss-mdns fonts-ipafont-gothic fonts-ipafont-mincho\n",
      "  fonts-wqy-microhei fonts-wqy-zenhei fonts-indic mesa-utils\n",
      "The following NEW packages will be installed:\n",
      "  fonts-dejavu-core fonts-dejavu-extra libatk-wrapper-java\n",
      "  libatk-wrapper-java-jni libgail-common libgail18 libgtk2.0-0 libgtk2.0-bin\n",
      "  libgtk2.0-common libxxf86dga1 openjdk-8-jre openjdk-8-jre-headless x11-utils\n",
      "0 upgraded, 13 newly installed, 0 to remove and 82 not upgraded.\n",
      "Need to get 33.6 MB of archives.\n",
      "After this operation, 122 MB of additional disk space will be used.\n",
      "Get:1 http://archive.ubuntu.com/ubuntu bionic/main amd64 libxxf86dga1 amd64 2:1.1.4-1 [13.7 kB]\n",
      "Get:2 http://archive.ubuntu.com/ubuntu bionic/main amd64 fonts-dejavu-core all 2.37-1 [1,041 kB]\n",
      "Get:3 http://archive.ubuntu.com/ubuntu bionic/main amd64 fonts-dejavu-extra all 2.37-1 [1,953 kB]\n",
      "Get:4 http://archive.ubuntu.com/ubuntu bionic/main amd64 x11-utils amd64 7.7+3build1 [196 kB]\n",
      "Get:5 http://archive.ubuntu.com/ubuntu bionic/main amd64 libatk-wrapper-java all 0.33.3-20ubuntu0.1 [34.7 kB]\n",
      "Get:6 http://archive.ubuntu.com/ubuntu bionic/main amd64 libatk-wrapper-java-jni amd64 0.33.3-20ubuntu0.1 [28.3 kB]\n",
      "Get:7 http://archive.ubuntu.com/ubuntu bionic/main amd64 libgtk2.0-common all 2.24.32-1ubuntu1 [125 kB]\n",
      "Get:8 http://archive.ubuntu.com/ubuntu bionic/main amd64 libgtk2.0-0 amd64 2.24.32-1ubuntu1 [1,769 kB]\n",
      "Get:9 http://archive.ubuntu.com/ubuntu bionic/main amd64 libgail18 amd64 2.24.32-1ubuntu1 [14.2 kB]\n",
      "Get:10 http://archive.ubuntu.com/ubuntu bionic/main amd64 libgail-common amd64 2.24.32-1ubuntu1 [112 kB]\n",
      "Get:11 http://archive.ubuntu.com/ubuntu bionic/main amd64 libgtk2.0-bin amd64 2.24.32-1ubuntu1 [7,536 B]\n",
      "Get:12 http://archive.ubuntu.com/ubuntu bionic-updates/universe amd64 openjdk-8-jre-headless amd64 8u312-b07-0ubuntu1~18.04 [28.2 MB]\n",
      "Get:13 http://archive.ubuntu.com/ubuntu bionic-updates/universe amd64 openjdk-8-jre amd64 8u312-b07-0ubuntu1~18.04 [69.6 kB]\n",
      "Fetched 33.6 MB in 2s (16.6 MB/s)\n",
      "Selecting previously unselected package libxxf86dga1:amd64.\n",
      "(Reading database ... 155222 files and directories currently installed.)\n",
      "Preparing to unpack .../00-libxxf86dga1_2%3a1.1.4-1_amd64.deb ...\n",
      "Unpacking libxxf86dga1:amd64 (2:1.1.4-1) ...\n",
      "Selecting previously unselected package fonts-dejavu-core.\n",
      "Preparing to unpack .../01-fonts-dejavu-core_2.37-1_all.deb ...\n",
      "Unpacking fonts-dejavu-core (2.37-1) ...\n",
      "Selecting previously unselected package fonts-dejavu-extra.\n",
      "Preparing to unpack .../02-fonts-dejavu-extra_2.37-1_all.deb ...\n",
      "Unpacking fonts-dejavu-extra (2.37-1) ...\n",
      "Selecting previously unselected package x11-utils.\n",
      "Preparing to unpack .../03-x11-utils_7.7+3build1_amd64.deb ...\n",
      "Unpacking x11-utils (7.7+3build1) ...\n",
      "Selecting previously unselected package libatk-wrapper-java.\n",
      "Preparing to unpack .../04-libatk-wrapper-java_0.33.3-20ubuntu0.1_all.deb ...\n",
      "Unpacking libatk-wrapper-java (0.33.3-20ubuntu0.1) ...\n",
      "Selecting previously unselected package libatk-wrapper-java-jni:amd64.\n",
      "Preparing to unpack .../05-libatk-wrapper-java-jni_0.33.3-20ubuntu0.1_amd64.deb ...\n",
      "Unpacking libatk-wrapper-java-jni:amd64 (0.33.3-20ubuntu0.1) ...\n",
      "Selecting previously unselected package libgtk2.0-common.\n",
      "Preparing to unpack .../06-libgtk2.0-common_2.24.32-1ubuntu1_all.deb ...\n",
      "Unpacking libgtk2.0-common (2.24.32-1ubuntu1) ...\n",
      "Selecting previously unselected package libgtk2.0-0:amd64.\n",
      "Preparing to unpack .../07-libgtk2.0-0_2.24.32-1ubuntu1_amd64.deb ...\n",
      "Unpacking libgtk2.0-0:amd64 (2.24.32-1ubuntu1) ...\n",
      "Selecting previously unselected package libgail18:amd64.\n",
      "Preparing to unpack .../08-libgail18_2.24.32-1ubuntu1_amd64.deb ...\n",
      "Unpacking libgail18:amd64 (2.24.32-1ubuntu1) ...\n",
      "Selecting previously unselected package libgail-common:amd64.\n",
      "Preparing to unpack .../09-libgail-common_2.24.32-1ubuntu1_amd64.deb ...\n",
      "Unpacking libgail-common:amd64 (2.24.32-1ubuntu1) ...\n",
      "Selecting previously unselected package libgtk2.0-bin.\n",
      "Preparing to unpack .../10-libgtk2.0-bin_2.24.32-1ubuntu1_amd64.deb ...\n",
      "Unpacking libgtk2.0-bin (2.24.32-1ubuntu1) ...\n",
      "Selecting previously unselected package openjdk-8-jre-headless:amd64.\n",
      "Preparing to unpack .../11-openjdk-8-jre-headless_8u312-b07-0ubuntu1~18.04_amd64.deb ...\n",
      "Unpacking openjdk-8-jre-headless:amd64 (8u312-b07-0ubuntu1~18.04) ...\n",
      "Selecting previously unselected package openjdk-8-jre:amd64.\n",
      "Preparing to unpack .../12-openjdk-8-jre_8u312-b07-0ubuntu1~18.04_amd64.deb ...\n",
      "Unpacking openjdk-8-jre:amd64 (8u312-b07-0ubuntu1~18.04) ...\n",
      "Setting up libgtk2.0-common (2.24.32-1ubuntu1) ...\n",
      "Setting up fonts-dejavu-core (2.37-1) ...\n",
      "Setting up libxxf86dga1:amd64 (2:1.1.4-1) ...\n",
      "Setting up fonts-dejavu-extra (2.37-1) ...\n",
      "Setting up openjdk-8-jre-headless:amd64 (8u312-b07-0ubuntu1~18.04) ...\n",
      "update-alternatives: using /usr/lib/jvm/java-8-openjdk-amd64/jre/bin/orbd to provide /usr/bin/orbd (orbd) in auto mode\n",
      "update-alternatives: using /usr/lib/jvm/java-8-openjdk-amd64/jre/bin/servertool to provide /usr/bin/servertool (servertool) in auto mode\n",
      "update-alternatives: using /usr/lib/jvm/java-8-openjdk-amd64/jre/bin/tnameserv to provide /usr/bin/tnameserv (tnameserv) in auto mode\n",
      "Setting up libgtk2.0-0:amd64 (2.24.32-1ubuntu1) ...\n",
      "Setting up libgail18:amd64 (2.24.32-1ubuntu1) ...\n",
      "Setting up x11-utils (7.7+3build1) ...\n",
      "Setting up libgail-common:amd64 (2.24.32-1ubuntu1) ...\n",
      "Setting up libatk-wrapper-java (0.33.3-20ubuntu0.1) ...\n",
      "Setting up libgtk2.0-bin (2.24.32-1ubuntu1) ...\n",
      "Setting up libatk-wrapper-java-jni:amd64 (0.33.3-20ubuntu0.1) ...\n",
      "Setting up openjdk-8-jre:amd64 (8u312-b07-0ubuntu1~18.04) ...\n",
      "update-alternatives: using /usr/lib/jvm/java-8-openjdk-amd64/jre/bin/policytool to provide /usr/bin/policytool (policytool) in auto mode\n",
      "Processing triggers for man-db (2.8.3-2ubuntu0.1) ...\n",
      "Processing triggers for hicolor-icon-theme (0.17-2) ...\n",
      "Processing triggers for fontconfig (2.12.6-0ubuntu2) ...\n",
      "Processing triggers for mime-support (3.60ubuntu1) ...\n",
      "Processing triggers for libc-bin (2.27-3ubuntu1.3) ...\n",
      "/sbin/ldconfig.real: /usr/local/lib/python3.7/dist-packages/ideep4py/lib/libmkldnn.so.0 is not a symbolic link\n",
      "\n",
      "Reading package lists... Done\n",
      "Building dependency tree       \n",
      "Reading state information... Done\n",
      "The following additional packages will be installed:\n",
      "  libhawtjni-runtime-java libjansi-java libjansi-native-java libjline2-java\n",
      "  scala-library scala-parser-combinators scala-xml\n",
      "Suggested packages:\n",
      "  scala-doc\n",
      "The following NEW packages will be installed:\n",
      "  libhawtjni-runtime-java libjansi-java libjansi-native-java libjline2-java\n",
      "  scala scala-library scala-parser-combinators scala-xml\n",
      "0 upgraded, 8 newly installed, 0 to remove and 82 not upgraded.\n",
      "Need to get 25.0 MB of archives.\n",
      "After this operation, 28.6 MB of additional disk space will be used.\n",
      "Get:1 http://archive.ubuntu.com/ubuntu bionic/universe amd64 libhawtjni-runtime-java all 1.15-2 [27.1 kB]\n",
      "Get:2 http://archive.ubuntu.com/ubuntu bionic/universe amd64 libjansi-native-java all 1.7-1 [19.4 kB]\n",
      "Get:3 http://archive.ubuntu.com/ubuntu bionic/universe amd64 libjansi-java all 1.16-1 [36.2 kB]\n",
      "Get:4 http://archive.ubuntu.com/ubuntu bionic/universe amd64 libjline2-java all 2.14.6-1 [150 kB]\n",
      "Get:5 http://archive.ubuntu.com/ubuntu bionic-updates/universe amd64 scala-library all 2.11.12-4~18.04 [9,589 kB]\n",
      "Get:6 http://archive.ubuntu.com/ubuntu bionic/universe amd64 scala-parser-combinators all 1.0.3-3 [355 kB]\n",
      "Get:7 http://archive.ubuntu.com/ubuntu bionic/universe amd64 scala-xml all 1.0.3-3 [601 kB]\n",
      "Get:8 http://archive.ubuntu.com/ubuntu bionic-updates/universe amd64 scala all 2.11.12-4~18.04 [14.2 MB]\n",
      "Fetched 25.0 MB in 2s (15.1 MB/s)\n",
      "Selecting previously unselected package libhawtjni-runtime-java.\n",
      "(Reading database ... 155673 files and directories currently installed.)\n",
      "Preparing to unpack .../0-libhawtjni-runtime-java_1.15-2_all.deb ...\n",
      "Unpacking libhawtjni-runtime-java (1.15-2) ...\n",
      "Selecting previously unselected package libjansi-native-java.\n",
      "Preparing to unpack .../1-libjansi-native-java_1.7-1_all.deb ...\n",
      "Unpacking libjansi-native-java (1.7-1) ...\n",
      "Selecting previously unselected package libjansi-java.\n",
      "Preparing to unpack .../2-libjansi-java_1.16-1_all.deb ...\n",
      "Unpacking libjansi-java (1.16-1) ...\n",
      "Selecting previously unselected package libjline2-java.\n",
      "Preparing to unpack .../3-libjline2-java_2.14.6-1_all.deb ...\n",
      "Unpacking libjline2-java (2.14.6-1) ...\n",
      "Selecting previously unselected package scala-library.\n",
      "Preparing to unpack .../4-scala-library_2.11.12-4~18.04_all.deb ...\n",
      "Unpacking scala-library (2.11.12-4~18.04) ...\n",
      "Selecting previously unselected package scala-parser-combinators.\n",
      "Preparing to unpack .../5-scala-parser-combinators_1.0.3-3_all.deb ...\n",
      "Unpacking scala-parser-combinators (1.0.3-3) ...\n",
      "Selecting previously unselected package scala-xml.\n",
      "Preparing to unpack .../6-scala-xml_1.0.3-3_all.deb ...\n",
      "Unpacking scala-xml (1.0.3-3) ...\n",
      "Selecting previously unselected package scala.\n",
      "Preparing to unpack .../7-scala_2.11.12-4~18.04_all.deb ...\n",
      "Unpacking scala (2.11.12-4~18.04) ...\n",
      "Setting up scala-parser-combinators (1.0.3-3) ...\n",
      "Setting up libhawtjni-runtime-java (1.15-2) ...\n",
      "Setting up scala-library (2.11.12-4~18.04) ...\n",
      "Setting up scala-xml (1.0.3-3) ...\n",
      "Setting up libjansi-native-java (1.7-1) ...\n",
      "Setting up libjansi-java (1.16-1) ...\n",
      "Setting up libjline2-java (2.14.6-1) ...\n",
      "Setting up scala (2.11.12-4~18.04) ...\n",
      "update-alternatives: using /usr/share/scala-2.11/bin/scala to provide /usr/bin/scala (scala) in auto mode\n",
      "Collecting py4j\n",
      "  Downloading py4j-0.10.9.3-py2.py3-none-any.whl (198 kB)\n",
      "\u001b[K     |████████████████████████████████| 198 kB 5.2 MB/s \n",
      "\u001b[?25hInstalling collected packages: py4j\n",
      "Successfully installed py4j-0.10.9.3\n"
     ]
    }
   ],
   "source": [
    "!apt-get update\n",
    "!apt-get install openjdk-8-jre\n",
    "!apt-get install scala\n",
    "!pip install py4j\n",
    "!wget -q https://downloads.apache.org/spark/spark-3.1.2/spark-3.1.2-bin-hadoop3.2.tgz\n",
    "!tar xf spark-3.1.2-bin-hadoop3.2.tgz\n",
    "!pip install -q findspark"
   ]
  },
  {
   "cell_type": "code",
   "execution_count": 5,
   "metadata": {
    "colab": {
     "base_uri": "https://localhost:8080/"
    },
    "executionInfo": {
     "elapsed": 213,
     "status": "ok",
     "timestamp": 1639988777145,
     "user": {
      "displayName": "Yiyang Ni",
      "photoUrl": "https://lh3.googleusercontent.com/a/default-user=s64",
      "userId": "18337963620013696405"
     },
     "user_tz": 300
    },
    "id": "5VKPWQEuM2Vi",
    "outputId": "4c76ea1c-0b5a-4a7b-b9ce-eec1c2bf6a57"
   },
   "outputs": [
    {
     "name": "stdout",
     "output_type": "stream",
     "text": [
      "rm: cannot remove '*.zip': No such file or directory\n",
      "drive  spark-3.1.2-bin-hadoop3.2\n"
     ]
    }
   ],
   "source": [
    "!rm -r *.tgz *.zip sample_data\n",
    "!ls"
   ]
  },
  {
   "cell_type": "code",
   "execution_count": 6,
   "metadata": {
    "executionInfo": {
     "elapsed": 3,
     "status": "ok",
     "timestamp": 1639988777145,
     "user": {
      "displayName": "Yiyang Ni",
      "photoUrl": "https://lh3.googleusercontent.com/a/default-user=s64",
      "userId": "18337963620013696405"
     },
     "user_tz": 300
    },
    "id": "5oITIQc7NIPH"
   },
   "outputs": [],
   "source": [
    "import os\n",
    "os.environ[\"JAVA_HOME\"] = \"/usr/lib/jvm/java-8-openjdk-amd64\"\n",
    "os.environ[\"SPARK_HOME\"] = \"/content/spark-3.1.2-bin-hadoop3.2\"\n"
   ]
  },
  {
   "cell_type": "code",
   "execution_count": 7,
   "metadata": {
    "executionInfo": {
     "elapsed": 11150,
     "status": "ok",
     "timestamp": 1639988788292,
     "user": {
      "displayName": "Yiyang Ni",
      "photoUrl": "https://lh3.googleusercontent.com/a/default-user=s64",
      "userId": "18337963620013696405"
     },
     "user_tz": 300
    },
    "id": "b0z5CHznNJ34"
   },
   "outputs": [],
   "source": [
    "import findspark\n",
    "findspark.init()\n",
    "from pyspark.sql import SparkSession\n",
    "# spark = SparkSession.builder.master(\"local[*]\").getOrCreate()\n",
    "spark = SparkSession.builder.appName(\"Test Setup\").getOrCreate()\n",
    "sc = spark.sparkContext"
   ]
  },
  {
   "cell_type": "code",
   "execution_count": 8,
   "metadata": {
    "executionInfo": {
     "elapsed": 11,
     "status": "ok",
     "timestamp": 1639988788292,
     "user": {
      "displayName": "Yiyang Ni",
      "photoUrl": "https://lh3.googleusercontent.com/a/default-user=s64",
      "userId": "18337963620013696405"
     },
     "user_tz": 300
    },
    "id": "2Oit6zW_NLFz"
   },
   "outputs": [],
   "source": [
    "from pyspark.sql import SparkSession\n",
    "import matplotlib.pyplot as plt\n",
    "%matplotlib inline\n",
    "import numpy as np"
   ]
  },
  {
   "cell_type": "code",
   "execution_count": 9,
   "metadata": {
    "executionInfo": {
     "elapsed": 11,
     "status": "ok",
     "timestamp": 1639988788293,
     "user": {
      "displayName": "Yiyang Ni",
      "photoUrl": "https://lh3.googleusercontent.com/a/default-user=s64",
      "userId": "18337963620013696405"
     },
     "user_tz": 300
    },
    "id": "sXU1YaukNOkQ"
   },
   "outputs": [],
   "source": [
    "\n",
    "# print(df_signal.schema)\n",
    "# print(df_date.schema)\n",
    "# print(df_semiconductor.schema)\n",
    "# df_semiconductor.show(3)\n"
   ]
  },
  {
   "cell_type": "code",
   "execution_count": 10,
   "metadata": {
    "executionInfo": {
     "elapsed": 10,
     "status": "ok",
     "timestamp": 1639988788293,
     "user": {
      "displayName": "Yiyang Ni",
      "photoUrl": "https://lh3.googleusercontent.com/a/default-user=s64",
      "userId": "18337963620013696405"
     },
     "user_tz": 300
    },
    "id": "jozuaTdHCKDA"
   },
   "outputs": [],
   "source": [
    "def _np2df(x,tradetime,stocknames):\n",
    "    return pd.DataFrame(x, index = tradetime, columns = stocknames)\n",
    "\n",
    "def _np2sr(x,tradetime,stocknames):\n",
    "    return pd.Series(x, index = tradetime)\n"
   ]
  },
  {
   "cell_type": "code",
   "execution_count": 10,
   "metadata": {
    "executionInfo": {
     "elapsed": 244,
     "status": "ok",
     "timestamp": 1639988788527,
     "user": {
      "displayName": "Yiyang Ni",
      "photoUrl": "https://lh3.googleusercontent.com/a/default-user=s64",
      "userId": "18337963620013696405"
     },
     "user_tz": 300
    },
    "id": "RZQ8sopAzImp"
   },
   "outputs": [],
   "source": []
  },
  {
   "cell_type": "code",
   "execution_count": 15,
   "metadata": {
    "colab": {
     "base_uri": "https://localhost:8080/"
    },
    "executionInfo": {
     "elapsed": 10403,
     "status": "ok",
     "timestamp": 1639989084870,
     "user": {
      "displayName": "Yiyang Ni",
      "photoUrl": "https://lh3.googleusercontent.com/a/default-user=s64",
      "userId": "18337963620013696405"
     },
     "user_tz": 300
    },
    "id": "qhmyFK83NTqJ",
    "outputId": "bd045fd9-7424-4c3f-8adb-314cf6f2cade"
   },
   "outputs": [
    {
     "name": "stdout",
     "output_type": "stream",
     "text": [
      "root\n",
      " |-- time: string (nullable = true)\n",
      " |-- 600791: double (nullable = true)\n",
      "\n",
      "root\n",
      " |-- time: string (nullable = true)\n",
      " |-- close: double (nullable = true)\n",
      "\n",
      "(24,)\n",
      "DataFrame[time: string]\n",
      "+----------+-----+\n",
      "|      time|close|\n",
      "+----------+-----+\n",
      "|2018-01-31| 6.97|\n",
      "|2018-02-28| 6.36|\n",
      "|2018-03-30| 6.34|\n",
      "|2018-04-27| 5.64|\n",
      "|2018-05-31| 5.12|\n",
      "|2018-06-29| 4.31|\n",
      "|2018-07-31|  4.5|\n",
      "|2018-08-31| 3.76|\n",
      "|2018-09-28| 3.81|\n",
      "|2018-10-31| 3.59|\n",
      "|2018-11-30| 3.91|\n",
      "|2018-12-28| 3.64|\n",
      "|2019-01-31| 3.73|\n",
      "|2019-02-28| 4.51|\n",
      "|2019-03-29|  5.0|\n",
      "|2019-04-30| 4.52|\n",
      "|2019-05-31| 4.19|\n",
      "|2019-06-28| 4.24|\n",
      "|2019-07-31|  3.9|\n",
      "|2019-08-30| 3.81|\n",
      "+----------+-----+\n",
      "only showing top 20 rows\n",
      "\n",
      "[1.         0.99850225 0.99536233 0.88546423 0.80382571 0.67665797\n",
      " 0.70648748 0.59030954 0.59815943 0.56362004 0.61385915 0.5714699\n",
      " 0.58559961 0.70805749 0.78498606 0.70962739 0.65781832 0.66566812\n",
      " 0.61228911 0.59815934 0.58088967 0.57303981 0.58088964 0.6028692 ]\n"
     ]
    }
   ],
   "source": [
    "from backtest import backtestData\n",
    "import datetime\n",
    "from pyspark.sql.types import *\n",
    "from pyspark.sql.functions import to_date, to_timestamp\n",
    "import pandas as pd\n",
    "from pyspark.sql import SQLContext\n",
    "path = '/content/drive/My Drive/Colab Notebooks/6893project/data/'\n",
    "signalFile = path + 'signal.csv'\n",
    "# dateFile = path + 'backtestingDate.csv'\n",
    "semiconductorFile = path + 'close.csv'\n",
    "# print(signalFile)\n",
    "df_signal = spark.read.csv(\n",
    "    signalFile, \n",
    "    header=True,\n",
    "    inferSchema = True\n",
    ")\n",
    "# df_date = spark.read.csv(\n",
    "#     dateFile, \n",
    "#     header=False,\n",
    "#     inferSchema = True\n",
    "# )\n",
    "df_semiconductor = spark.read.csv(\n",
    "    semiconductorFile, \n",
    "    header=True,\n",
    "    inferSchema = True\n",
    ")\n",
    "\n",
    "\n",
    "df_signal = df_signal.withColumnRenamed('trade_dt','time')\n",
    "# df_date = df_date.withColumnRenamed('_c0','time')\n",
    "df_semiconductor = df_semiconductor.withColumnRenamed('trade_dt','time')\n",
    "df_signal.printSchema()\n",
    "df_semiconductor.printSchema()\n",
    "pd_signal = df_signal.toPandas()\n",
    "pd_signal = pd_signal.rename(index = dict(pd_signal.time)).drop(\"time\",axis=1)\n",
    "\n",
    "'''\n",
    "df_signal = df_signal.withColumnRenamed('signal90','signal_1').withColumnRenamed('signal80','signal_2').withColumnRenamed('合计滤波80','signal_3').withColumnRenamed('合计滤波90','signal_4')\n",
    "df_signal.show(10)\n",
    "df_date.show(10)\n",
    "df_semiconductor.show(10)\n",
    "'''\n",
    "def normalize(signal):\n",
    "\n",
    "  x = signal.fillna(0)\n",
    "  sum_x = np.maximum(1, x.sum(axis=1))\n",
    "  return x.div(sum_x, axis = 0)\n",
    "norm = normalize(pd_signal)\n",
    "\n",
    "semiconductor = backtestData({'close': df_semiconductor})\n",
    "price = semiconductor.dt['close'].select('time', 'close')\n",
    "timelist = semiconductor.dt['close'].select('time')\n",
    "\n",
    "# temp = timelist.select(to_date(timelist._c0, 'yyyy/M/dd').alias('date')).show(3)\n",
    "# timelist = timelist_temp.withColumn(\"_c0\", timelist_temp[\"_c0\"].cast(IntegerType()))\n",
    "starttime = '2018-01-01'\n",
    "\n",
    "# starttime = datetime.datetime.strptime(starttime, '%Y/%m/%d')\n",
    "\n",
    "#starttime = timelist.head(1)[0]['time']\n",
    "endtime = timelist.tail(1)[0]['time']\n",
    "pd_signal = df_signal.toPandas()\n",
    "#starttime = pd_signal.values[0][0]\n",
    "#endtime = pd_signal.values[-1][0]\n",
    "df_signal = df_semiconductor.join(df_signal,\"time\",\"outer\").orderBy(\"time\")\n",
    "df_signal = df_signal.filter((df_signal.time >= starttime) & (df_signal.time <= endtime))\n",
    "pd_signal = df_signal.toPandas()\n",
    "tradeTime = timelist.filter((timelist.time >= starttime) & (timelist.time <= endtime))\n",
    "tradePrice_temp = price.filter((price.time >= starttime) & (price.time <= endtime))\n",
    "# print(starttime)\n",
    "# print(endtime)\n",
    "# tradePrice_temp.show(20)\n",
    "# print(tradePrice_temp.schema)\n",
    "trade_price = tradePrice_temp.withColumn(\"close\", tradePrice_temp[\"close\"].cast(FloatType()))\n",
    "\n",
    "\n",
    "stocknames = trade_price.columns\n",
    "\n",
    "retn_temp = trade_price.toPandas()\n",
    "retn = (retn_temp['close'] / (retn_temp['close'].shift())-1).fillna(0)\n",
    "retn_temp['ratio'] = retn\n",
    "print(retn.shape)\n",
    "print(tradeTime)\n",
    "\n",
    "df_retn = spark.createDataFrame(retn_temp)\n",
    "\n",
    "valid = trade_price.na.fill(False)\n",
    "valid.show()\n",
    "# valid.show(10)\n",
    "#if 没写\n",
    "data_used = semiconductor.dt['close'].filter((semiconductor.dt['close'].time >= starttime) & (semiconductor.dt['close'].time <= endtime))\n",
    "#signal = strategy(data_used)\n",
    "\n",
    "pd_signal = pd_signal.rename(index = dict(pd_signal.time)).drop(\"time\",axis=1).drop(\"close\",axis=1)\n",
    "pd_signal = pd_signal.ffill()\n",
    "norm_signal = normalize(pd_signal)\n",
    "# print(norm_signal)\n",
    "#trade_simulator()\n",
    "\n",
    "\n",
    "\n",
    "\n",
    "# print(retn)\n",
    "trade_fee = 0.003\n",
    "rf = 0.00\n",
    "mode = 'real'\n",
    "trade_price = trade_price.toPandas()\n",
    "\n",
    "if mode == 'real':\n",
    "  fee_rate = trade_fee/2\n",
    "\n",
    "  retn = df_retn.toPandas()\n",
    "  retn = retn.rename(index = dict(retn.time))\n",
    "  tradetime = retn.index\n",
    "\n",
    "  retn = retn.drop(\"time\",axis=1).drop(\"close\",axis=1).values\n",
    "  baseline = (1 + retn.mean(axis=1)).cumprod()\n",
    "\n",
    "\n",
    "  valid = valid.toPandas()\n",
    "  valid = valid.rename(index = dict(valid.time)).drop(\"time\",axis=1).values\n",
    "  valid[valid != False] = True\n",
    "  norm_signal = norm_signal.values\n",
    "  #print(norm_signal[0][0])\n",
    "  #print(type(norm_signal[0][0]))\n",
    "  \n",
    "  port = np.zeros((trade_price.shape[0],1))\n",
    "  position = norm_signal * 0\n",
    "  cash = port.copy()\n",
    "  fee = port.copy()\n",
    "  for i in range(port.shape[0]):\n",
    "    if i == 0: \n",
    "        cash_before = 1.0\n",
    "        position_before = position[0] * 0\n",
    "        #print(position_before)\n",
    "    else:\n",
    "        cash_before = cash[i-1]\n",
    "        position_before = (1+retn[i]) * position[i-1]\n",
    "        #print(position_before)\n",
    "    port_before = cash_before + position_before.sum()\n",
    "    position_change = (port_before*norm_signal[i]-position_before)*valid[i]\n",
    "\n",
    "    n = (position_change < 0) * position_change\n",
    "    p = (position_change > 0) * position_change\n",
    "    fee[i] = np.abs(position_change).sum()*fee_rate\n",
    "    cash[i] = cash_before-(fee[i]+position_change.sum())\n",
    "    if cash[i] < 0:\n",
    "        adj_ratio = (cash_before-n.sum())/(fee[i]+p.sum())\n",
    "        position_change = p*adj_ratio + n\n",
    "        fee[i] = np.abs(position_change).sum()*fee_rate\n",
    "        cash[i] = 0\n",
    "\n",
    "    position[i] = position_before + position_change\n",
    "    port[i] = port_before-fee[i]\n",
    "\n",
    "  stocknames.pop(0)\n",
    "  cash = cash.reshape(1,cash.shape[0])[0]\n",
    "  port = port.reshape(1,port.shape[0])[0]\n",
    "  real_position = _np2df(position,tradetime,stocknames)\n",
    "  cash = _np2sr(cash,tradetime,stocknames)\n",
    "  accumulated_fee = _np2sr(np.cumsum(fee),tradetime,stocknames)\n",
    "  nv_curve = _np2sr(port,tradetime,stocknames)\n",
    "  excess_return = nv_curve / baseline\n",
    "  print(port)\n",
    "else:\n",
    "    raise Exception('Not implemented.')"
   ]
  },
  {
   "cell_type": "markdown",
   "metadata": {
    "id": "Ij_AbTCs_iW5"
   },
   "source": [
    "# 新段落"
   ]
  },
  {
   "cell_type": "code",
   "execution_count": 16,
   "metadata": {
    "colab": {
     "base_uri": "https://localhost:8080/",
     "height": 318
    },
    "executionInfo": {
     "elapsed": 427,
     "status": "ok",
     "timestamp": 1639989089844,
     "user": {
      "displayName": "Yiyang Ni",
      "photoUrl": "https://lh3.googleusercontent.com/a/default-user=s64",
      "userId": "18337963620013696405"
     },
     "user_tz": 300
    },
    "id": "-NURnKaiNXDg",
    "outputId": "f81e68ed-6f49-4126-93ae-b605f9dddf98"
   },
   "outputs": [
    {
     "name": "stdout",
     "output_type": "stream",
     "text": [
      "24\n"
     ]
    },
    {
     "data": {
      "image/png": "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\n",
      "text/plain": [
       "<Figure size 432x288 with 1 Axes>"
      ]
     },
     "metadata": {
      "needs_background": "light"
     },
     "output_type": "display_data"
    }
   ],
   "source": [
    "xind = [i for i in range(nv_curve.shape[0])]\n",
    "print(nv_curve.shape[0])\n",
    "fig,ax = plt.subplots()\n",
    "ax.plot(nv_curve,label=\"net worth(set Initial capital = 1.0)\")\n",
    "ax.plot(excess_return,label='excess return')\n",
    "ax.plot(baseline,label=\"baseline\")\n",
    "xtick = list(range(0,nv_curve.shape[0],400))\n",
    "xlabel = [nv_curve.index[x] for x in xtick]\n",
    "xtick.append(nv_curve.shape[0])\n",
    "#xlabel.append(nv_curve.index[-1])\n",
    "xind = nv_curve.index\n",
    "ax.set_xticks(xtick)\n",
    "ax.set_xticklabels(xlabel,rotation = 40)\n",
    "plt.rcParams['axes.unicode_minus'] = False\n",
    "\n",
    "plt.legend()\n",
    "plt.show()"
   ]
  }
 ],
 "metadata": {
  "colab": {
   "collapsed_sections": [],
   "name": "Untitled1.ipynb",
   "provenance": []
  },
  "kernelspec": {
   "display_name": "Python 3",
   "name": "python3"
  },
  "language_info": {
   "name": "python"
  }
 },
 "nbformat": 4,
 "nbformat_minor": 0
}
=======
{
 "nbformat": 4,
 "nbformat_minor": 0,
 "metadata": {
  "colab": {
   "name": "Untitled1.ipynb",
   "provenance": [],
   "collapsed_sections": []
  },
  "kernelspec": {
   "name": "python3",
   "display_name": "Python 3"
  },
  "language_info": {
   "name": "python"
  }
 },
 "cells": [
  {
   "cell_type": "code",
   "metadata": {
    "colab": {
     "base_uri": "https://localhost:8080/"
    },
    "id": "cwih4kmYMnwU",
    "executionInfo": {
     "status": "ok",
     "timestamp": 1639988718612,
     "user_tz": 300,
     "elapsed": 13680,
     "user": {
      "displayName": "Yiyang Ni",
      "photoUrl": "https://lh3.googleusercontent.com/a/default-user=s64",
      "userId": "18337963620013696405"
     }
    },
    "outputId": "e43029c8-e445-45fd-c972-06ef59c3b69f"
   },
   "source": [
    "from google.colab import drive\n",
    "drive.mount('/content/drive')"
   ],
   "execution_count": 2,
   "outputs": [
    {
     "output_type": "stream",
     "name": "stdout",
     "text": [
      "Mounted at /content/drive\n"
     ]
    }
   ]
  },
  {
   "cell_type": "code",
   "metadata": {
    "id": "zqoCOsHqNajc",
    "executionInfo": {
     "status": "ok",
     "timestamp": 1639988718613,
     "user_tz": 300,
     "elapsed": 4,
     "user": {
      "displayName": "Yiyang Ni",
      "photoUrl": "https://lh3.googleusercontent.com/a/default-user=s64",
      "userId": "18337963620013696405"
     }
    }
   },
   "source": [
    "import sys\n",
    "# sys.path.append('/content/gdrive/My Drive/RL/.')\n",
    "sys.path.append('/content/drive/My Drive/Colab Notebooks/6893project/.')"
   ],
   "execution_count": 3,
   "outputs": []
  },
  {
   "cell_type": "code",
   "metadata": {
    "colab": {
     "base_uri": "https://localhost:8080/"
    },
    "id": "K88QAxfJMwZw",
    "executionInfo": {
     "status": "ok",
     "timestamp": 1639988776941,
     "user_tz": 300,
     "elapsed": 58331,
     "user": {
      "displayName": "Yiyang Ni",
      "photoUrl": "https://lh3.googleusercontent.com/a/default-user=s64",
      "userId": "18337963620013696405"
     }
    },
    "outputId": "3baaf2be-e61c-4fbc-ceee-6125ecd19f8e"
   },
   "source": [
    "!apt-get update\n",
    "!apt-get install openjdk-8-jre\n",
    "!apt-get install scala\n",
    "!pip install py4j\n",
    "!wget -q https://downloads.apache.org/spark/spark-3.1.2/spark-3.1.2-bin-hadoop3.2.tgz\n",
    "!tar xf spark-3.1.2-bin-hadoop3.2.tgz\n",
    "!pip install -q findspark"
   ],
   "execution_count": 4,
   "outputs": [
    {
     "output_type": "stream",
     "name": "stdout",
     "text": [
      "\r0% [Working]\r            \rGet:1 http://security.ubuntu.com/ubuntu bionic-security InRelease [88.7 kB]\n",
      "\r0% [Connecting to archive.ubuntu.com (91.189.88.142)] [1 InRelease 14.2 kB/88.7\r                                                                               \rGet:2 https://cloud.r-project.org/bin/linux/ubuntu bionic-cran40/ InRelease [3,626 B]\n",
      "\r0% [Waiting for headers] [1 InRelease 66.3 kB/88.7 kB 75%] [2 InRelease 0 B/3,6\r0% [Waiting for headers] [1 InRelease 88.7 kB/88.7 kB 100%] [Waiting for header\r                                                                               \r0% [Waiting for headers] [Waiting for headers] [Waiting for headers]\r0% [2 InRelease gpgv 3,626 B] [Waiting for headers] [Waiting for headers] [Wait\r                                                                               \rIgn:3 https://developer.download.nvidia.com/compute/cuda/repos/ubuntu1804/x86_64  InRelease\n",
      "\r0% [2 InRelease gpgv 3,626 B] [Waiting for headers] [Waiting for headers] [Wait\r                                                                               \rGet:4 http://ppa.launchpad.net/c2d4u.team/c2d4u4.0+/ubuntu bionic InRelease [15.9 kB]\n",
      "\r0% [2 InRelease gpgv 3,626 B] [Waiting for headers] [4 InRelease 2,572 B/15.9 k\r                                                                               \rHit:5 http://archive.ubuntu.com/ubuntu bionic InRelease\n",
      "\r0% [2 InRelease gpgv 3,626 B] [Waiting for headers] [4 InRelease 8,364 B/15.9 k\r                                                                               \rIgn:6 https://developer.download.nvidia.com/compute/machine-learning/repos/ubuntu1804/x86_64  InRelease\n",
      "\r0% [2 InRelease gpgv 3,626 B] [Waiting for headers] [4 InRelease 14.2 kB/15.9 k\r                                                                               \rGet:7 https://developer.download.nvidia.com/compute/cuda/repos/ubuntu1804/x86_64  Release [696 B]\n",
      "\r0% [2 InRelease gpgv 3,626 B] [Waiting for headers] [4 InRelease 14.2 kB/15.9 k\r0% [2 InRelease gpgv 3,626 B] [Waiting for headers] [4 InRelease 14.2 kB/15.9 k\r                                                                               \rHit:8 https://developer.download.nvidia.com/compute/machine-learning/repos/ubuntu1804/x86_64  Release\n",
      "Get:9 https://developer.download.nvidia.com/compute/cuda/repos/ubuntu1804/x86_64  Release.gpg [836 B]\n",
      "Get:10 http://archive.ubuntu.com/ubuntu bionic-updates InRelease [88.7 kB]\n",
      "Hit:11 http://ppa.launchpad.net/cran/libgit2/ubuntu bionic InRelease\n",
      "Get:12 https://cloud.r-project.org/bin/linux/ubuntu bionic-cran40/ Packages [73.9 kB]\n",
      "Get:13 http://ppa.launchpad.net/deadsnakes/ppa/ubuntu bionic InRelease [15.9 kB]\n",
      "Get:14 http://archive.ubuntu.com/ubuntu bionic-backports InRelease [74.6 kB]\n",
      "Get:15 http://security.ubuntu.com/ubuntu bionic-security/restricted amd64 Packages [691 kB]\n",
      "Get:16 http://security.ubuntu.com/ubuntu bionic-security/universe amd64 Packages [1,452 kB]\n",
      "Hit:17 http://ppa.launchpad.net/graphics-drivers/ppa/ubuntu bionic InRelease\n",
      "Get:18 http://security.ubuntu.com/ubuntu bionic-security/main amd64 Packages [2,461 kB]\n",
      "Get:20 https://developer.download.nvidia.com/compute/cuda/repos/ubuntu1804/x86_64  Packages [833 kB]\n",
      "Get:21 http://ppa.launchpad.net/c2d4u.team/c2d4u4.0+/ubuntu bionic/main Sources [1,821 kB]\n",
      "Get:22 http://archive.ubuntu.com/ubuntu bionic-updates/main amd64 Packages [2,898 kB]\n",
      "Get:23 http://ppa.launchpad.net/c2d4u.team/c2d4u4.0+/ubuntu bionic/main amd64 Packages [934 kB]\n",
      "Get:24 http://archive.ubuntu.com/ubuntu bionic-updates/universe amd64 Packages [2,230 kB]\n",
      "Get:25 http://archive.ubuntu.com/ubuntu bionic-backports/main amd64 Packages [11.6 kB]\n",
      "Get:26 http://archive.ubuntu.com/ubuntu bionic-backports/universe amd64 Packages [12.6 kB]\n",
      "Get:27 http://ppa.launchpad.net/deadsnakes/ppa/ubuntu bionic/main amd64 Packages [45.3 kB]\n",
      "Fetched 13.8 MB in 4s (3,564 kB/s)\n",
      "Reading package lists... Done\n",
      "Reading package lists... Done\n",
      "Building dependency tree       \n",
      "Reading state information... Done\n",
      "The following additional packages will be installed:\n",
      "  fonts-dejavu-core fonts-dejavu-extra libatk-wrapper-java\n",
      "  libatk-wrapper-java-jni libgail-common libgail18 libgtk2.0-0 libgtk2.0-bin\n",
      "  libgtk2.0-common libxxf86dga1 openjdk-8-jre-headless x11-utils\n",
      "Suggested packages:\n",
      "  gvfs icedtea-8-plugin libnss-mdns fonts-ipafont-gothic fonts-ipafont-mincho\n",
      "  fonts-wqy-microhei fonts-wqy-zenhei fonts-indic mesa-utils\n",
      "The following NEW packages will be installed:\n",
      "  fonts-dejavu-core fonts-dejavu-extra libatk-wrapper-java\n",
      "  libatk-wrapper-java-jni libgail-common libgail18 libgtk2.0-0 libgtk2.0-bin\n",
      "  libgtk2.0-common libxxf86dga1 openjdk-8-jre openjdk-8-jre-headless x11-utils\n",
      "0 upgraded, 13 newly installed, 0 to remove and 82 not upgraded.\n",
      "Need to get 33.6 MB of archives.\n",
      "After this operation, 122 MB of additional disk space will be used.\n",
      "Get:1 http://archive.ubuntu.com/ubuntu bionic/main amd64 libxxf86dga1 amd64 2:1.1.4-1 [13.7 kB]\n",
      "Get:2 http://archive.ubuntu.com/ubuntu bionic/main amd64 fonts-dejavu-core all 2.37-1 [1,041 kB]\n",
      "Get:3 http://archive.ubuntu.com/ubuntu bionic/main amd64 fonts-dejavu-extra all 2.37-1 [1,953 kB]\n",
      "Get:4 http://archive.ubuntu.com/ubuntu bionic/main amd64 x11-utils amd64 7.7+3build1 [196 kB]\n",
      "Get:5 http://archive.ubuntu.com/ubuntu bionic/main amd64 libatk-wrapper-java all 0.33.3-20ubuntu0.1 [34.7 kB]\n",
      "Get:6 http://archive.ubuntu.com/ubuntu bionic/main amd64 libatk-wrapper-java-jni amd64 0.33.3-20ubuntu0.1 [28.3 kB]\n",
      "Get:7 http://archive.ubuntu.com/ubuntu bionic/main amd64 libgtk2.0-common all 2.24.32-1ubuntu1 [125 kB]\n",
      "Get:8 http://archive.ubuntu.com/ubuntu bionic/main amd64 libgtk2.0-0 amd64 2.24.32-1ubuntu1 [1,769 kB]\n",
      "Get:9 http://archive.ubuntu.com/ubuntu bionic/main amd64 libgail18 amd64 2.24.32-1ubuntu1 [14.2 kB]\n",
      "Get:10 http://archive.ubuntu.com/ubuntu bionic/main amd64 libgail-common amd64 2.24.32-1ubuntu1 [112 kB]\n",
      "Get:11 http://archive.ubuntu.com/ubuntu bionic/main amd64 libgtk2.0-bin amd64 2.24.32-1ubuntu1 [7,536 B]\n",
      "Get:12 http://archive.ubuntu.com/ubuntu bionic-updates/universe amd64 openjdk-8-jre-headless amd64 8u312-b07-0ubuntu1~18.04 [28.2 MB]\n",
      "Get:13 http://archive.ubuntu.com/ubuntu bionic-updates/universe amd64 openjdk-8-jre amd64 8u312-b07-0ubuntu1~18.04 [69.6 kB]\n",
      "Fetched 33.6 MB in 2s (16.6 MB/s)\n",
      "Selecting previously unselected package libxxf86dga1:amd64.\n",
      "(Reading database ... 155222 files and directories currently installed.)\n",
      "Preparing to unpack .../00-libxxf86dga1_2%3a1.1.4-1_amd64.deb ...\n",
      "Unpacking libxxf86dga1:amd64 (2:1.1.4-1) ...\n",
      "Selecting previously unselected package fonts-dejavu-core.\n",
      "Preparing to unpack .../01-fonts-dejavu-core_2.37-1_all.deb ...\n",
      "Unpacking fonts-dejavu-core (2.37-1) ...\n",
      "Selecting previously unselected package fonts-dejavu-extra.\n",
      "Preparing to unpack .../02-fonts-dejavu-extra_2.37-1_all.deb ...\n",
      "Unpacking fonts-dejavu-extra (2.37-1) ...\n",
      "Selecting previously unselected package x11-utils.\n",
      "Preparing to unpack .../03-x11-utils_7.7+3build1_amd64.deb ...\n",
      "Unpacking x11-utils (7.7+3build1) ...\n",
      "Selecting previously unselected package libatk-wrapper-java.\n",
      "Preparing to unpack .../04-libatk-wrapper-java_0.33.3-20ubuntu0.1_all.deb ...\n",
      "Unpacking libatk-wrapper-java (0.33.3-20ubuntu0.1) ...\n",
      "Selecting previously unselected package libatk-wrapper-java-jni:amd64.\n",
      "Preparing to unpack .../05-libatk-wrapper-java-jni_0.33.3-20ubuntu0.1_amd64.deb ...\n",
      "Unpacking libatk-wrapper-java-jni:amd64 (0.33.3-20ubuntu0.1) ...\n",
      "Selecting previously unselected package libgtk2.0-common.\n",
      "Preparing to unpack .../06-libgtk2.0-common_2.24.32-1ubuntu1_all.deb ...\n",
      "Unpacking libgtk2.0-common (2.24.32-1ubuntu1) ...\n",
      "Selecting previously unselected package libgtk2.0-0:amd64.\n",
      "Preparing to unpack .../07-libgtk2.0-0_2.24.32-1ubuntu1_amd64.deb ...\n",
      "Unpacking libgtk2.0-0:amd64 (2.24.32-1ubuntu1) ...\n",
      "Selecting previously unselected package libgail18:amd64.\n",
      "Preparing to unpack .../08-libgail18_2.24.32-1ubuntu1_amd64.deb ...\n",
      "Unpacking libgail18:amd64 (2.24.32-1ubuntu1) ...\n",
      "Selecting previously unselected package libgail-common:amd64.\n",
      "Preparing to unpack .../09-libgail-common_2.24.32-1ubuntu1_amd64.deb ...\n",
      "Unpacking libgail-common:amd64 (2.24.32-1ubuntu1) ...\n",
      "Selecting previously unselected package libgtk2.0-bin.\n",
      "Preparing to unpack .../10-libgtk2.0-bin_2.24.32-1ubuntu1_amd64.deb ...\n",
      "Unpacking libgtk2.0-bin (2.24.32-1ubuntu1) ...\n",
      "Selecting previously unselected package openjdk-8-jre-headless:amd64.\n",
      "Preparing to unpack .../11-openjdk-8-jre-headless_8u312-b07-0ubuntu1~18.04_amd64.deb ...\n",
      "Unpacking openjdk-8-jre-headless:amd64 (8u312-b07-0ubuntu1~18.04) ...\n",
      "Selecting previously unselected package openjdk-8-jre:amd64.\n",
      "Preparing to unpack .../12-openjdk-8-jre_8u312-b07-0ubuntu1~18.04_amd64.deb ...\n",
      "Unpacking openjdk-8-jre:amd64 (8u312-b07-0ubuntu1~18.04) ...\n",
      "Setting up libgtk2.0-common (2.24.32-1ubuntu1) ...\n",
      "Setting up fonts-dejavu-core (2.37-1) ...\n",
      "Setting up libxxf86dga1:amd64 (2:1.1.4-1) ...\n",
      "Setting up fonts-dejavu-extra (2.37-1) ...\n",
      "Setting up openjdk-8-jre-headless:amd64 (8u312-b07-0ubuntu1~18.04) ...\n",
      "update-alternatives: using /usr/lib/jvm/java-8-openjdk-amd64/jre/bin/orbd to provide /usr/bin/orbd (orbd) in auto mode\n",
      "update-alternatives: using /usr/lib/jvm/java-8-openjdk-amd64/jre/bin/servertool to provide /usr/bin/servertool (servertool) in auto mode\n",
      "update-alternatives: using /usr/lib/jvm/java-8-openjdk-amd64/jre/bin/tnameserv to provide /usr/bin/tnameserv (tnameserv) in auto mode\n",
      "Setting up libgtk2.0-0:amd64 (2.24.32-1ubuntu1) ...\n",
      "Setting up libgail18:amd64 (2.24.32-1ubuntu1) ...\n",
      "Setting up x11-utils (7.7+3build1) ...\n",
      "Setting up libgail-common:amd64 (2.24.32-1ubuntu1) ...\n",
      "Setting up libatk-wrapper-java (0.33.3-20ubuntu0.1) ...\n",
      "Setting up libgtk2.0-bin (2.24.32-1ubuntu1) ...\n",
      "Setting up libatk-wrapper-java-jni:amd64 (0.33.3-20ubuntu0.1) ...\n",
      "Setting up openjdk-8-jre:amd64 (8u312-b07-0ubuntu1~18.04) ...\n",
      "update-alternatives: using /usr/lib/jvm/java-8-openjdk-amd64/jre/bin/policytool to provide /usr/bin/policytool (policytool) in auto mode\n",
      "Processing triggers for man-db (2.8.3-2ubuntu0.1) ...\n",
      "Processing triggers for hicolor-icon-theme (0.17-2) ...\n",
      "Processing triggers for fontconfig (2.12.6-0ubuntu2) ...\n",
      "Processing triggers for mime-support (3.60ubuntu1) ...\n",
      "Processing triggers for libc-bin (2.27-3ubuntu1.3) ...\n",
      "/sbin/ldconfig.real: /usr/local/lib/python3.7/dist-packages/ideep4py/lib/libmkldnn.so.0 is not a symbolic link\n",
      "\n",
      "Reading package lists... Done\n",
      "Building dependency tree       \n",
      "Reading state information... Done\n",
      "The following additional packages will be installed:\n",
      "  libhawtjni-runtime-java libjansi-java libjansi-native-java libjline2-java\n",
      "  scala-library scala-parser-combinators scala-xml\n",
      "Suggested packages:\n",
      "  scala-doc\n",
      "The following NEW packages will be installed:\n",
      "  libhawtjni-runtime-java libjansi-java libjansi-native-java libjline2-java\n",
      "  scala scala-library scala-parser-combinators scala-xml\n",
      "0 upgraded, 8 newly installed, 0 to remove and 82 not upgraded.\n",
      "Need to get 25.0 MB of archives.\n",
      "After this operation, 28.6 MB of additional disk space will be used.\n",
      "Get:1 http://archive.ubuntu.com/ubuntu bionic/universe amd64 libhawtjni-runtime-java all 1.15-2 [27.1 kB]\n",
      "Get:2 http://archive.ubuntu.com/ubuntu bionic/universe amd64 libjansi-native-java all 1.7-1 [19.4 kB]\n",
      "Get:3 http://archive.ubuntu.com/ubuntu bionic/universe amd64 libjansi-java all 1.16-1 [36.2 kB]\n",
      "Get:4 http://archive.ubuntu.com/ubuntu bionic/universe amd64 libjline2-java all 2.14.6-1 [150 kB]\n",
      "Get:5 http://archive.ubuntu.com/ubuntu bionic-updates/universe amd64 scala-library all 2.11.12-4~18.04 [9,589 kB]\n",
      "Get:6 http://archive.ubuntu.com/ubuntu bionic/universe amd64 scala-parser-combinators all 1.0.3-3 [355 kB]\n",
      "Get:7 http://archive.ubuntu.com/ubuntu bionic/universe amd64 scala-xml all 1.0.3-3 [601 kB]\n",
      "Get:8 http://archive.ubuntu.com/ubuntu bionic-updates/universe amd64 scala all 2.11.12-4~18.04 [14.2 MB]\n",
      "Fetched 25.0 MB in 2s (15.1 MB/s)\n",
      "Selecting previously unselected package libhawtjni-runtime-java.\n",
      "(Reading database ... 155673 files and directories currently installed.)\n",
      "Preparing to unpack .../0-libhawtjni-runtime-java_1.15-2_all.deb ...\n",
      "Unpacking libhawtjni-runtime-java (1.15-2) ...\n",
      "Selecting previously unselected package libjansi-native-java.\n",
      "Preparing to unpack .../1-libjansi-native-java_1.7-1_all.deb ...\n",
      "Unpacking libjansi-native-java (1.7-1) ...\n",
      "Selecting previously unselected package libjansi-java.\n",
      "Preparing to unpack .../2-libjansi-java_1.16-1_all.deb ...\n",
      "Unpacking libjansi-java (1.16-1) ...\n",
      "Selecting previously unselected package libjline2-java.\n",
      "Preparing to unpack .../3-libjline2-java_2.14.6-1_all.deb ...\n",
      "Unpacking libjline2-java (2.14.6-1) ...\n",
      "Selecting previously unselected package scala-library.\n",
      "Preparing to unpack .../4-scala-library_2.11.12-4~18.04_all.deb ...\n",
      "Unpacking scala-library (2.11.12-4~18.04) ...\n",
      "Selecting previously unselected package scala-parser-combinators.\n",
      "Preparing to unpack .../5-scala-parser-combinators_1.0.3-3_all.deb ...\n",
      "Unpacking scala-parser-combinators (1.0.3-3) ...\n",
      "Selecting previously unselected package scala-xml.\n",
      "Preparing to unpack .../6-scala-xml_1.0.3-3_all.deb ...\n",
      "Unpacking scala-xml (1.0.3-3) ...\n",
      "Selecting previously unselected package scala.\n",
      "Preparing to unpack .../7-scala_2.11.12-4~18.04_all.deb ...\n",
      "Unpacking scala (2.11.12-4~18.04) ...\n",
      "Setting up scala-parser-combinators (1.0.3-3) ...\n",
      "Setting up libhawtjni-runtime-java (1.15-2) ...\n",
      "Setting up scala-library (2.11.12-4~18.04) ...\n",
      "Setting up scala-xml (1.0.3-3) ...\n",
      "Setting up libjansi-native-java (1.7-1) ...\n",
      "Setting up libjansi-java (1.16-1) ...\n",
      "Setting up libjline2-java (2.14.6-1) ...\n",
      "Setting up scala (2.11.12-4~18.04) ...\n",
      "update-alternatives: using /usr/share/scala-2.11/bin/scala to provide /usr/bin/scala (scala) in auto mode\n",
      "Collecting py4j\n",
      "  Downloading py4j-0.10.9.3-py2.py3-none-any.whl (198 kB)\n",
      "\u001B[K     |████████████████████████████████| 198 kB 5.2 MB/s \n",
      "\u001B[?25hInstalling collected packages: py4j\n",
      "Successfully installed py4j-0.10.9.3\n"
     ]
    }
   ]
  },
  {
   "cell_type": "code",
   "metadata": {
    "colab": {
     "base_uri": "https://localhost:8080/"
    },
    "id": "5VKPWQEuM2Vi",
    "executionInfo": {
     "status": "ok",
     "timestamp": 1639988777145,
     "user_tz": 300,
     "elapsed": 213,
     "user": {
      "displayName": "Yiyang Ni",
      "photoUrl": "https://lh3.googleusercontent.com/a/default-user=s64",
      "userId": "18337963620013696405"
     }
    },
    "outputId": "4c76ea1c-0b5a-4a7b-b9ce-eec1c2bf6a57"
   },
   "source": [
    "!rm -r *.tgz *.zip sample_data\n",
    "!ls"
   ],
   "execution_count": 5,
   "outputs": [
    {
     "output_type": "stream",
     "name": "stdout",
     "text": [
      "rm: cannot remove '*.zip': No such file or directory\n",
      "drive  spark-3.1.2-bin-hadoop3.2\n"
     ]
    }
   ]
  },
  {
   "cell_type": "code",
   "metadata": {
    "id": "5oITIQc7NIPH",
    "executionInfo": {
     "status": "ok",
     "timestamp": 1639988777145,
     "user_tz": 300,
     "elapsed": 3,
     "user": {
      "displayName": "Yiyang Ni",
      "photoUrl": "https://lh3.googleusercontent.com/a/default-user=s64",
      "userId": "18337963620013696405"
     }
    }
   },
   "source": [
    "import os\n",
    "os.environ[\"JAVA_HOME\"] = \"/usr/lib/jvm/java-8-openjdk-amd64\"\n",
    "os.environ[\"SPARK_HOME\"] = \"/content/spark-3.1.2-bin-hadoop3.2\"\n"
   ],
   "execution_count": 6,
   "outputs": []
  },
  {
   "cell_type": "code",
   "metadata": {
    "id": "b0z5CHznNJ34",
    "executionInfo": {
     "status": "ok",
     "timestamp": 1639988788292,
     "user_tz": 300,
     "elapsed": 11150,
     "user": {
      "displayName": "Yiyang Ni",
      "photoUrl": "https://lh3.googleusercontent.com/a/default-user=s64",
      "userId": "18337963620013696405"
     }
    }
   },
   "source": [
    "import findspark\n",
    "findspark.init()\n",
    "from pyspark.sql import SparkSession\n",
    "# spark = SparkSession.builder.master(\"local[*]\").getOrCreate()\n",
    "spark = SparkSession.builder.appName(\"Test Setup\").getOrCreate()\n",
    "sc = spark.sparkContext"
   ],
   "execution_count": 7,
   "outputs": []
  },
  {
   "cell_type": "code",
   "metadata": {
    "id": "2Oit6zW_NLFz",
    "executionInfo": {
     "status": "ok",
     "timestamp": 1639988788292,
     "user_tz": 300,
     "elapsed": 11,
     "user": {
      "displayName": "Yiyang Ni",
      "photoUrl": "https://lh3.googleusercontent.com/a/default-user=s64",
      "userId": "18337963620013696405"
     }
    }
   },
   "source": [
    "from pyspark.sql import SparkSession\n",
    "import matplotlib.pyplot as plt\n",
    "%matplotlib inline\n",
    "import numpy as np"
   ],
   "execution_count": 8,
   "outputs": []
  },
  {
   "cell_type": "code",
   "metadata": {
    "id": "sXU1YaukNOkQ",
    "executionInfo": {
     "status": "ok",
     "timestamp": 1639988788293,
     "user_tz": 300,
     "elapsed": 11,
     "user": {
      "displayName": "Yiyang Ni",
      "photoUrl": "https://lh3.googleusercontent.com/a/default-user=s64",
      "userId": "18337963620013696405"
     }
    }
   },
   "source": [
    "\n",
    "# print(df_signal.schema)\n",
    "# print(df_date.schema)\n",
    "# print(df_semiconductor.schema)\n",
    "# df_semiconductor.show(3)\n"
   ],
   "execution_count": 9,
   "outputs": []
  },
  {
   "cell_type": "code",
   "metadata": {
    "id": "jozuaTdHCKDA",
    "executionInfo": {
     "status": "ok",
     "timestamp": 1639988788293,
     "user_tz": 300,
     "elapsed": 10,
     "user": {
      "displayName": "Yiyang Ni",
      "photoUrl": "https://lh3.googleusercontent.com/a/default-user=s64",
      "userId": "18337963620013696405"
     }
    }
   },
   "source": [
    "def _np2df(x,tradetime,stocknames):\n",
    "    return pd.DataFrame(x, index = tradetime, columns = stocknames)\n",
    "\n",
    "def _np2sr(x,tradetime,stocknames):\n",
    "    return pd.Series(x, index = tradetime)\n"
   ],
   "execution_count": 10,
   "outputs": []
  },
  {
   "cell_type": "code",
   "metadata": {
    "id": "RZQ8sopAzImp",
    "executionInfo": {
     "status": "ok",
     "timestamp": 1639988788527,
     "user_tz": 300,
     "elapsed": 244,
     "user": {
      "displayName": "Yiyang Ni",
      "photoUrl": "https://lh3.googleusercontent.com/a/default-user=s64",
      "userId": "18337963620013696405"
     }
    }
   },
   "source": [],
   "execution_count": 10,
   "outputs": []
  },
  {
   "cell_type": "code",
   "metadata": {
    "colab": {
     "base_uri": "https://localhost:8080/"
    },
    "id": "qhmyFK83NTqJ",
    "executionInfo": {
     "status": "ok",
     "timestamp": 1639989084870,
     "user_tz": 300,
     "elapsed": 10403,
     "user": {
      "displayName": "Yiyang Ni",
      "photoUrl": "https://lh3.googleusercontent.com/a/default-user=s64",
      "userId": "18337963620013696405"
     }
    },
    "outputId": "bd045fd9-7424-4c3f-8adb-314cf6f2cade"
   },
   "source": [
    "from backtest import backtestData\n",
    "import datetime\n",
    "from pyspark.sql.types import *\n",
    "from pyspark.sql.functions import to_date, to_timestamp\n",
    "import pandas as pd\n",
    "from pyspark.sql import SQLContext\n",
    "path = '/content/drive/My Drive/Colab Notebooks/6893project/data/'\n",
    "signalFile = path + 'signal.csv'\n",
    "# dateFile = path + 'backtestingDate.csv'\n",
    "semiconductorFile = path + 'close.csv'\n",
    "# print(signalFile)\n",
    "df_signal = spark.read.csv(\n",
    "    signalFile, \n",
    "    header=True,\n",
    "    inferSchema = True\n",
    ")\n",
    "# df_date = spark.read.csv(\n",
    "#     dateFile, \n",
    "#     header=False,\n",
    "#     inferSchema = True\n",
    "# )\n",
    "df_semiconductor = spark.read.csv(\n",
    "    semiconductorFile, \n",
    "    header=True,\n",
    "    inferSchema = True\n",
    ")\n",
    "\n",
    "\n",
    "df_signal = df_signal.withColumnRenamed('trade_dt','time')\n",
    "# df_date = df_date.withColumnRenamed('_c0','time')\n",
    "df_semiconductor = df_semiconductor.withColumnRenamed('trade_dt','time')\n",
    "df_signal.printSchema()\n",
    "df_semiconductor.printSchema()\n",
    "pd_signal = df_signal.toPandas()\n",
    "pd_signal = pd_signal.rename(index = dict(pd_signal.time)).drop(\"time\",axis=1)\n",
    "\n",
    "'''\n",
    "df_signal = df_signal.withColumnRenamed('signal90','signal_1').withColumnRenamed('signal80','signal_2').withColumnRenamed('合计滤波80','signal_3').withColumnRenamed('合计滤波90','signal_4')\n",
    "df_signal.show(10)\n",
    "df_date.show(10)\n",
    "df_semiconductor.show(10)\n",
    "'''\n",
    "def normalize(signal):\n",
    "\n",
    "  x = signal.fillna(0)\n",
    "  sum_x = np.maximum(1, x.sum(axis=1))\n",
    "  return x.div(sum_x, axis = 0)\n",
    "norm = normalize(pd_signal)\n",
    "\n",
    "semiconductor = backtestData({'close': df_semiconductor})\n",
    "price = semiconductor.dt['close'].select('time', 'close')\n",
    "timelist = semiconductor.dt['close'].select('time')\n",
    "\n",
    "# temp = timelist.select(to_date(timelist._c0, 'yyyy/M/dd').alias('date')).show(3)\n",
    "# timelist = timelist_temp.withColumn(\"_c0\", timelist_temp[\"_c0\"].cast(IntegerType()))\n",
    "starttime = '2018-01-01'\n",
    "\n",
    "# starttime = datetime.datetime.strptime(starttime, '%Y/%m/%d')\n",
    "\n",
    "#starttime = timelist.head(1)[0]['time']\n",
    "endtime = timelist.tail(1)[0]['time']\n",
    "pd_signal = df_signal.toPandas()\n",
    "#starttime = pd_signal.values[0][0]\n",
    "#endtime = pd_signal.values[-1][0]\n",
    "df_signal = df_semiconductor.join(df_signal,\"time\",\"outer\").orderBy(\"time\")\n",
    "df_signal = df_signal.filter((df_signal.time >= starttime) & (df_signal.time <= endtime))\n",
    "pd_signal = df_signal.toPandas()\n",
    "tradeTime = timelist.filter((timelist.time >= starttime) & (timelist.time <= endtime))\n",
    "tradePrice_temp = price.filter((price.time >= starttime) & (price.time <= endtime))\n",
    "# print(starttime)\n",
    "# print(endtime)\n",
    "# tradePrice_temp.show(20)\n",
    "# print(tradePrice_temp.schema)\n",
    "trade_price = tradePrice_temp.withColumn(\"close\", tradePrice_temp[\"close\"].cast(FloatType()))\n",
    "\n",
    "\n",
    "stocknames = trade_price.columns\n",
    "\n",
    "retn_temp = trade_price.toPandas()\n",
    "retn = (retn_temp['close'] / (retn_temp['close'].shift())-1).fillna(0)\n",
    "retn_temp['ratio'] = retn\n",
    "print(retn.shape)\n",
    "print(tradeTime)\n",
    "\n",
    "df_retn = spark.createDataFrame(retn_temp)\n",
    "\n",
    "valid = trade_price.na.fill(False)\n",
    "valid.show()\n",
    "# valid.show(10)\n",
    "#if 没写\n",
    "data_used = semiconductor.dt['close'].filter((semiconductor.dt['close'].time >= starttime) & (semiconductor.dt['close'].time <= endtime))\n",
    "#signal = strategy(data_used)\n",
    "\n",
    "pd_signal = pd_signal.rename(index = dict(pd_signal.time)).drop(\"time\",axis=1).drop(\"close\",axis=1)\n",
    "pd_signal = pd_signal.ffill()\n",
    "norm_signal = normalize(pd_signal)\n",
    "# print(norm_signal)\n",
    "#trade_simulator()\n",
    "\n",
    "\n",
    "\n",
    "\n",
    "# print(retn)\n",
    "trade_fee = 0.003\n",
    "rf = 0.00\n",
    "mode = 'real'\n",
    "trade_price = trade_price.toPandas()\n",
    "\n",
    "if mode == 'real':\n",
    "  fee_rate = trade_fee/2\n",
    "\n",
    "  retn = df_retn.toPandas()\n",
    "  retn = retn.rename(index = dict(retn.time))\n",
    "  tradetime = retn.index\n",
    "\n",
    "  retn = retn.drop(\"time\",axis=1).drop(\"close\",axis=1).values\n",
    "  baseline = (1 + retn.mean(axis=1)).cumprod()\n",
    "\n",
    "\n",
    "  valid = valid.toPandas()\n",
    "  valid = valid.rename(index = dict(valid.time)).drop(\"time\",axis=1).values\n",
    "  valid[valid != False] = True\n",
    "  norm_signal = norm_signal.values\n",
    "  #print(norm_signal[0][0])\n",
    "  #print(type(norm_signal[0][0]))\n",
    "  \n",
    "  port = np.zeros((trade_price.shape[0],1))\n",
    "  position = norm_signal * 0\n",
    "  cash = port.copy()\n",
    "  fee = port.copy()\n",
    "  for i in range(port.shape[0]):\n",
    "    if i == 0: \n",
    "        cash_before = 1.0\n",
    "        position_before = position[0] * 0\n",
    "        #print(position_before)\n",
    "    else:\n",
    "        cash_before = cash[i-1]\n",
    "        position_before = (1+retn[i]) * position[i-1]\n",
    "        #print(position_before)\n",
    "    port_before = cash_before + position_before.sum()\n",
    "    position_change = (port_before*norm_signal[i]-position_before)*valid[i]\n",
    "\n",
    "    n = (position_change < 0) * position_change\n",
    "    p = (position_change > 0) * position_change\n",
    "    fee[i] = np.abs(position_change).sum()*fee_rate\n",
    "    cash[i] = cash_before-(fee[i]+position_change.sum())\n",
    "    if cash[i] < 0:\n",
    "        adj_ratio = (cash_before-n.sum())/(fee[i]+p.sum())\n",
    "        position_change = p*adj_ratio + n\n",
    "        fee[i] = np.abs(position_change).sum()*fee_rate\n",
    "        cash[i] = 0\n",
    "\n",
    "    position[i] = position_before + position_change\n",
    "    port[i] = port_before-fee[i]\n",
    "\n",
    "  stocknames.pop(0)\n",
    "  cash = cash.reshape(1,cash.shape[0])[0]\n",
    "  port = port.reshape(1,port.shape[0])[0]\n",
    "  real_position = _np2df(position,tradetime,stocknames)\n",
    "  cash = _np2sr(cash,tradetime,stocknames)\n",
    "  accumulated_fee = _np2sr(np.cumsum(fee),tradetime,stocknames)\n",
    "  nv_curve = _np2sr(port,tradetime,stocknames)\n",
    "  excess_return = nv_curve / baseline\n",
    "  print(port)\n",
    "else:\n",
    "    raise Exception('Not implemented.')"
   ],
   "execution_count": 15,
   "outputs": [
    {
     "output_type": "stream",
     "name": "stdout",
     "text": [
      "root\n",
      " |-- time: string (nullable = true)\n",
      " |-- 600791: double (nullable = true)\n",
      "\n",
      "root\n",
      " |-- time: string (nullable = true)\n",
      " |-- close: double (nullable = true)\n",
      "\n",
      "(24,)\n",
      "DataFrame[time: string]\n",
      "+----------+-----+\n",
      "|      time|close|\n",
      "+----------+-----+\n",
      "|2018-01-31| 6.97|\n",
      "|2018-02-28| 6.36|\n",
      "|2018-03-30| 6.34|\n",
      "|2018-04-27| 5.64|\n",
      "|2018-05-31| 5.12|\n",
      "|2018-06-29| 4.31|\n",
      "|2018-07-31|  4.5|\n",
      "|2018-08-31| 3.76|\n",
      "|2018-09-28| 3.81|\n",
      "|2018-10-31| 3.59|\n",
      "|2018-11-30| 3.91|\n",
      "|2018-12-28| 3.64|\n",
      "|2019-01-31| 3.73|\n",
      "|2019-02-28| 4.51|\n",
      "|2019-03-29|  5.0|\n",
      "|2019-04-30| 4.52|\n",
      "|2019-05-31| 4.19|\n",
      "|2019-06-28| 4.24|\n",
      "|2019-07-31|  3.9|\n",
      "|2019-08-30| 3.81|\n",
      "+----------+-----+\n",
      "only showing top 20 rows\n",
      "\n",
      "[1.         0.99850225 0.99536233 0.88546423 0.80382571 0.67665797\n",
      " 0.70648748 0.59030954 0.59815943 0.56362004 0.61385915 0.5714699\n",
      " 0.58559961 0.70805749 0.78498606 0.70962739 0.65781832 0.66566812\n",
      " 0.61228911 0.59815934 0.58088967 0.57303981 0.58088964 0.6028692 ]\n"
     ]
    }
   ]
  },
  {
   "cell_type": "markdown",
   "source": [
    "# 新段落"
   ],
   "metadata": {
    "id": "Ij_AbTCs_iW5"
   }
  },
  {
   "cell_type": "code",
   "metadata": {
    "id": "-NURnKaiNXDg",
    "colab": {
     "base_uri": "https://localhost:8080/",
     "height": 318
    },
    "executionInfo": {
     "status": "ok",
     "timestamp": 1639989089844,
     "user_tz": 300,
     "elapsed": 427,
     "user": {
      "displayName": "Yiyang Ni",
      "photoUrl": "https://lh3.googleusercontent.com/a/default-user=s64",
      "userId": "18337963620013696405"
     }
    },
    "outputId": "f81e68ed-6f49-4126-93ae-b605f9dddf98"
   },
   "source": [
    "xind = [i for i in range(nv_curve.shape[0])]\n",
    "print(nv_curve.shape[0])\n",
    "fig,ax = plt.subplots()\n",
    "ax.plot(nv_curve,label=\"net worth(set Initial capital = 1.0)\")\n",
    "ax.plot(excess_return,label='excess return')\n",
    "ax.plot(baseline,label=\"baseline\")\n",
    "xtick = list(range(0,nv_curve.shape[0],400))\n",
    "xlabel = [nv_curve.index[x] for x in xtick]\n",
    "xtick.append(nv_curve.shape[0])\n",
    "#xlabel.append(nv_curve.index[-1])\n",
    "xind = nv_curve.index\n",
    "ax.set_xticks(xtick)\n",
    "ax.set_xticklabels(xlabel,rotation = 40)\n",
    "plt.rcParams['axes.unicode_minus'] = False\n",
    "\n",
    "plt.legend()\n",
    "plt.show()"
   ],
   "execution_count": 16,
   "outputs": [
    {
     "output_type": "stream",
     "name": "stdout",
     "text": [
      "24\n"
     ]
    },
    {
     "output_type": "display_data",
     "data": {
      "image/png": "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\n",
      "text/plain": [
       "<Figure size 432x288 with 1 Axes>"
      ]
     },
     "metadata": {
      "needs_background": "light"
     }
    }
   ]
  }
 ]
}
>>>>>>> 47907284abe9a9cf622c8782ede2b2d9be54d1bb
